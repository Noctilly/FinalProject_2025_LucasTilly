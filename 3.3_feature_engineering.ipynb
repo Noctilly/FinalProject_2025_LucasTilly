{
 "cells": [
  {
   "cell_type": "markdown",
   "id": "5eda1631",
   "metadata": {},
   "source": [
    "## Import necessary libraries"
   ]
  },
  {
   "cell_type": "code",
   "execution_count": null,
   "id": "41713721",
   "metadata": {},
   "outputs": [],
   "source": [
    "# Data imports\n",
    "import pandas as pd"
   ]
  },
  {
   "cell_type": "markdown",
   "id": "9b521f52",
   "metadata": {},
   "source": [
    "# Prepare environment"
   ]
  },
  {
   "cell_type": "code",
   "execution_count": 2,
   "id": "1088bdcb",
   "metadata": {},
   "outputs": [],
   "source": [
    "TRAIN_TEST_SPLIT = 0.8\n",
    "CORR_THRESHOLD = 0.2\n",
    "\n",
    "INTERMEDIATE_SAVE_PATH = \"data/big_matrix_intermediate_saves/\"\n",
    "FEATURES_PATH = \"data/features/\""
   ]
  },
  {
   "cell_type": "markdown",
   "id": "893c4984",
   "metadata": {},
   "source": [
    "# Load Data"
   ]
  },
  {
   "cell_type": "code",
   "execution_count": 3,
   "id": "7388d822",
   "metadata": {},
   "outputs": [],
   "source": [
    "final_data = pd.read_parquet(INTERMEDIATE_SAVE_PATH + \"merged.parquet\")"
   ]
  },
  {
   "cell_type": "markdown",
   "id": "de51d57f",
   "metadata": {},
   "source": [
    "## Only keep meaningful features"
   ]
  },
  {
   "cell_type": "markdown",
   "id": "cc3ea09a",
   "metadata": {},
   "source": [
    "### Compute features correlation with watch_ratio"
   ]
  },
  {
   "cell_type": "code",
   "execution_count": 4,
   "id": "f57c2054",
   "metadata": {},
   "outputs": [
    {
     "data": {
      "text/plain": [
       "user_id                           0.001196\n",
       "video_id                          0.009930\n",
       "watch_ratio                       1.000000\n",
       "video_duration                   -0.290491\n",
       "user_watch_ratio_mean             0.235991\n",
       "user_video_duration_mean         -0.115254\n",
       "video_watch_ratio_mean            0.452279\n",
       "user_feat_watch_ratio_mean        0.328108\n",
       "user_category_watch_ratio_mean    0.338944\n",
       "user_active_degree               -0.016078\n",
       "is_lowactive_period              -0.001660\n",
       "is_live_streamer                 -0.001364\n",
       "is_video_author                  -0.012169\n",
       "follow_user_num                  -0.034921\n",
       "follow_user_num_range            -0.037608\n",
       "fans_user_num                    -0.004155\n",
       "fans_user_num_range              -0.019696\n",
       "friend_user_num                  -0.009547\n",
       "friend_user_num_range            -0.022262\n",
       "register_days                    -0.002990\n",
       "register_days_range               0.008107\n",
       "onehot_feat0                      0.007764\n",
       "onehot_feat1                     -0.055028\n",
       "onehot_feat2                      0.004579\n",
       "onehot_feat3                      0.009567\n",
       "onehot_feat4                     -0.006640\n",
       "onehot_feat5                     -0.004466\n",
       "onehot_feat6                      0.016409\n",
       "onehot_feat7                     -0.016261\n",
       "onehot_feat8                     -0.003664\n",
       "onehot_feat9                      0.009997\n",
       "onehot_feat10                     0.002507\n",
       "onehot_feat11                     0.009462\n",
       "onehot_feat12                    -0.016167\n",
       "onehot_feat13                    -0.004751\n",
       "onehot_feat14                    -0.003454\n",
       "onehot_feat15                     0.004106\n",
       "onehot_feat16                     0.005213\n",
       "onehot_feat17                     0.005077\n",
       "Name: watch_ratio, dtype: float64"
      ]
     },
     "execution_count": 4,
     "metadata": {},
     "output_type": "execute_result"
    }
   ],
   "source": [
    "corr = final_data.corr()[\"watch_ratio\"]\n",
    "corr"
   ]
  },
  {
   "cell_type": "markdown",
   "id": "9da27ada",
   "metadata": {},
   "source": [
    "### Check correlated features"
   ]
  },
  {
   "cell_type": "code",
   "execution_count": 5,
   "id": "d6978ff6",
   "metadata": {},
   "outputs": [
    {
     "data": {
      "text/plain": [
       "watch_ratio                       1.000000\n",
       "video_duration                   -0.290491\n",
       "user_watch_ratio_mean             0.235991\n",
       "video_watch_ratio_mean            0.452279\n",
       "user_feat_watch_ratio_mean        0.328108\n",
       "user_category_watch_ratio_mean    0.338944\n",
       "Name: watch_ratio, dtype: float64"
      ]
     },
     "execution_count": 5,
     "metadata": {},
     "output_type": "execute_result"
    }
   ],
   "source": [
    "corr[abs(corr) > CORR_THRESHOLD]"
   ]
  },
  {
   "cell_type": "markdown",
   "id": "775687be",
   "metadata": {},
   "source": [
    "### Only keep correlated features"
   ]
  },
  {
   "cell_type": "code",
   "execution_count": 6,
   "id": "8e8d8b00",
   "metadata": {},
   "outputs": [],
   "source": [
    "final_data = final_data[[\"user_id\", \"video_id\"] + corr[abs(corr) > CORR_THRESHOLD].index.to_list()]"
   ]
  },
  {
   "cell_type": "markdown",
   "id": "1b8ec3c2",
   "metadata": {},
   "source": [
    "## Save Data for AI"
   ]
  },
  {
   "cell_type": "code",
   "execution_count": 7,
   "id": "4a435e67",
   "metadata": {},
   "outputs": [],
   "source": [
    "final_data.to_parquet(FEATURES_PATH + \"big_matrix_final.parquet\", index=True)"
   ]
  }
 ],
 "metadata": {
  "kernelspec": {
   "display_name": "rema",
   "language": "python",
   "name": "python3"
  },
  "language_info": {
   "codemirror_mode": {
    "name": "ipython",
    "version": 3
   },
   "file_extension": ".py",
   "mimetype": "text/x-python",
   "name": "python",
   "nbconvert_exporter": "python",
   "pygments_lexer": "ipython3",
   "version": "3.11.12"
  }
 },
 "nbformat": 4,
 "nbformat_minor": 5
}
