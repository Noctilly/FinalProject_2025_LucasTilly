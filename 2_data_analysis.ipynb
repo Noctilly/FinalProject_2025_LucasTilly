{
 "cells": [
  {
   "cell_type": "markdown",
   "id": "1e88ce80",
   "metadata": {},
   "source": [
    "## Import necessary libraries"
   ]
  },
  {
   "cell_type": "code",
   "execution_count": null,
   "id": "4088c6c4",
   "metadata": {},
   "outputs": [],
   "source": [
    "# Data imports\n",
    "import numpy as np\n",
    "import pandas as pd"
   ]
  },
  {
   "cell_type": "markdown",
   "id": "de59249f",
   "metadata": {},
   "source": [
    "# Prepare environment"
   ]
  },
  {
   "cell_type": "code",
   "execution_count": null,
   "id": "c3a3d57f",
   "metadata": {},
   "outputs": [],
   "source": [
    "KUAIREC_PATH = \"data_final_project/KuaiRec 2.0/data/\"\n",
    "CLEANED_DATA_PATH = \"data/cleaned/\""
   ]
  },
  {
   "cell_type": "markdown",
   "id": "cd5f5e78",
   "metadata": {},
   "source": [
    "## Load data"
   ]
  },
  {
   "cell_type": "code",
   "execution_count": null,
   "id": "f2169c0e",
   "metadata": {},
   "outputs": [],
   "source": [
    "small_matrix_cleaned = pd.read_parquet(CLEANED_DATA_PATH + \"small_matrix_cleaned.parquet\")\n",
    "big_matrix_cleaned = pd.read_parquet(CLEANED_DATA_PATH + \"big_matrix_cleaned.parquet\")\n",
    "user_features_cleaned = pd.read_parquet(CLEANED_DATA_PATH + \"user_features_cleaned.parquet\")\n",
    "item_categories_cleaned = pd.read_parquet(CLEANED_DATA_PATH + \"item_categories_cleaned.parquet\")\n",
    "item_daily_features_cleaned = pd.read_parquet(CLEANED_DATA_PATH + \"item_daily_features_cleaned.parquet\")\n",
    "social_network_cleaned = pd.read_parquet(CLEANED_DATA_PATH + \"social_network_cleaned.parquet\")\n",
    "caption_category_cleaned = pd.read_parquet(CLEANED_DATA_PATH + \"kuairec_caption_category_cleaned.parquet\")"
   ]
  }
 ],
 "metadata": {
  "language_info": {
   "name": "python"
  }
 },
 "nbformat": 4,
 "nbformat_minor": 5
}
