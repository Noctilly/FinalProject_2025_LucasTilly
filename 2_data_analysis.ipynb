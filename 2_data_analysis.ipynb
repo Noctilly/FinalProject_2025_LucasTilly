{
 "cells": [
  {
   "cell_type": "markdown",
   "id": "1e88ce80",
   "metadata": {},
   "source": [
    "## Import necessary libraries"
   ]
  },
  {
   "cell_type": "code",
   "execution_count": 1,
   "id": "4088c6c4",
   "metadata": {},
   "outputs": [],
   "source": [
    "# Data imports\n",
    "import pandas as pd\n",
    "import matplotlib.pyplot as plt\n",
    "import seaborn as sns"
   ]
  },
  {
   "cell_type": "markdown",
   "id": "de59249f",
   "metadata": {},
   "source": [
    "# Prepare environment"
   ]
  },
  {
   "cell_type": "code",
   "execution_count": 2,
   "id": "c3a3d57f",
   "metadata": {},
   "outputs": [],
   "source": [
    "KUAIREC_PATH = \"data_final_project/KuaiRec 2.0/data/\"\n",
    "CLEANED_DATA_PATH = \"data/cleaned/\""
   ]
  },
  {
   "cell_type": "markdown",
   "id": "cd5f5e78",
   "metadata": {},
   "source": [
    "## Load data"
   ]
  },
  {
   "cell_type": "code",
   "execution_count": null,
   "id": "f2169c0e",
   "metadata": {},
   "outputs": [],
   "source": [
    "big_matrix_cleaned = pd.read_parquet(CLEANED_DATA_PATH + \"big_matrix_cleaned.parquet\")\n",
    "user_features_cleaned = pd.read_parquet(CLEANED_DATA_PATH + \"user_features_cleaned.parquet\")\n",
    "item_categories_cleaned = pd.read_parquet(CLEANED_DATA_PATH + \"item_categories_cleaned.parquet\")\n",
    "item_daily_features_cleaned = pd.read_parquet(CLEANED_DATA_PATH + \"item_daily_features_cleaned.parquet\")\n",
    "social_network_cleaned = pd.read_parquet(CLEANED_DATA_PATH + \"social_network_cleaned.parquet\")\n",
    "caption_category_cleaned = pd.read_parquet(CLEANED_DATA_PATH + \"caption_category_cleaned.parquet\")"
   ]
  },
  {
   "cell_type": "markdown",
   "id": "8a6cd5e8",
   "metadata": {},
   "source": [
    "## Check Dataframes"
   ]
  },
  {
   "cell_type": "code",
   "execution_count": null,
   "id": "b2c914be",
   "metadata": {},
   "outputs": [
    {
     "data": {
      "application/vnd.microsoft.datawrangler.viewer.v0+json": {
       "columns": [
        {
         "name": "index",
         "rawType": "int64",
         "type": "integer"
        },
        {
         "name": "user_id",
         "rawType": "int64",
         "type": "integer"
        },
        {
         "name": "video_id",
         "rawType": "int64",
         "type": "integer"
        },
        {
         "name": "watch_ratio",
         "rawType": "float64",
         "type": "float"
        },
        {
         "name": "video_duration",
         "rawType": "int64",
         "type": "integer"
        }
       ],
       "conversionMethod": "pd.DataFrame",
       "ref": "948a43c1-6289-445b-a042-48e09c39ee8a",
       "rows": [
        [
         "0",
         "0",
         "3649",
         "1.2733965215790926",
         "10867"
        ],
        [
         "2",
         "0",
         "5262",
         "0.1076125442589782",
         "7908"
        ],
        [
         "3",
         "0",
         "1963",
         "1.4343065693430657",
         "9590"
        ],
        [
         "4",
         "0",
         "8234",
         "1.2964545454545457",
         "11000"
        ],
        [
         "5",
         "0",
         "8228",
         "3.1138059701492535",
         "8576"
        ],
        [
         "6",
         "0",
         "6789",
         "0.1753976030752996",
         "13267"
        ],
        [
         "7",
         "0",
         "6812",
         "2.212061894108874",
         "10728"
        ],
        [
         "8",
         "0",
         "183",
         "0.1304918032786885",
         "6100"
        ],
        [
         "9",
         "0",
         "169",
         "2.7666632538138627",
         "9767"
        ],
        [
         "10",
         "0",
         "1988",
         "1.8889678703440431",
         "7034"
        ],
        [
         "11",
         "0",
         "5274",
         "4.248548387096774",
         "6200"
        ],
        [
         "12",
         "0",
         "179",
         "2.1577385857919893",
         "6067"
        ],
        [
         "13",
         "0",
         "3647",
         "0.1281858444054482",
         "11967"
        ],
        [
         "14",
         "0",
         "8248",
         "1.2918181818181818",
         "11000"
        ],
        [
         "15",
         "0",
         "206",
         "0.1697364067497518",
         "9067"
        ],
        [
         "16",
         "0",
         "6801",
         "3.874513197749892",
         "6933"
        ],
        [
         "18",
         "0",
         "3672",
         "1.4420652173913044",
         "9200"
        ],
        [
         "19",
         "0",
         "2000",
         "0.0716965742251223",
         "12260"
        ],
        [
         "20",
         "0",
         "5219",
         "1.443190132747988",
         "9567"
        ],
        [
         "21",
         "0",
         "2007",
         "0.2353020089210852",
         "59634"
        ],
        [
         "22",
         "0",
         "3657",
         "0.0780696851127259",
         "10734"
        ],
        [
         "23",
         "0",
         "211",
         "2.788442109517074",
         "4949"
        ],
        [
         "24",
         "0",
         "5287",
         "0.1664076261527302",
         "9651"
        ],
        [
         "25",
         "0",
         "1913",
         "0.065748031496063",
         "12700"
        ],
        [
         "26",
         "0",
         "3684",
         "0.0811320754716981",
         "10600"
        ],
        [
         "27",
         "0",
         "9591",
         "0.0772630834512022",
         "11312"
        ],
        [
         "28",
         "0",
         "6829",
         "1.7760537884665113",
         "7734"
        ],
        [
         "29",
         "0",
         "1997",
         "2.439693850620216",
         "11367"
        ],
        [
         "30",
         "0",
         "1943",
         "2.345526524148852",
         "6315"
        ],
        [
         "31",
         "0",
         "6731",
         "1.15256",
         "12500"
        ],
        [
         "33",
         "0",
         "5233",
         "1.3400613896381732",
         "10751"
        ],
        [
         "34",
         "0",
         "6843",
         "0.1105194805194805",
         "7700"
        ],
        [
         "35",
         "0",
         "1986",
         "1.5229745431498891",
         "9467"
        ],
        [
         "37",
         "0",
         "2008",
         "0.1356666666666666",
         "6000"
        ],
        [
         "39",
         "0",
         "8261",
         "0.1092578226014998",
         "7734"
        ],
        [
         "40",
         "0",
         "8242",
         "2.3708835996087383",
         "6134"
        ],
        [
         "41",
         "0",
         "8259",
         "2.403380841895923",
         "6034"
        ],
        [
         "42",
         "0",
         "8220",
         "2.530868503662365",
         "5734"
        ],
        [
         "43",
         "0",
         "1965",
         "1.6895393474088292",
         "8336"
        ],
        [
         "44",
         "0",
         "6775",
         "0.0617862621441963",
         "11734"
        ],
        [
         "45",
         "0",
         "8239",
         "2.074151948416036",
         "7134"
        ],
        [
         "46",
         "0",
         "5293",
         "1.5030927835051546",
         "9700"
        ],
        [
         "47",
         "0",
         "6811",
         "4.070534530996907",
         "6791"
        ],
        [
         "48",
         "0",
         "6803",
         "0.1294600568361225",
         "6334"
        ],
        [
         "49",
         "0",
         "9645",
         "1.7442599788060755",
         "8493"
        ],
        [
         "50",
         "0",
         "3664",
         "0.1219057307561884",
         "11796"
        ],
        [
         "51",
         "0",
         "8260",
         "3.090928961748634",
         "9150"
        ],
        [
         "52",
         "0",
         "5292",
         "0.079342091652012",
         "9667"
        ],
        [
         "53",
         "0",
         "3578",
         "0.0705150068212824",
         "11728"
        ],
        [
         "54",
         "0",
         "9595",
         "0.0804609118903347",
         "10067"
        ]
       ],
       "shape": {
        "columns": 4,
        "rows": 8591377
       }
      },
      "text/html": [
       "<div>\n",
       "<style scoped>\n",
       "    .dataframe tbody tr th:only-of-type {\n",
       "        vertical-align: middle;\n",
       "    }\n",
       "\n",
       "    .dataframe tbody tr th {\n",
       "        vertical-align: top;\n",
       "    }\n",
       "\n",
       "    .dataframe thead th {\n",
       "        text-align: right;\n",
       "    }\n",
       "</style>\n",
       "<table border=\"1\" class=\"dataframe\">\n",
       "  <thead>\n",
       "    <tr style=\"text-align: right;\">\n",
       "      <th></th>\n",
       "      <th>user_id</th>\n",
       "      <th>video_id</th>\n",
       "      <th>watch_ratio</th>\n",
       "      <th>video_duration</th>\n",
       "    </tr>\n",
       "  </thead>\n",
       "  <tbody>\n",
       "    <tr>\n",
       "      <th>0</th>\n",
       "      <td>0</td>\n",
       "      <td>3649</td>\n",
       "      <td>1.273397</td>\n",
       "      <td>10867</td>\n",
       "    </tr>\n",
       "    <tr>\n",
       "      <th>2</th>\n",
       "      <td>0</td>\n",
       "      <td>5262</td>\n",
       "      <td>0.107613</td>\n",
       "      <td>7908</td>\n",
       "    </tr>\n",
       "    <tr>\n",
       "      <th>3</th>\n",
       "      <td>0</td>\n",
       "      <td>1963</td>\n",
       "      <td>1.434307</td>\n",
       "      <td>9590</td>\n",
       "    </tr>\n",
       "    <tr>\n",
       "      <th>4</th>\n",
       "      <td>0</td>\n",
       "      <td>8234</td>\n",
       "      <td>1.296455</td>\n",
       "      <td>11000</td>\n",
       "    </tr>\n",
       "    <tr>\n",
       "      <th>5</th>\n",
       "      <td>0</td>\n",
       "      <td>8228</td>\n",
       "      <td>3.113806</td>\n",
       "      <td>8576</td>\n",
       "    </tr>\n",
       "    <tr>\n",
       "      <th>...</th>\n",
       "      <td>...</td>\n",
       "      <td>...</td>\n",
       "      <td>...</td>\n",
       "      <td>...</td>\n",
       "    </tr>\n",
       "    <tr>\n",
       "      <th>12530798</th>\n",
       "      <td>7175</td>\n",
       "      <td>1776</td>\n",
       "      <td>0.174968</td>\n",
       "      <td>17809</td>\n",
       "    </tr>\n",
       "    <tr>\n",
       "      <th>12530799</th>\n",
       "      <td>7175</td>\n",
       "      <td>6597</td>\n",
       "      <td>1.004462</td>\n",
       "      <td>8741</td>\n",
       "    </tr>\n",
       "    <tr>\n",
       "      <th>12530800</th>\n",
       "      <td>7175</td>\n",
       "      <td>6630</td>\n",
       "      <td>0.313389</td>\n",
       "      <td>13855</td>\n",
       "    </tr>\n",
       "    <tr>\n",
       "      <th>12530803</th>\n",
       "      <td>7175</td>\n",
       "      <td>10360</td>\n",
       "      <td>1.253997</td>\n",
       "      <td>7067</td>\n",
       "    </tr>\n",
       "    <tr>\n",
       "      <th>12530805</th>\n",
       "      <td>7175</td>\n",
       "      <td>10389</td>\n",
       "      <td>0.857313</td>\n",
       "      <td>14304</td>\n",
       "    </tr>\n",
       "  </tbody>\n",
       "</table>\n",
       "<p>8591377 rows × 4 columns</p>\n",
       "</div>"
      ],
      "text/plain": [
       "          user_id  video_id  watch_ratio  video_duration\n",
       "0               0      3649     1.273397           10867\n",
       "2               0      5262     0.107613            7908\n",
       "3               0      1963     1.434307            9590\n",
       "4               0      8234     1.296455           11000\n",
       "5               0      8228     3.113806            8576\n",
       "...           ...       ...          ...             ...\n",
       "12530798     7175      1776     0.174968           17809\n",
       "12530799     7175      6597     1.004462            8741\n",
       "12530800     7175      6630     0.313389           13855\n",
       "12530803     7175     10360     1.253997            7067\n",
       "12530805     7175     10389     0.857313           14304\n",
       "\n",
       "[8591377 rows x 4 columns]"
      ]
     },
     "execution_count": 4,
     "metadata": {},
     "output_type": "execute_result"
    }
   ],
   "source": [
    "big_matrix_cleaned"
   ]
  },
  {
   "cell_type": "code",
   "execution_count": 5,
   "id": "729305c5",
   "metadata": {},
   "outputs": [
    {
     "data": {
      "application/vnd.microsoft.datawrangler.viewer.v0+json": {
       "columns": [
        {
         "name": "index",
         "rawType": "int64",
         "type": "integer"
        },
        {
         "name": "user_id",
         "rawType": "int64",
         "type": "integer"
        },
        {
         "name": "user_active_degree",
         "rawType": "int64",
         "type": "integer"
        },
        {
         "name": "is_lowactive_period",
         "rawType": "int64",
         "type": "integer"
        },
        {
         "name": "is_live_streamer",
         "rawType": "int64",
         "type": "integer"
        },
        {
         "name": "is_video_author",
         "rawType": "int64",
         "type": "integer"
        },
        {
         "name": "follow_user_num",
         "rawType": "int64",
         "type": "integer"
        },
        {
         "name": "follow_user_num_range",
         "rawType": "int64",
         "type": "integer"
        },
        {
         "name": "fans_user_num",
         "rawType": "int64",
         "type": "integer"
        },
        {
         "name": "fans_user_num_range",
         "rawType": "int64",
         "type": "integer"
        },
        {
         "name": "friend_user_num",
         "rawType": "int64",
         "type": "integer"
        },
        {
         "name": "friend_user_num_range",
         "rawType": "int64",
         "type": "integer"
        },
        {
         "name": "register_days",
         "rawType": "int64",
         "type": "integer"
        },
        {
         "name": "register_days_range",
         "rawType": "int64",
         "type": "integer"
        },
        {
         "name": "onehot_feat0",
         "rawType": "float64",
         "type": "float"
        },
        {
         "name": "onehot_feat1",
         "rawType": "float64",
         "type": "float"
        },
        {
         "name": "onehot_feat2",
         "rawType": "float64",
         "type": "float"
        },
        {
         "name": "onehot_feat3",
         "rawType": "float64",
         "type": "float"
        },
        {
         "name": "onehot_feat4",
         "rawType": "float64",
         "type": "float"
        },
        {
         "name": "onehot_feat5",
         "rawType": "float64",
         "type": "float"
        },
        {
         "name": "onehot_feat6",
         "rawType": "float64",
         "type": "float"
        },
        {
         "name": "onehot_feat7",
         "rawType": "float64",
         "type": "float"
        },
        {
         "name": "onehot_feat8",
         "rawType": "float64",
         "type": "float"
        },
        {
         "name": "onehot_feat9",
         "rawType": "float64",
         "type": "float"
        },
        {
         "name": "onehot_feat10",
         "rawType": "float64",
         "type": "float"
        },
        {
         "name": "onehot_feat11",
         "rawType": "float64",
         "type": "float"
        },
        {
         "name": "onehot_feat12",
         "rawType": "float64",
         "type": "float"
        },
        {
         "name": "onehot_feat13",
         "rawType": "float64",
         "type": "float"
        },
        {
         "name": "onehot_feat14",
         "rawType": "float64",
         "type": "float"
        },
        {
         "name": "onehot_feat15",
         "rawType": "float64",
         "type": "float"
        },
        {
         "name": "onehot_feat16",
         "rawType": "float64",
         "type": "float"
        },
        {
         "name": "onehot_feat17",
         "rawType": "float64",
         "type": "float"
        }
       ],
       "conversionMethod": "pd.DataFrame",
       "ref": "9465ec8c-b240-4fc7-bfd9-8b8935b19ec4",
       "rows": [
        [
         "0",
         "0",
         "0",
         "0",
         "0",
         "0",
         "5",
         "0",
         "0",
         "0",
         "0",
         "0",
         "107",
         "0",
         "-1.0",
         "-0.6666666666666667",
         "0.17241379310344818",
         "0.19140989729225022",
         "-0.6363636363636364",
         "-1.0",
         "0.0",
         "-0.7391304347826086",
         "0.08554572271386429",
         "1.0",
         "0.5",
         "-1.0",
         "-1.0",
         "-1.0",
         "-1.0",
         "-1.0",
         "-1.0",
         "-1.0"
        ],
        [
         "1",
         "1",
         "1",
         "0",
         "0",
         "0",
         "386",
         "1",
         "4",
         "1",
         "2",
         "1",
         "327",
         "1",
         "-1.0",
         "0.0",
         "0.7241379310344827",
         "0.9066293183940244",
         "-1.0",
         "-1.0",
         "0.0",
         "-0.7391304347826086",
         "0.09734513274336276",
         "1.0",
         "0.0",
         "-1.0",
         "-1.0",
         "-1.0",
         "-1.0",
         "-1.0",
         "-1.0",
         "-1.0"
        ],
        [
         "2",
         "2",
         "1",
         "0",
         "0",
         "0",
         "27",
         "2",
         "0",
         "0",
         "0",
         "0",
         "116",
         "2",
         "-1.0",
         "1.0",
         "-0.4482758620689655",
         "-0.24929971988795518",
         "-1.0",
         "-1.0",
         "-1.0",
         "-0.9130434782608696",
         "-0.6991150442477876",
         "-0.33333333333333337",
         "0.5",
         "-1.0",
         "-1.0",
         "-1.0",
         "-1.0",
         "-1.0",
         "-1.0",
         "-1.0"
        ],
        [
         "3",
         "3",
         "1",
         "0",
         "0",
         "0",
         "16",
         "2",
         "0",
         "0",
         "0",
         "0",
         "105",
         "0",
         "-1.0",
         "-0.6666666666666667",
         "-0.4482758620689655",
         "-0.4752567693744164",
         "-1.0",
         "-1.0",
         "-1.0",
         "0.4782608695652173",
         "0.4808259587020649",
         "0.0",
         "0.0",
         "-1.0",
         "-1.0",
         "-1.0",
         "-1.0",
         "-1.0",
         "-1.0",
         "-1.0"
        ],
        [
         "4",
         "4",
         "1",
         "0",
         "0",
         "0",
         "122",
         "3",
         "4",
         "1",
         "0",
         "0",
         "225",
         "1",
         "-1.0",
         "-0.6666666666666667",
         "-0.4482758620689655",
         "-0.4098972922502334",
         "-0.8181818181818181",
         "-1.0",
         "0.0",
         "1.0",
         "-0.415929203539823",
         "0.33333333333333326",
         "0.0",
         "-1.0",
         "-1.0",
         "-1.0",
         "-1.0",
         "-1.0",
         "-1.0",
         "-1.0"
        ],
        [
         "5",
         "5",
         "1",
         "0",
         "0",
         "0",
         "17",
         "2",
         "0",
         "0",
         "0",
         "0",
         "376",
         "1",
         "1.0",
         "-0.6666666666666667",
         "-0.4482758620689655",
         "-0.7030812324929971",
         "-1.0",
         "-1.0",
         "-1.0",
         "-0.21739130434782616",
         "-0.5752212389380531",
         "1.0",
         "-1.0",
         "-1.0",
         "-1.0",
         "-1.0",
         "-1.0",
         "-1.0",
         "-1.0",
         "-1.0"
        ],
        [
         "6",
         "6",
         "1",
         "0",
         "0",
         "0",
         "330",
         "1",
         "1",
         "1",
         "1",
         "1",
         "172",
         "1",
         "-1.0",
         "-0.6666666666666667",
         "0.17241379310344818",
         "0.23996265172735765",
         "-0.8181818181818181",
         "-1.0",
         "0.0",
         "-0.30434782608695654",
         "0.3982300884955752",
         "0.0",
         "0.5",
         "-1.0",
         "-1.0",
         "-1.0",
         "-1.0",
         "-1.0",
         "-1.0",
         "-1.0"
        ]
       ],
       "shape": {
        "columns": 31,
        "rows": 7
       }
      },
      "text/html": [
       "<div>\n",
       "<style scoped>\n",
       "    .dataframe tbody tr th:only-of-type {\n",
       "        vertical-align: middle;\n",
       "    }\n",
       "\n",
       "    .dataframe tbody tr th {\n",
       "        vertical-align: top;\n",
       "    }\n",
       "\n",
       "    .dataframe thead th {\n",
       "        text-align: right;\n",
       "    }\n",
       "</style>\n",
       "<table border=\"1\" class=\"dataframe\">\n",
       "  <thead>\n",
       "    <tr style=\"text-align: right;\">\n",
       "      <th></th>\n",
       "      <th>user_id</th>\n",
       "      <th>user_active_degree</th>\n",
       "      <th>is_lowactive_period</th>\n",
       "      <th>is_live_streamer</th>\n",
       "      <th>is_video_author</th>\n",
       "      <th>follow_user_num</th>\n",
       "      <th>follow_user_num_range</th>\n",
       "      <th>fans_user_num</th>\n",
       "      <th>fans_user_num_range</th>\n",
       "      <th>friend_user_num</th>\n",
       "      <th>...</th>\n",
       "      <th>onehot_feat8</th>\n",
       "      <th>onehot_feat9</th>\n",
       "      <th>onehot_feat10</th>\n",
       "      <th>onehot_feat11</th>\n",
       "      <th>onehot_feat12</th>\n",
       "      <th>onehot_feat13</th>\n",
       "      <th>onehot_feat14</th>\n",
       "      <th>onehot_feat15</th>\n",
       "      <th>onehot_feat16</th>\n",
       "      <th>onehot_feat17</th>\n",
       "    </tr>\n",
       "  </thead>\n",
       "  <tbody>\n",
       "    <tr>\n",
       "      <th>0</th>\n",
       "      <td>0</td>\n",
       "      <td>0</td>\n",
       "      <td>0</td>\n",
       "      <td>0</td>\n",
       "      <td>0</td>\n",
       "      <td>5</td>\n",
       "      <td>0</td>\n",
       "      <td>0</td>\n",
       "      <td>0</td>\n",
       "      <td>0</td>\n",
       "      <td>...</td>\n",
       "      <td>0.085546</td>\n",
       "      <td>1.000000</td>\n",
       "      <td>0.5</td>\n",
       "      <td>-1.0</td>\n",
       "      <td>-1.0</td>\n",
       "      <td>-1.0</td>\n",
       "      <td>-1.0</td>\n",
       "      <td>-1.0</td>\n",
       "      <td>-1.0</td>\n",
       "      <td>-1.0</td>\n",
       "    </tr>\n",
       "    <tr>\n",
       "      <th>1</th>\n",
       "      <td>1</td>\n",
       "      <td>1</td>\n",
       "      <td>0</td>\n",
       "      <td>0</td>\n",
       "      <td>0</td>\n",
       "      <td>386</td>\n",
       "      <td>1</td>\n",
       "      <td>4</td>\n",
       "      <td>1</td>\n",
       "      <td>2</td>\n",
       "      <td>...</td>\n",
       "      <td>0.097345</td>\n",
       "      <td>1.000000</td>\n",
       "      <td>0.0</td>\n",
       "      <td>-1.0</td>\n",
       "      <td>-1.0</td>\n",
       "      <td>-1.0</td>\n",
       "      <td>-1.0</td>\n",
       "      <td>-1.0</td>\n",
       "      <td>-1.0</td>\n",
       "      <td>-1.0</td>\n",
       "    </tr>\n",
       "    <tr>\n",
       "      <th>2</th>\n",
       "      <td>2</td>\n",
       "      <td>1</td>\n",
       "      <td>0</td>\n",
       "      <td>0</td>\n",
       "      <td>0</td>\n",
       "      <td>27</td>\n",
       "      <td>2</td>\n",
       "      <td>0</td>\n",
       "      <td>0</td>\n",
       "      <td>0</td>\n",
       "      <td>...</td>\n",
       "      <td>-0.699115</td>\n",
       "      <td>-0.333333</td>\n",
       "      <td>0.5</td>\n",
       "      <td>-1.0</td>\n",
       "      <td>-1.0</td>\n",
       "      <td>-1.0</td>\n",
       "      <td>-1.0</td>\n",
       "      <td>-1.0</td>\n",
       "      <td>-1.0</td>\n",
       "      <td>-1.0</td>\n",
       "    </tr>\n",
       "    <tr>\n",
       "      <th>3</th>\n",
       "      <td>3</td>\n",
       "      <td>1</td>\n",
       "      <td>0</td>\n",
       "      <td>0</td>\n",
       "      <td>0</td>\n",
       "      <td>16</td>\n",
       "      <td>2</td>\n",
       "      <td>0</td>\n",
       "      <td>0</td>\n",
       "      <td>0</td>\n",
       "      <td>...</td>\n",
       "      <td>0.480826</td>\n",
       "      <td>0.000000</td>\n",
       "      <td>0.0</td>\n",
       "      <td>-1.0</td>\n",
       "      <td>-1.0</td>\n",
       "      <td>-1.0</td>\n",
       "      <td>-1.0</td>\n",
       "      <td>-1.0</td>\n",
       "      <td>-1.0</td>\n",
       "      <td>-1.0</td>\n",
       "    </tr>\n",
       "    <tr>\n",
       "      <th>4</th>\n",
       "      <td>4</td>\n",
       "      <td>1</td>\n",
       "      <td>0</td>\n",
       "      <td>0</td>\n",
       "      <td>0</td>\n",
       "      <td>122</td>\n",
       "      <td>3</td>\n",
       "      <td>4</td>\n",
       "      <td>1</td>\n",
       "      <td>0</td>\n",
       "      <td>...</td>\n",
       "      <td>-0.415929</td>\n",
       "      <td>0.333333</td>\n",
       "      <td>0.0</td>\n",
       "      <td>-1.0</td>\n",
       "      <td>-1.0</td>\n",
       "      <td>-1.0</td>\n",
       "      <td>-1.0</td>\n",
       "      <td>-1.0</td>\n",
       "      <td>-1.0</td>\n",
       "      <td>-1.0</td>\n",
       "    </tr>\n",
       "    <tr>\n",
       "      <th>5</th>\n",
       "      <td>5</td>\n",
       "      <td>1</td>\n",
       "      <td>0</td>\n",
       "      <td>0</td>\n",
       "      <td>0</td>\n",
       "      <td>17</td>\n",
       "      <td>2</td>\n",
       "      <td>0</td>\n",
       "      <td>0</td>\n",
       "      <td>0</td>\n",
       "      <td>...</td>\n",
       "      <td>-0.575221</td>\n",
       "      <td>1.000000</td>\n",
       "      <td>-1.0</td>\n",
       "      <td>-1.0</td>\n",
       "      <td>-1.0</td>\n",
       "      <td>-1.0</td>\n",
       "      <td>-1.0</td>\n",
       "      <td>-1.0</td>\n",
       "      <td>-1.0</td>\n",
       "      <td>-1.0</td>\n",
       "    </tr>\n",
       "    <tr>\n",
       "      <th>6</th>\n",
       "      <td>6</td>\n",
       "      <td>1</td>\n",
       "      <td>0</td>\n",
       "      <td>0</td>\n",
       "      <td>0</td>\n",
       "      <td>330</td>\n",
       "      <td>1</td>\n",
       "      <td>1</td>\n",
       "      <td>1</td>\n",
       "      <td>1</td>\n",
       "      <td>...</td>\n",
       "      <td>0.398230</td>\n",
       "      <td>0.000000</td>\n",
       "      <td>0.5</td>\n",
       "      <td>-1.0</td>\n",
       "      <td>-1.0</td>\n",
       "      <td>-1.0</td>\n",
       "      <td>-1.0</td>\n",
       "      <td>-1.0</td>\n",
       "      <td>-1.0</td>\n",
       "      <td>-1.0</td>\n",
       "    </tr>\n",
       "  </tbody>\n",
       "</table>\n",
       "<p>7 rows × 31 columns</p>\n",
       "</div>"
      ],
      "text/plain": [
       "   user_id  user_active_degree  is_lowactive_period  is_live_streamer  \\\n",
       "0        0                   0                    0                 0   \n",
       "1        1                   1                    0                 0   \n",
       "2        2                   1                    0                 0   \n",
       "3        3                   1                    0                 0   \n",
       "4        4                   1                    0                 0   \n",
       "5        5                   1                    0                 0   \n",
       "6        6                   1                    0                 0   \n",
       "\n",
       "   is_video_author  follow_user_num  follow_user_num_range  fans_user_num  \\\n",
       "0                0                5                      0              0   \n",
       "1                0              386                      1              4   \n",
       "2                0               27                      2              0   \n",
       "3                0               16                      2              0   \n",
       "4                0              122                      3              4   \n",
       "5                0               17                      2              0   \n",
       "6                0              330                      1              1   \n",
       "\n",
       "   fans_user_num_range  friend_user_num  ...  onehot_feat8  onehot_feat9  \\\n",
       "0                    0                0  ...      0.085546      1.000000   \n",
       "1                    1                2  ...      0.097345      1.000000   \n",
       "2                    0                0  ...     -0.699115     -0.333333   \n",
       "3                    0                0  ...      0.480826      0.000000   \n",
       "4                    1                0  ...     -0.415929      0.333333   \n",
       "5                    0                0  ...     -0.575221      1.000000   \n",
       "6                    1                1  ...      0.398230      0.000000   \n",
       "\n",
       "   onehot_feat10  onehot_feat11  onehot_feat12  onehot_feat13  onehot_feat14  \\\n",
       "0            0.5           -1.0           -1.0           -1.0           -1.0   \n",
       "1            0.0           -1.0           -1.0           -1.0           -1.0   \n",
       "2            0.5           -1.0           -1.0           -1.0           -1.0   \n",
       "3            0.0           -1.0           -1.0           -1.0           -1.0   \n",
       "4            0.0           -1.0           -1.0           -1.0           -1.0   \n",
       "5           -1.0           -1.0           -1.0           -1.0           -1.0   \n",
       "6            0.5           -1.0           -1.0           -1.0           -1.0   \n",
       "\n",
       "   onehot_feat15  onehot_feat16  onehot_feat17  \n",
       "0           -1.0           -1.0           -1.0  \n",
       "1           -1.0           -1.0           -1.0  \n",
       "2           -1.0           -1.0           -1.0  \n",
       "3           -1.0           -1.0           -1.0  \n",
       "4           -1.0           -1.0           -1.0  \n",
       "5           -1.0           -1.0           -1.0  \n",
       "6           -1.0           -1.0           -1.0  \n",
       "\n",
       "[7 rows x 31 columns]"
      ]
     },
     "execution_count": 5,
     "metadata": {},
     "output_type": "execute_result"
    }
   ],
   "source": [
    "user_features_cleaned.head(7)"
   ]
  },
  {
   "cell_type": "code",
   "execution_count": 6,
   "id": "875a0a53",
   "metadata": {},
   "outputs": [
    {
     "data": {
      "application/vnd.microsoft.datawrangler.viewer.v0+json": {
       "columns": [
        {
         "name": "index",
         "rawType": "int64",
         "type": "integer"
        },
        {
         "name": "video_id",
         "rawType": "int64",
         "type": "integer"
        },
        {
         "name": "feat",
         "rawType": "int64",
         "type": "integer"
        },
        {
         "name": "video_watch_ratio_mean",
         "rawType": "float64",
         "type": "float"
        }
       ],
       "conversionMethod": "pd.DataFrame",
       "ref": "fcbb75d1-e60d-49ab-ba74-6d73bf4fa2e8",
       "rows": [
        [
         "0",
         "0",
         "8",
         "1.3698861878737885"
        ],
        [
         "2",
         "2",
         "9",
         "1.173445234801275"
        ],
        [
         "4",
         "4",
         "5",
         "3.087283300416941"
        ],
        [
         "5",
         "5",
         "6",
         "1.2944840933833313"
        ],
        [
         "6",
         "6",
         "19",
         "1.4834936127458018"
        ],
        [
         "7",
         "7",
         "8",
         "1.2656619520529553"
        ],
        [
         "8",
         "8",
         "12",
         "3.367871768902197"
        ]
       ],
       "shape": {
        "columns": 3,
        "rows": 7
       }
      },
      "text/html": [
       "<div>\n",
       "<style scoped>\n",
       "    .dataframe tbody tr th:only-of-type {\n",
       "        vertical-align: middle;\n",
       "    }\n",
       "\n",
       "    .dataframe tbody tr th {\n",
       "        vertical-align: top;\n",
       "    }\n",
       "\n",
       "    .dataframe thead th {\n",
       "        text-align: right;\n",
       "    }\n",
       "</style>\n",
       "<table border=\"1\" class=\"dataframe\">\n",
       "  <thead>\n",
       "    <tr style=\"text-align: right;\">\n",
       "      <th></th>\n",
       "      <th>video_id</th>\n",
       "      <th>feat</th>\n",
       "      <th>video_watch_ratio_mean</th>\n",
       "    </tr>\n",
       "  </thead>\n",
       "  <tbody>\n",
       "    <tr>\n",
       "      <th>0</th>\n",
       "      <td>0</td>\n",
       "      <td>8</td>\n",
       "      <td>1.369886</td>\n",
       "    </tr>\n",
       "    <tr>\n",
       "      <th>2</th>\n",
       "      <td>2</td>\n",
       "      <td>9</td>\n",
       "      <td>1.173445</td>\n",
       "    </tr>\n",
       "    <tr>\n",
       "      <th>4</th>\n",
       "      <td>4</td>\n",
       "      <td>5</td>\n",
       "      <td>3.087283</td>\n",
       "    </tr>\n",
       "    <tr>\n",
       "      <th>5</th>\n",
       "      <td>5</td>\n",
       "      <td>6</td>\n",
       "      <td>1.294484</td>\n",
       "    </tr>\n",
       "    <tr>\n",
       "      <th>6</th>\n",
       "      <td>6</td>\n",
       "      <td>19</td>\n",
       "      <td>1.483494</td>\n",
       "    </tr>\n",
       "    <tr>\n",
       "      <th>7</th>\n",
       "      <td>7</td>\n",
       "      <td>8</td>\n",
       "      <td>1.265662</td>\n",
       "    </tr>\n",
       "    <tr>\n",
       "      <th>8</th>\n",
       "      <td>8</td>\n",
       "      <td>12</td>\n",
       "      <td>3.367872</td>\n",
       "    </tr>\n",
       "  </tbody>\n",
       "</table>\n",
       "</div>"
      ],
      "text/plain": [
       "   video_id  feat  video_watch_ratio_mean\n",
       "0         0     8                1.369886\n",
       "2         2     9                1.173445\n",
       "4         4     5                3.087283\n",
       "5         5     6                1.294484\n",
       "6         6    19                1.483494\n",
       "7         7     8                1.265662\n",
       "8         8    12                3.367872"
      ]
     },
     "execution_count": 6,
     "metadata": {},
     "output_type": "execute_result"
    }
   ],
   "source": [
    "item_categories_cleaned.head(7)"
   ]
  },
  {
   "cell_type": "code",
   "execution_count": 7,
   "id": "265fbf12",
   "metadata": {},
   "outputs": [
    {
     "data": {
      "application/vnd.microsoft.datawrangler.viewer.v0+json": {
       "columns": [
        {
         "name": "index",
         "rawType": "int64",
         "type": "integer"
        },
        {
         "name": "video_id",
         "rawType": "int64",
         "type": "integer"
        },
        {
         "name": "date",
         "rawType": "int64",
         "type": "integer"
        },
        {
         "name": "author_id",
         "rawType": "int64",
         "type": "integer"
        },
        {
         "name": "video_type",
         "rawType": "object",
         "type": "string"
        },
        {
         "name": "upload_dt",
         "rawType": "object",
         "type": "string"
        },
        {
         "name": "upload_type",
         "rawType": "object",
         "type": "string"
        },
        {
         "name": "visible_status",
         "rawType": "object",
         "type": "string"
        },
        {
         "name": "video_duration",
         "rawType": "float64",
         "type": "float"
        },
        {
         "name": "video_width",
         "rawType": "int64",
         "type": "integer"
        },
        {
         "name": "video_height",
         "rawType": "int64",
         "type": "integer"
        },
        {
         "name": "music_id",
         "rawType": "int64",
         "type": "integer"
        },
        {
         "name": "video_tag_id",
         "rawType": "int64",
         "type": "integer"
        },
        {
         "name": "video_tag_name",
         "rawType": "object",
         "type": "string"
        },
        {
         "name": "show_cnt",
         "rawType": "int64",
         "type": "integer"
        },
        {
         "name": "show_user_num",
         "rawType": "int64",
         "type": "integer"
        },
        {
         "name": "play_cnt",
         "rawType": "int64",
         "type": "integer"
        },
        {
         "name": "play_user_num",
         "rawType": "int64",
         "type": "integer"
        },
        {
         "name": "play_duration",
         "rawType": "int64",
         "type": "integer"
        },
        {
         "name": "complete_play_cnt",
         "rawType": "int64",
         "type": "integer"
        },
        {
         "name": "complete_play_user_num",
         "rawType": "int64",
         "type": "integer"
        },
        {
         "name": "valid_play_cnt",
         "rawType": "int64",
         "type": "integer"
        },
        {
         "name": "valid_play_user_num",
         "rawType": "int64",
         "type": "integer"
        },
        {
         "name": "long_time_play_cnt",
         "rawType": "int64",
         "type": "integer"
        },
        {
         "name": "long_time_play_user_num",
         "rawType": "int64",
         "type": "integer"
        },
        {
         "name": "short_time_play_cnt",
         "rawType": "int64",
         "type": "integer"
        },
        {
         "name": "short_time_play_user_num",
         "rawType": "int64",
         "type": "integer"
        },
        {
         "name": "play_progress",
         "rawType": "float64",
         "type": "float"
        },
        {
         "name": "comment_stay_duration",
         "rawType": "int64",
         "type": "integer"
        },
        {
         "name": "like_cnt",
         "rawType": "int64",
         "type": "integer"
        },
        {
         "name": "like_user_num",
         "rawType": "int64",
         "type": "integer"
        },
        {
         "name": "click_like_cnt",
         "rawType": "int64",
         "type": "integer"
        },
        {
         "name": "double_click_cnt",
         "rawType": "int64",
         "type": "integer"
        },
        {
         "name": "cancel_like_cnt",
         "rawType": "int64",
         "type": "integer"
        },
        {
         "name": "cancel_like_user_num",
         "rawType": "int64",
         "type": "integer"
        },
        {
         "name": "comment_cnt",
         "rawType": "int64",
         "type": "integer"
        },
        {
         "name": "comment_user_num",
         "rawType": "int64",
         "type": "integer"
        },
        {
         "name": "direct_comment_cnt",
         "rawType": "int64",
         "type": "integer"
        },
        {
         "name": "reply_comment_cnt",
         "rawType": "int64",
         "type": "integer"
        },
        {
         "name": "delete_comment_cnt",
         "rawType": "int64",
         "type": "integer"
        },
        {
         "name": "delete_comment_user_num",
         "rawType": "int64",
         "type": "integer"
        },
        {
         "name": "comment_like_cnt",
         "rawType": "int64",
         "type": "integer"
        },
        {
         "name": "comment_like_user_num",
         "rawType": "int64",
         "type": "integer"
        },
        {
         "name": "follow_cnt",
         "rawType": "int64",
         "type": "integer"
        },
        {
         "name": "follow_user_num",
         "rawType": "int64",
         "type": "integer"
        },
        {
         "name": "cancel_follow_cnt",
         "rawType": "int64",
         "type": "integer"
        },
        {
         "name": "cancel_follow_user_num",
         "rawType": "int64",
         "type": "integer"
        },
        {
         "name": "share_cnt",
         "rawType": "int64",
         "type": "integer"
        },
        {
         "name": "share_user_num",
         "rawType": "int64",
         "type": "integer"
        },
        {
         "name": "download_cnt",
         "rawType": "int64",
         "type": "integer"
        },
        {
         "name": "download_user_num",
         "rawType": "int64",
         "type": "integer"
        },
        {
         "name": "report_cnt",
         "rawType": "int64",
         "type": "integer"
        },
        {
         "name": "report_user_num",
         "rawType": "int64",
         "type": "integer"
        },
        {
         "name": "reduce_similar_cnt",
         "rawType": "int64",
         "type": "integer"
        },
        {
         "name": "reduce_similar_user_num",
         "rawType": "int64",
         "type": "integer"
        },
        {
         "name": "collect_cnt",
         "rawType": "float64",
         "type": "float"
        },
        {
         "name": "collect_user_num",
         "rawType": "float64",
         "type": "float"
        },
        {
         "name": "cancel_collect_cnt",
         "rawType": "float64",
         "type": "float"
        },
        {
         "name": "cancel_collect_user_num",
         "rawType": "float64",
         "type": "float"
        }
       ],
       "conversionMethod": "pd.DataFrame",
       "ref": "38bd7067-75f8-4766-baae-0878a5be8362",
       "rows": [
        [
         "23",
         "0",
         "20200728",
         "3309",
         "NORMAL",
         "2020-03-30",
         "ShortImport",
         "public",
         "5966.0",
         "720",
         "1280",
         "3350323409",
         "841",
         "建筑",
         "13957",
         "10968",
         "7498",
         "5803",
         "70597490",
         "4377",
         "3827",
         "4280",
         "3787",
         "4280",
         "3787",
         "1312",
         "1033",
         "0.4254147712091747",
         "7449981",
         "462",
         "459",
         "261",
         "201",
         "85",
         "83",
         "10",
         "10",
         "7",
         "3",
         "0",
         "0",
         "177",
         "73",
         "247",
         "247",
         "0",
         "0",
         "0",
         "0",
         "3",
         "3",
         "0",
         "0",
         "3",
         "3",
         "2.0",
         "2.0",
         "0.0",
         "0.0"
        ],
        [
         "24",
         "0",
         "20200729",
         "3309",
         "NORMAL",
         "2020-03-30",
         "ShortImport",
         "public",
         "5966.0",
         "720",
         "1280",
         "3350323409",
         "841",
         "建筑",
         "12614",
         "9692",
         "6915",
         "5187",
         "63053733",
         "3978",
         "3414",
         "3892",
         "3377",
         "3892",
         "3377",
         "1299",
         "996",
         "0.4243818214594041",
         "7084217",
         "443",
         "439",
         "246",
         "197",
         "88",
         "87",
         "7",
         "7",
         "7",
         "0",
         "1",
         "1",
         "165",
         "76",
         "242",
         "242",
         "0",
         "0",
         "0",
         "0",
         "5",
         "5",
         "0",
         "0",
         "5",
         "5",
         "7.0",
         "6.0",
         "4.0",
         "4.0"
        ],
        [
         "25",
         "0",
         "20200730",
         "3309",
         "NORMAL",
         "2020-03-30",
         "ShortImport",
         "public",
         "5966.0",
         "720",
         "1280",
         "3350323409",
         "841",
         "建筑",
         "11873",
         "9081",
         "6849",
         "5163",
         "62212709",
         "3995",
         "3459",
         "3884",
         "3416",
         "3883",
         "3416",
         "1286",
         "961",
         "0.4549511335144487",
         "6685687",
         "411",
         "408",
         "230",
         "181",
         "89",
         "87",
         "9",
         "4",
         "5",
         "4",
         "0",
         "0",
         "124",
         "61",
         "226",
         "226",
         "0",
         "0",
         "4",
         "4",
         "3",
         "3",
         "0",
         "0",
         "1",
         "1",
         "6.0",
         "6.0",
         "3.0",
         "3.0"
        ],
        [
         "26",
         "0",
         "20200731",
         "3309",
         "NORMAL",
         "2020-03-30",
         "ShortImport",
         "public",
         "5966.0",
         "720",
         "1280",
         "3350323409",
         "841",
         "建筑",
         "19334",
         "16191",
         "7743",
         "5975",
         "71656409",
         "4399",
         "3839",
         "4259",
         "3784",
         "4259",
         "3784",
         "1524",
         "1212",
         "0.2884059896995996",
         "8763792",
         "456",
         "450",
         "242",
         "214",
         "83",
         "82",
         "5",
         "5",
         "1",
         "4",
         "0",
         "0",
         "226",
         "104",
         "223",
         "223",
         "0",
         "0",
         "0",
         "0",
         "9",
         "9",
         "0",
         "0",
         "5",
         "5",
         "3.0",
         "3.0",
         "2.0",
         "2.0"
        ],
        [
         "27",
         "0",
         "20200801",
         "3309",
         "NORMAL",
         "2020-03-30",
         "ShortImport",
         "public",
         "5966.0",
         "720",
         "1280",
         "3350323409",
         "841",
         "建筑",
         "31522",
         "26384",
         "15348",
         "12166",
         "148602449",
         "9009",
         "8091",
         "8860",
         "8033",
         "8860",
         "8033",
         "2789",
         "2304",
         "0.3691132365403776",
         "26531472",
         "800",
         "788",
         "439",
         "361",
         "123",
         "119",
         "9",
         "7",
         "4",
         "5",
         "0",
         "0",
         "561",
         "293",
         "275",
         "275",
         "0",
         "0",
         "1",
         "1",
         "9",
         "9",
         "0",
         "0",
         "3",
         "3",
         "7.0",
         "7.0",
         "3.0",
         "3.0"
        ],
        [
         "28",
         "0",
         "20200802",
         "3309",
         "NORMAL",
         "2020-03-30",
         "ShortImport",
         "public",
         "5966.0",
         "720",
         "1280",
         "3350323409",
         "841",
         "建筑",
         "28056",
         "23650",
         "13066",
         "10519",
         "116561860",
         "7314",
         "6521",
         "7135",
         "6460",
         "7135",
         "6460",
         "2309",
         "1929",
         "0.3511755731996833",
         "16623255",
         "710",
         "703",
         "364",
         "345",
         "94",
         "91",
         "5",
         "5",
         "4",
         "1",
         "1",
         "1",
         "398",
         "179",
         "269",
         "269",
         "0",
         "0",
         "3",
         "3",
         "8",
         "8",
         "0",
         "0",
         "7",
         "7",
         "2.0",
         "2.0",
         "2.0",
         "2.0"
        ],
        [
         "29",
         "0",
         "20200803",
         "3309",
         "NORMAL",
         "2020-03-30",
         "ShortImport",
         "public",
         "5966.0",
         "720",
         "1280",
         "3350323409",
         "841",
         "建筑",
         "23521",
         "19905",
         "10548",
         "8638",
         "90087746",
         "5616",
         "5071",
         "5509",
         "5019",
         "5509",
         "5019",
         "1913",
         "1631",
         "0.3375794400124406",
         "11224997",
         "612",
         "609",
         "303",
         "309",
         "95",
         "93",
         "10",
         "10",
         "7",
         "3",
         "0",
         "0",
         "252",
         "118",
         "257",
         "257",
         "0",
         "0",
         "3",
         "3",
         "7",
         "7",
         "0",
         "0",
         "6",
         "6",
         "1.0",
         "1.0",
         "3.0",
         "3.0"
        ]
       ],
       "shape": {
        "columns": 58,
        "rows": 7
       }
      },
      "text/html": [
       "<div>\n",
       "<style scoped>\n",
       "    .dataframe tbody tr th:only-of-type {\n",
       "        vertical-align: middle;\n",
       "    }\n",
       "\n",
       "    .dataframe tbody tr th {\n",
       "        vertical-align: top;\n",
       "    }\n",
       "\n",
       "    .dataframe thead th {\n",
       "        text-align: right;\n",
       "    }\n",
       "</style>\n",
       "<table border=\"1\" class=\"dataframe\">\n",
       "  <thead>\n",
       "    <tr style=\"text-align: right;\">\n",
       "      <th></th>\n",
       "      <th>video_id</th>\n",
       "      <th>date</th>\n",
       "      <th>author_id</th>\n",
       "      <th>video_type</th>\n",
       "      <th>upload_dt</th>\n",
       "      <th>upload_type</th>\n",
       "      <th>visible_status</th>\n",
       "      <th>video_duration</th>\n",
       "      <th>video_width</th>\n",
       "      <th>video_height</th>\n",
       "      <th>...</th>\n",
       "      <th>download_cnt</th>\n",
       "      <th>download_user_num</th>\n",
       "      <th>report_cnt</th>\n",
       "      <th>report_user_num</th>\n",
       "      <th>reduce_similar_cnt</th>\n",
       "      <th>reduce_similar_user_num</th>\n",
       "      <th>collect_cnt</th>\n",
       "      <th>collect_user_num</th>\n",
       "      <th>cancel_collect_cnt</th>\n",
       "      <th>cancel_collect_user_num</th>\n",
       "    </tr>\n",
       "  </thead>\n",
       "  <tbody>\n",
       "    <tr>\n",
       "      <th>23</th>\n",
       "      <td>0</td>\n",
       "      <td>20200728</td>\n",
       "      <td>3309</td>\n",
       "      <td>NORMAL</td>\n",
       "      <td>2020-03-30</td>\n",
       "      <td>ShortImport</td>\n",
       "      <td>public</td>\n",
       "      <td>5966.0</td>\n",
       "      <td>720</td>\n",
       "      <td>1280</td>\n",
       "      <td>...</td>\n",
       "      <td>3</td>\n",
       "      <td>3</td>\n",
       "      <td>0</td>\n",
       "      <td>0</td>\n",
       "      <td>3</td>\n",
       "      <td>3</td>\n",
       "      <td>2.0</td>\n",
       "      <td>2.0</td>\n",
       "      <td>0.0</td>\n",
       "      <td>0.0</td>\n",
       "    </tr>\n",
       "    <tr>\n",
       "      <th>24</th>\n",
       "      <td>0</td>\n",
       "      <td>20200729</td>\n",
       "      <td>3309</td>\n",
       "      <td>NORMAL</td>\n",
       "      <td>2020-03-30</td>\n",
       "      <td>ShortImport</td>\n",
       "      <td>public</td>\n",
       "      <td>5966.0</td>\n",
       "      <td>720</td>\n",
       "      <td>1280</td>\n",
       "      <td>...</td>\n",
       "      <td>5</td>\n",
       "      <td>5</td>\n",
       "      <td>0</td>\n",
       "      <td>0</td>\n",
       "      <td>5</td>\n",
       "      <td>5</td>\n",
       "      <td>7.0</td>\n",
       "      <td>6.0</td>\n",
       "      <td>4.0</td>\n",
       "      <td>4.0</td>\n",
       "    </tr>\n",
       "    <tr>\n",
       "      <th>25</th>\n",
       "      <td>0</td>\n",
       "      <td>20200730</td>\n",
       "      <td>3309</td>\n",
       "      <td>NORMAL</td>\n",
       "      <td>2020-03-30</td>\n",
       "      <td>ShortImport</td>\n",
       "      <td>public</td>\n",
       "      <td>5966.0</td>\n",
       "      <td>720</td>\n",
       "      <td>1280</td>\n",
       "      <td>...</td>\n",
       "      <td>3</td>\n",
       "      <td>3</td>\n",
       "      <td>0</td>\n",
       "      <td>0</td>\n",
       "      <td>1</td>\n",
       "      <td>1</td>\n",
       "      <td>6.0</td>\n",
       "      <td>6.0</td>\n",
       "      <td>3.0</td>\n",
       "      <td>3.0</td>\n",
       "    </tr>\n",
       "    <tr>\n",
       "      <th>26</th>\n",
       "      <td>0</td>\n",
       "      <td>20200731</td>\n",
       "      <td>3309</td>\n",
       "      <td>NORMAL</td>\n",
       "      <td>2020-03-30</td>\n",
       "      <td>ShortImport</td>\n",
       "      <td>public</td>\n",
       "      <td>5966.0</td>\n",
       "      <td>720</td>\n",
       "      <td>1280</td>\n",
       "      <td>...</td>\n",
       "      <td>9</td>\n",
       "      <td>9</td>\n",
       "      <td>0</td>\n",
       "      <td>0</td>\n",
       "      <td>5</td>\n",
       "      <td>5</td>\n",
       "      <td>3.0</td>\n",
       "      <td>3.0</td>\n",
       "      <td>2.0</td>\n",
       "      <td>2.0</td>\n",
       "    </tr>\n",
       "    <tr>\n",
       "      <th>27</th>\n",
       "      <td>0</td>\n",
       "      <td>20200801</td>\n",
       "      <td>3309</td>\n",
       "      <td>NORMAL</td>\n",
       "      <td>2020-03-30</td>\n",
       "      <td>ShortImport</td>\n",
       "      <td>public</td>\n",
       "      <td>5966.0</td>\n",
       "      <td>720</td>\n",
       "      <td>1280</td>\n",
       "      <td>...</td>\n",
       "      <td>9</td>\n",
       "      <td>9</td>\n",
       "      <td>0</td>\n",
       "      <td>0</td>\n",
       "      <td>3</td>\n",
       "      <td>3</td>\n",
       "      <td>7.0</td>\n",
       "      <td>7.0</td>\n",
       "      <td>3.0</td>\n",
       "      <td>3.0</td>\n",
       "    </tr>\n",
       "    <tr>\n",
       "      <th>28</th>\n",
       "      <td>0</td>\n",
       "      <td>20200802</td>\n",
       "      <td>3309</td>\n",
       "      <td>NORMAL</td>\n",
       "      <td>2020-03-30</td>\n",
       "      <td>ShortImport</td>\n",
       "      <td>public</td>\n",
       "      <td>5966.0</td>\n",
       "      <td>720</td>\n",
       "      <td>1280</td>\n",
       "      <td>...</td>\n",
       "      <td>8</td>\n",
       "      <td>8</td>\n",
       "      <td>0</td>\n",
       "      <td>0</td>\n",
       "      <td>7</td>\n",
       "      <td>7</td>\n",
       "      <td>2.0</td>\n",
       "      <td>2.0</td>\n",
       "      <td>2.0</td>\n",
       "      <td>2.0</td>\n",
       "    </tr>\n",
       "    <tr>\n",
       "      <th>29</th>\n",
       "      <td>0</td>\n",
       "      <td>20200803</td>\n",
       "      <td>3309</td>\n",
       "      <td>NORMAL</td>\n",
       "      <td>2020-03-30</td>\n",
       "      <td>ShortImport</td>\n",
       "      <td>public</td>\n",
       "      <td>5966.0</td>\n",
       "      <td>720</td>\n",
       "      <td>1280</td>\n",
       "      <td>...</td>\n",
       "      <td>7</td>\n",
       "      <td>7</td>\n",
       "      <td>0</td>\n",
       "      <td>0</td>\n",
       "      <td>6</td>\n",
       "      <td>6</td>\n",
       "      <td>1.0</td>\n",
       "      <td>1.0</td>\n",
       "      <td>3.0</td>\n",
       "      <td>3.0</td>\n",
       "    </tr>\n",
       "  </tbody>\n",
       "</table>\n",
       "<p>7 rows × 58 columns</p>\n",
       "</div>"
      ],
      "text/plain": [
       "    video_id      date  author_id video_type   upload_dt  upload_type  \\\n",
       "23         0  20200728       3309     NORMAL  2020-03-30  ShortImport   \n",
       "24         0  20200729       3309     NORMAL  2020-03-30  ShortImport   \n",
       "25         0  20200730       3309     NORMAL  2020-03-30  ShortImport   \n",
       "26         0  20200731       3309     NORMAL  2020-03-30  ShortImport   \n",
       "27         0  20200801       3309     NORMAL  2020-03-30  ShortImport   \n",
       "28         0  20200802       3309     NORMAL  2020-03-30  ShortImport   \n",
       "29         0  20200803       3309     NORMAL  2020-03-30  ShortImport   \n",
       "\n",
       "   visible_status  video_duration  video_width  video_height  ...  \\\n",
       "23         public          5966.0          720          1280  ...   \n",
       "24         public          5966.0          720          1280  ...   \n",
       "25         public          5966.0          720          1280  ...   \n",
       "26         public          5966.0          720          1280  ...   \n",
       "27         public          5966.0          720          1280  ...   \n",
       "28         public          5966.0          720          1280  ...   \n",
       "29         public          5966.0          720          1280  ...   \n",
       "\n",
       "    download_cnt  download_user_num report_cnt  report_user_num  \\\n",
       "23             3                  3          0                0   \n",
       "24             5                  5          0                0   \n",
       "25             3                  3          0                0   \n",
       "26             9                  9          0                0   \n",
       "27             9                  9          0                0   \n",
       "28             8                  8          0                0   \n",
       "29             7                  7          0                0   \n",
       "\n",
       "    reduce_similar_cnt  reduce_similar_user_num  collect_cnt  \\\n",
       "23                   3                        3          2.0   \n",
       "24                   5                        5          7.0   \n",
       "25                   1                        1          6.0   \n",
       "26                   5                        5          3.0   \n",
       "27                   3                        3          7.0   \n",
       "28                   7                        7          2.0   \n",
       "29                   6                        6          1.0   \n",
       "\n",
       "    collect_user_num  cancel_collect_cnt  cancel_collect_user_num  \n",
       "23               2.0                 0.0                      0.0  \n",
       "24               6.0                 4.0                      4.0  \n",
       "25               6.0                 3.0                      3.0  \n",
       "26               3.0                 2.0                      2.0  \n",
       "27               7.0                 3.0                      3.0  \n",
       "28               2.0                 2.0                      2.0  \n",
       "29               1.0                 3.0                      3.0  \n",
       "\n",
       "[7 rows x 58 columns]"
      ]
     },
     "execution_count": 7,
     "metadata": {},
     "output_type": "execute_result"
    }
   ],
   "source": [
    "item_daily_features_cleaned.head(7)"
   ]
  },
  {
   "cell_type": "code",
   "execution_count": 8,
   "id": "34882d77",
   "metadata": {},
   "outputs": [
    {
     "data": {
      "application/vnd.microsoft.datawrangler.viewer.v0+json": {
       "columns": [
        {
         "name": "index",
         "rawType": "int64",
         "type": "integer"
        },
        {
         "name": "user_id",
         "rawType": "int64",
         "type": "integer"
        },
        {
         "name": "friend_list",
         "rawType": "object",
         "type": "unknown"
        }
       ],
       "conversionMethod": "pd.DataFrame",
       "ref": "ed4ea359-f760-41c1-b9b8-94c58b59c064",
       "rows": [
        [
         "0",
         "3371",
         "[2975]"
        ],
        [
         "1",
         "24",
         "[2665]"
        ],
        [
         "2",
         "4402",
         "[38]"
        ],
        [
         "3",
         "4295",
         "[4694]"
        ],
        [
         "4",
         "7087",
         "[7117]"
        ],
        [
         "5",
         "3981",
         "[3937]"
        ],
        [
         "6",
         "676",
         "[5626]"
        ]
       ],
       "shape": {
        "columns": 2,
        "rows": 7
       }
      },
      "text/html": [
       "<div>\n",
       "<style scoped>\n",
       "    .dataframe tbody tr th:only-of-type {\n",
       "        vertical-align: middle;\n",
       "    }\n",
       "\n",
       "    .dataframe tbody tr th {\n",
       "        vertical-align: top;\n",
       "    }\n",
       "\n",
       "    .dataframe thead th {\n",
       "        text-align: right;\n",
       "    }\n",
       "</style>\n",
       "<table border=\"1\" class=\"dataframe\">\n",
       "  <thead>\n",
       "    <tr style=\"text-align: right;\">\n",
       "      <th></th>\n",
       "      <th>user_id</th>\n",
       "      <th>friend_list</th>\n",
       "    </tr>\n",
       "  </thead>\n",
       "  <tbody>\n",
       "    <tr>\n",
       "      <th>0</th>\n",
       "      <td>3371</td>\n",
       "      <td>[2975]</td>\n",
       "    </tr>\n",
       "    <tr>\n",
       "      <th>1</th>\n",
       "      <td>24</td>\n",
       "      <td>[2665]</td>\n",
       "    </tr>\n",
       "    <tr>\n",
       "      <th>2</th>\n",
       "      <td>4402</td>\n",
       "      <td>[38]</td>\n",
       "    </tr>\n",
       "    <tr>\n",
       "      <th>3</th>\n",
       "      <td>4295</td>\n",
       "      <td>[4694]</td>\n",
       "    </tr>\n",
       "    <tr>\n",
       "      <th>4</th>\n",
       "      <td>7087</td>\n",
       "      <td>[7117]</td>\n",
       "    </tr>\n",
       "    <tr>\n",
       "      <th>5</th>\n",
       "      <td>3981</td>\n",
       "      <td>[3937]</td>\n",
       "    </tr>\n",
       "    <tr>\n",
       "      <th>6</th>\n",
       "      <td>676</td>\n",
       "      <td>[5626]</td>\n",
       "    </tr>\n",
       "  </tbody>\n",
       "</table>\n",
       "</div>"
      ],
      "text/plain": [
       "   user_id friend_list\n",
       "0     3371      [2975]\n",
       "1       24      [2665]\n",
       "2     4402        [38]\n",
       "3     4295      [4694]\n",
       "4     7087      [7117]\n",
       "5     3981      [3937]\n",
       "6      676      [5626]"
      ]
     },
     "execution_count": 8,
     "metadata": {},
     "output_type": "execute_result"
    }
   ],
   "source": [
    "social_network_cleaned.head(7)"
   ]
  },
  {
   "cell_type": "code",
   "execution_count": 9,
   "id": "9f0ba4a5",
   "metadata": {},
   "outputs": [
    {
     "data": {
      "application/vnd.microsoft.datawrangler.viewer.v0+json": {
       "columns": [
        {
         "name": "index",
         "rawType": "int64",
         "type": "integer"
        },
        {
         "name": "video_id",
         "rawType": "int64",
         "type": "integer"
        },
        {
         "name": "first_level_category_id",
         "rawType": "int64",
         "type": "integer"
        }
       ],
       "conversionMethod": "pd.DataFrame",
       "ref": "4bb60cd7-8cf8-487b-85af-22c5572ea4ae",
       "rows": [
        [
         "0",
         "0",
         "8"
        ],
        [
         "2",
         "2",
         "9"
        ],
        [
         "3",
         "3",
         "26"
        ],
        [
         "4",
         "4",
         "5"
        ],
        [
         "5",
         "5",
         "6"
        ],
        [
         "6",
         "6",
         "19"
        ],
        [
         "7",
         "7",
         "8"
        ]
       ],
       "shape": {
        "columns": 2,
        "rows": 7
       }
      },
      "text/html": [
       "<div>\n",
       "<style scoped>\n",
       "    .dataframe tbody tr th:only-of-type {\n",
       "        vertical-align: middle;\n",
       "    }\n",
       "\n",
       "    .dataframe tbody tr th {\n",
       "        vertical-align: top;\n",
       "    }\n",
       "\n",
       "    .dataframe thead th {\n",
       "        text-align: right;\n",
       "    }\n",
       "</style>\n",
       "<table border=\"1\" class=\"dataframe\">\n",
       "  <thead>\n",
       "    <tr style=\"text-align: right;\">\n",
       "      <th></th>\n",
       "      <th>video_id</th>\n",
       "      <th>first_level_category_id</th>\n",
       "    </tr>\n",
       "  </thead>\n",
       "  <tbody>\n",
       "    <tr>\n",
       "      <th>0</th>\n",
       "      <td>0</td>\n",
       "      <td>8</td>\n",
       "    </tr>\n",
       "    <tr>\n",
       "      <th>2</th>\n",
       "      <td>2</td>\n",
       "      <td>9</td>\n",
       "    </tr>\n",
       "    <tr>\n",
       "      <th>3</th>\n",
       "      <td>3</td>\n",
       "      <td>26</td>\n",
       "    </tr>\n",
       "    <tr>\n",
       "      <th>4</th>\n",
       "      <td>4</td>\n",
       "      <td>5</td>\n",
       "    </tr>\n",
       "    <tr>\n",
       "      <th>5</th>\n",
       "      <td>5</td>\n",
       "      <td>6</td>\n",
       "    </tr>\n",
       "    <tr>\n",
       "      <th>6</th>\n",
       "      <td>6</td>\n",
       "      <td>19</td>\n",
       "    </tr>\n",
       "    <tr>\n",
       "      <th>7</th>\n",
       "      <td>7</td>\n",
       "      <td>8</td>\n",
       "    </tr>\n",
       "  </tbody>\n",
       "</table>\n",
       "</div>"
      ],
      "text/plain": [
       "   video_id  first_level_category_id\n",
       "0         0                        8\n",
       "2         2                        9\n",
       "3         3                       26\n",
       "4         4                        5\n",
       "5         5                        6\n",
       "6         6                       19\n",
       "7         7                        8"
      ]
     },
     "execution_count": 9,
     "metadata": {},
     "output_type": "execute_result"
    }
   ],
   "source": [
    "caption_category_cleaned.head(7)"
   ]
  },
  {
   "cell_type": "markdown",
   "id": "9ac4d595",
   "metadata": {},
   "source": [
    "## EDA"
   ]
  },
  {
   "cell_type": "markdown",
   "id": "69716727",
   "metadata": {},
   "source": [
    "We can see in the following plot that videos are mostly watched a little bit less than their entirety.\\\n",
    "Almost no video is watched more than two times"
   ]
  },
  {
   "cell_type": "code",
   "execution_count": null,
   "id": "75170c72",
   "metadata": {},
   "outputs": [
    {
     "data": {
      "image/png": "[encoded data removed]",
      "text/plain": [
       "<Figure size 640x480 with 1 Axes>"
      ]
     },
     "metadata": {},
     "output_type": "display_data"
    }
   ],
   "source": [
    "sns.histplot(big_matrix_cleaned['watch_ratio'], bins=30, kde=True)\n",
    "plt.title('Distribution of Watch Ratio')\n",
    "plt.xlabel('Watch Ratio')\n",
    "plt.ylabel('Frequency')\n",
    "plt.show()"
   ]
  },
  {
   "cell_type": "markdown",
   "id": "8c6cd938",
   "metadata": {},
   "source": [
    "Here we can observe the frequency of each video tag, showing a clear dominance of the tags 11 and 28, with a drastic fall of use count for the tags arriving next"
   ]
  },
  {
   "cell_type": "code",
   "execution_count": 11,
   "id": "a4388787",
   "metadata": {},
   "outputs": [
    {
     "name": "stderr",
     "output_type": "stream",
     "text": [
      "/tmp/ipykernel_616555/1604357152.py:6: FutureWarning: \n",
      "\n",
      "Passing `palette` without assigning `hue` is deprecated and will be removed in v0.14.0. Assign the `y` variable to `hue` and set `legend=False` for the same effect.\n",
      "\n",
      "  sns.barplot(data=freq_df, y='feat', x='Count', palette='Spectral')\n"
     ]
    },
    {
     "data": {
      "image/png": "[encoded data removed]",
      "text/plain": [
       "<Figure size 1000x600 with 1 Axes>"
      ]
     },
     "metadata": {},
     "output_type": "display_data"
    }
   ],
   "source": [
    "tag_totals = item_categories_cleaned[\"feat\"].value_counts().sort_values(ascending=False)\n",
    "freq_df = tag_totals.rename(index=lambda x: f'tag_{x}').reset_index()\n",
    "freq_df.columns = ['feat', 'Count']\n",
    "\n",
    "plt.figure(figsize=(10, 6))\n",
    "sns.barplot(data=freq_df, y='feat', x='Count', palette='Spectral')\n",
    "plt.title('Frequency of Video Tags')\n",
    "plt.xlabel('Count')\n",
    "plt.ylabel('Tag')\n",
    "plt.tight_layout()\n",
    "plt.show()"
   ]
  },
  {
   "cell_type": "markdown",
   "id": "bbe73085",
   "metadata": {},
   "source": [
    "By comparing the play count of videos and their duration, we can have an idea of how Kuaishou recommended the videos to the users.\\\n",
    "We can clearly see that shorter videos are a lot more shown to the users with the first two interval each being 10x more present than the third one."
   ]
  },
  {
   "cell_type": "code",
   "execution_count": 12,
   "id": "a3d0a8e7",
   "metadata": {},
   "outputs": [
    {
     "name": "stderr",
     "output_type": "stream",
     "text": [
      "/tmp/ipykernel_616555/1540097975.py:3: FutureWarning: The default of observed=False is deprecated and will be changed to True in a future version of pandas. Pass observed=False to retain current behavior or observed=True to adopt the future default and silence this warning.\n",
      "  duration_group = item_daily_features_cleaned.groupby('duration_bin')['play_cnt'].sum().reset_index()\n",
      "/tmp/ipykernel_616555/1540097975.py:6: FutureWarning: \n",
      "\n",
      "Passing `palette` without assigning `hue` is deprecated and will be removed in v0.14.0. Assign the `x` variable to `hue` and set `legend=False` for the same effect.\n",
      "\n",
      "  sns.barplot(x=duration_group['duration_bin'], y=duration_group['play_cnt'], palette='Spectral')\n"
     ]
    },
    {
     "data": {
      "image/png": "[encoded data removed]",
      "text/plain": [
       "<Figure size 1200x600 with 1 Axes>"
      ]
     },
     "metadata": {},
     "output_type": "display_data"
    }
   ],
   "source": [
    "item_daily_features_cleaned['duration_bin'] = pd.cut(item_daily_features_cleaned['video_duration'].apply(lambda x: int(x)) // 1000, bins=30)\n",
    "\n",
    "duration_group = item_daily_features_cleaned.groupby('duration_bin')['play_cnt'].sum().reset_index()\n",
    "\n",
    "plt.figure(figsize=(12, 6))\n",
    "sns.barplot(x=duration_group['duration_bin'], y=duration_group['play_cnt'], palette='Spectral')\n",
    "plt.title('Total Play Count by Video Duration Interval')\n",
    "plt.xlabel('Vide Duration Interval')\n",
    "plt.ylabel('Play Count (Log Scale)')\n",
    "plt.yscale('log')\n",
    "plt.xticks(rotation=45)\n",
    "plt.tight_layout()\n",
    "plt.show()"
   ]
  },
  {
   "cell_type": "markdown",
   "id": "058632a1",
   "metadata": {},
   "source": [
    "In the next graph, we look at the frequency of first level categories. We see a similar tendency as the previously observed graph about the Frequency of Video Tags.\\\n",
    "Here, a few (4) categories are overhelmingly present on the platform"
   ]
  },
  {
   "cell_type": "code",
   "execution_count": 13,
   "id": "30d7bad2",
   "metadata": {},
   "outputs": [
    {
     "name": "stderr",
     "output_type": "stream",
     "text": [
      "/tmp/ipykernel_616555/1651201145.py:6: FutureWarning: \n",
      "\n",
      "Passing `palette` without assigning `hue` is deprecated and will be removed in v0.14.0. Assign the `y` variable to `hue` and set `legend=False` for the same effect.\n",
      "\n",
      "  sns.barplot(data=freq_df, y='first_level_category_id', x='Count', palette='Spectral')\n"
     ]
    },
    {
     "data": {
      "image/png": "[encoded data removed]",
      "text/plain": [
       "<Figure size 1000x800 with 1 Axes>"
      ]
     },
     "metadata": {},
     "output_type": "display_data"
    }
   ],
   "source": [
    "categories_count = caption_category_cleaned.drop(columns=\"video_id\").value_counts().sort_values(ascending=False)\n",
    "freq_df = categories_count.rename(index=lambda x: f'category_{x}').reset_index()\n",
    "freq_df.columns = ['first_level_category_id', 'Count']\n",
    "\n",
    "plt.figure(figsize=(10, 8))\n",
    "sns.barplot(data=freq_df, y='first_level_category_id', x='Count', palette='Spectral')\n",
    "plt.title('Frequency of Video First Level Category')\n",
    "plt.xlabel('Count')\n",
    "plt.ylabel('Category')\n",
    "plt.show()"
   ]
  },
  {
   "cell_type": "markdown",
   "id": "5998ffc4",
   "metadata": {},
   "source": [
    "Let's look at the distribution of interactions per user.\\\n",
    "We see that a lot of users have around 250 interactions, and the rest have an average of 1500 interactions."
   ]
  },
  {
   "cell_type": "code",
   "execution_count": null,
   "id": "b3691d81",
   "metadata": {},
   "outputs": [
    {
     "data": {
      "image/png": "[encoded data removed]",
      "text/plain": [
       "<Figure size 1200x600 with 1 Axes>"
      ]
     },
     "metadata": {},
     "output_type": "display_data"
    }
   ],
   "source": [
    "user_counts = big_matrix_cleaned[\"user_id\"].value_counts()\n",
    "\n",
    "plt.figure(figsize=(12, 6))\n",
    "plt.hist(user_counts, bins=50)\n",
    "plt.title(\"Distribution of Interactions per User\")\n",
    "plt.xlabel(\"Number of Interactions\")\n",
    "plt.ylabel(\"Count of Users\")\n",
    "plt.grid(True, alpha=0.3)\n",
    "plt.show()"
   ]
  },
  {
   "cell_type": "markdown",
   "id": "f89e521b",
   "metadata": {},
   "source": [
    "Similarly, we check the distribution of interactions per items.\\\n",
    "Here, we can see that a lot of videos have almost no interactions, which may become a problem later one when training the ai model."
   ]
  },
  {
   "cell_type": "code",
   "execution_count": null,
   "id": "1b2f1db0",
   "metadata": {},
   "outputs": [
    {
     "data": {
      "image/png": "[encoded data removed]",
      "text/plain": [
       "<Figure size 1200x600 with 1 Axes>"
      ]
     },
     "metadata": {},
     "output_type": "display_data"
    }
   ],
   "source": [
    "item_counts = big_matrix_cleaned[\"video_id\"].value_counts()\n",
    "\n",
    "plt.figure(figsize=(12, 6))\n",
    "plt.hist(item_counts, bins=50)\n",
    "plt.title(\"Distribution of Interactions per Item\")\n",
    "plt.xlabel(\"Number of Interactions\")\n",
    "plt.ylabel(\"Count of Items\")\n",
    "plt.grid(True, alpha=0.3)\n",
    "plt.show()"
   ]
  }
 ],
 "metadata": {
  "kernelspec": {
   "display_name": "rema",
   "language": "python",
   "name": "python3"
  },
  "language_info": {
   "codemirror_mode": {
    "name": "ipython",
    "version": 3
   },
   "file_extension": ".py",
   "mimetype": "text/x-python",
   "name": "python",
   "nbconvert_exporter": "python",
   "pygments_lexer": "ipython3",
   "version": "3.11.12"
  }
 },
 "nbformat": 4,
 "nbformat_minor": 5
}
