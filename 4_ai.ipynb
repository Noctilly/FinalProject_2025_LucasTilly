{
 "cells": [
  {
   "cell_type": "markdown",
   "id": "b5f487a4",
   "metadata": {},
   "source": [
    "# Import necessary libraries"
   ]
  },
  {
   "cell_type": "code",
   "execution_count": 1,
   "id": "56fbc40f",
   "metadata": {},
   "outputs": [
    {
     "name": "stderr",
     "output_type": "stream",
     "text": [
      "2025-05-14 15:55:09.837282: I tensorflow/core/platform/cpu_feature_guard.cc:210] This TensorFlow binary is optimized to use available CPU instructions in performance-critical operations.\n",
      "To enable the following instructions: SSE4.1 SSE4.2 AVX AVX2 FMA, in other operations, rebuild TensorFlow with the appropriate compiler flags.\n"
     ]
    }
   ],
   "source": [
    "# Data imports\n",
    "import pandas as pd\n",
    "import numpy as np\n",
    "\n",
    "# AI imports\n",
    "import tensorflow as tf\n",
    "from tensorflow.keras.models import Sequential\n",
    "from tensorflow.keras.layers import Dense, Dropout, BatchNormalization, Input, Lambda\n",
    "import tensorflow.keras.backend as K"
   ]
  },
  {
   "cell_type": "markdown",
   "id": "b3dbfbd0",
   "metadata": {},
   "source": [
    "# Prepare environment"
   ]
  },
  {
   "cell_type": "code",
   "execution_count": 2,
   "id": "a275a7eb",
   "metadata": {},
   "outputs": [],
   "source": [
    "SEED = 42\n",
    "tf.random.set_seed(SEED)\n",
    "\n",
    "TRAIN_TEST_SPLIT = 0.8\n",
    "FEATURES_PATH = \"data/features/\""
   ]
  },
  {
   "cell_type": "markdown",
   "id": "e77538e8",
   "metadata": {},
   "source": [
    "# Prepare Data"
   ]
  },
  {
   "cell_type": "markdown",
   "id": "60dbfa52",
   "metadata": {},
   "source": [
    "## Load Data"
   ]
  },
  {
   "cell_type": "code",
   "execution_count": 3,
   "id": "88f3f035",
   "metadata": {},
   "outputs": [
    {
     "data": {
      "application/vnd.microsoft.datawrangler.viewer.v0+json": {
       "columns": [
        {
         "name": "index",
         "rawType": "int64",
         "type": "integer"
        },
        {
         "name": "watch_ratio",
         "rawType": "float64",
         "type": "float"
        },
        {
         "name": "watch_ratio_mean",
         "rawType": "float64",
         "type": "float"
        },
        {
         "name": "watch_ratio_prior_mean",
         "rawType": "float64",
         "type": "float"
        }
       ],
       "conversionMethod": "pd.DataFrame",
       "ref": "3f13b565-3eec-4d18-881e-09d43fa30506",
       "rows": [
        [
         "0",
         "2.555187272124627",
         "1.1095350335633571",
         "0.0"
        ],
        [
         "1",
         "0.5951890034364261",
         "0.9386157259132536",
         "0.0"
        ],
        [
         "2",
         "1.937264312649983",
         "0.9386157259132536",
         "0.0"
        ],
        [
         "3",
         "0.6063154128276232",
         "0.9386157259132536",
         "0.0"
        ],
        [
         "4",
         "0.7963017605980132",
         "0.9386157259132536",
         "0.0"
        ],
        [
         "5",
         "2.2749019607843137",
         "1.1095350335633571",
         "0.0"
        ],
        [
         "6",
         "0.1829575766434026",
         "1.1123448725356149",
         "0.0"
        ],
        [
         "7",
         "2.2808333333333333",
         "1.1123448725356149",
         "0.0"
        ],
        [
         "8",
         "1.62158940397351",
         "1.1095350335633571",
         "0.0"
        ],
        [
         "9",
         "0.3964339276787202",
         "1.1123448725356149",
         "0.0"
        ],
        [
         "10",
         "4.197427373897962",
         "1.1123448725356149",
         "0.0"
        ],
        [
         "11",
         "2.048487199379364",
         "1.1123448725356149",
         "0.0"
        ],
        [
         "12",
         "1.1714031971580816",
         "1.1123448725356149",
         "0.0"
        ],
        [
         "13",
         "0.238991968983661",
         "0.9386157259132536",
         "0.0"
        ],
        [
         "14",
         "0.1674528301886792",
         "0.9386157259132536",
         "0.0"
        ],
        [
         "15",
         "0.1712009930692045",
         "0.9386157259132536",
         "0.0"
        ],
        [
         "16",
         "0.2182570468063098",
         "0.9386157259132536",
         "2.048487199379364"
        ],
        [
         "17",
         "0.4104854368932039",
         "0.9386157259132536",
         "0.0"
        ],
        [
         "18",
         "0.2258955704945206",
         "0.9386157259132536",
         "0.0"
        ],
        [
         "19",
         "0.220629895017497",
         "0.9386157259132536",
         "0.3964339276787202"
        ],
        [
         "20",
         "0.4404151119402985",
         "0.9386157259132536",
         "0.0"
        ],
        [
         "21",
         "2.4208474576271186",
         "0.9098202611010494",
         "0.0"
        ],
        [
         "22",
         "0.2346575342465753",
         "1.1095350335633571",
         "0.0"
        ],
        [
         "23",
         "0.1612960655153996",
         "1.1123448725356149",
         "0.0"
        ],
        [
         "24",
         "0.303030303030303",
         "1.1123448725356149",
         "0.0"
        ],
        [
         "25",
         "0.6403636363636364",
         "1.1514163119364313",
         "0.0"
        ],
        [
         "26",
         "0.3001369863013698",
         "1.1514163119364313",
         "0.2346575342465753"
        ],
        [
         "27",
         "1.0976363636363635",
         "0.9888186739771695",
         "0.6403636363636364"
        ],
        [
         "28",
         "0.4977060825810271",
         "0.9098202611010494",
         "0.0"
        ],
        [
         "29",
         "0.1155017511801431",
         "0.9386157259132536",
         "0.0"
        ],
        [
         "30",
         "0.7091112174884314",
         "1.1123448725356149",
         "0.0"
        ],
        [
         "31",
         "2.117754642656162",
         "0.9888186739771695",
         "0.0"
        ],
        [
         "32",
         "1.529665230361286",
         "1.1123448725356149",
         "0.0"
        ],
        [
         "33",
         "0.9743364246881996",
         "0.9098202611010494",
         "0.0"
        ],
        [
         "34",
         "2.6075571760026515",
         "0.9098202611010494",
         "1.529665230361286"
        ],
        [
         "35",
         "3.025458851391356",
         "0.9098202611010494",
         "0.0"
        ],
        [
         "36",
         "1.7554251398935443",
         "1.1123448725356149",
         "0.0"
        ],
        [
         "37",
         "1.6631955237799192",
         "1.1123448725356149",
         "0.0"
        ],
        [
         "38",
         "3.742500465809577",
         "0.9098202611010494",
         "0.0"
        ],
        [
         "39",
         "0.5472410422354805",
         "1.1095350335633571",
         "0.0"
        ],
        [
         "40",
         "1.1757857974388823",
         "1.1095350335633571",
         "0.0"
        ],
        [
         "41",
         "1.1854536152796726",
         "1.1095350335633571",
         "0.0"
        ],
        [
         "42",
         "0.7499018453082057",
         "1.1095350335633571",
         "0.0"
        ],
        [
         "43",
         "1.2272959967236614",
         "0.9888186739771695",
         "0.0"
        ],
        [
         "44",
         "1.1320931980458475",
         "0.9888186739771695",
         "0.0"
        ],
        [
         "45",
         "1.4599265693561383",
         "0.9098202611010494",
         "1.1757857974388823"
        ],
        [
         "46",
         "1.9398507926639728",
         "0.9888186739771695",
         "0.0"
        ],
        [
         "47",
         "0.0",
         "0.9888186739771695",
         "0.0"
        ],
        [
         "48",
         "1.4252409076779609",
         "1.1095350335633571",
         "1.9398507926639728"
        ],
        [
         "49",
         "3.8391939944685896",
         "1.1095350335633571",
         "0.0"
        ]
       ],
       "shape": {
        "columns": 3,
        "rows": 9729361
       }
      },
      "text/html": [
       "<div>\n",
       "<style scoped>\n",
       "    .dataframe tbody tr th:only-of-type {\n",
       "        vertical-align: middle;\n",
       "    }\n",
       "\n",
       "    .dataframe tbody tr th {\n",
       "        vertical-align: top;\n",
       "    }\n",
       "\n",
       "    .dataframe thead th {\n",
       "        text-align: right;\n",
       "    }\n",
       "</style>\n",
       "<table border=\"1\" class=\"dataframe\">\n",
       "  <thead>\n",
       "    <tr style=\"text-align: right;\">\n",
       "      <th></th>\n",
       "      <th>watch_ratio</th>\n",
       "      <th>watch_ratio_mean</th>\n",
       "      <th>watch_ratio_prior_mean</th>\n",
       "    </tr>\n",
       "  </thead>\n",
       "  <tbody>\n",
       "    <tr>\n",
       "      <th>0</th>\n",
       "      <td>2.555187</td>\n",
       "      <td>1.109535</td>\n",
       "      <td>0.000000</td>\n",
       "    </tr>\n",
       "    <tr>\n",
       "      <th>1</th>\n",
       "      <td>0.595189</td>\n",
       "      <td>0.938616</td>\n",
       "      <td>0.000000</td>\n",
       "    </tr>\n",
       "    <tr>\n",
       "      <th>2</th>\n",
       "      <td>1.937264</td>\n",
       "      <td>0.938616</td>\n",
       "      <td>0.000000</td>\n",
       "    </tr>\n",
       "    <tr>\n",
       "      <th>3</th>\n",
       "      <td>0.606315</td>\n",
       "      <td>0.938616</td>\n",
       "      <td>0.000000</td>\n",
       "    </tr>\n",
       "    <tr>\n",
       "      <th>4</th>\n",
       "      <td>0.796302</td>\n",
       "      <td>0.938616</td>\n",
       "      <td>0.000000</td>\n",
       "    </tr>\n",
       "    <tr>\n",
       "      <th>...</th>\n",
       "      <td>...</td>\n",
       "      <td>...</td>\n",
       "      <td>...</td>\n",
       "    </tr>\n",
       "    <tr>\n",
       "      <th>9729356</th>\n",
       "      <td>1.183844</td>\n",
       "      <td>0.800965</td>\n",
       "      <td>0.986430</td>\n",
       "    </tr>\n",
       "    <tr>\n",
       "      <th>9729357</th>\n",
       "      <td>0.197555</td>\n",
       "      <td>0.800965</td>\n",
       "      <td>0.789548</td>\n",
       "    </tr>\n",
       "    <tr>\n",
       "      <th>9729358</th>\n",
       "      <td>1.313025</td>\n",
       "      <td>0.800965</td>\n",
       "      <td>1.144480</td>\n",
       "    </tr>\n",
       "    <tr>\n",
       "      <th>9729359</th>\n",
       "      <td>0.276921</td>\n",
       "      <td>0.800965</td>\n",
       "      <td>0.908206</td>\n",
       "    </tr>\n",
       "    <tr>\n",
       "      <th>9729360</th>\n",
       "      <td>0.233460</td>\n",
       "      <td>0.800965</td>\n",
       "      <td>0.916315</td>\n",
       "    </tr>\n",
       "  </tbody>\n",
       "</table>\n",
       "<p>9729361 rows × 3 columns</p>\n",
       "</div>"
      ],
      "text/plain": [
       "         watch_ratio  watch_ratio_mean  watch_ratio_prior_mean\n",
       "0           2.555187          1.109535                0.000000\n",
       "1           0.595189          0.938616                0.000000\n",
       "2           1.937264          0.938616                0.000000\n",
       "3           0.606315          0.938616                0.000000\n",
       "4           0.796302          0.938616                0.000000\n",
       "...              ...               ...                     ...\n",
       "9729356     1.183844          0.800965                0.986430\n",
       "9729357     0.197555          0.800965                0.789548\n",
       "9729358     1.313025          0.800965                1.144480\n",
       "9729359     0.276921          0.800965                0.908206\n",
       "9729360     0.233460          0.800965                0.916315\n",
       "\n",
       "[9729361 rows x 3 columns]"
      ]
     },
     "execution_count": 3,
     "metadata": {},
     "output_type": "execute_result"
    }
   ],
   "source": [
    "big_matrix_final = pd.read_parquet(FEATURES_PATH + \"big_matrix_final.parquet\")\n",
    "big_matrix_final = big_matrix_final.drop(columns=[\"time\", \"user_id\", \"video_id\"])\n",
    "\n",
    "small_matrix_final = pd.read_parquet(FEATURES_PATH + \"small_matrix_final.parquet\")\n",
    "small_matrix_final = small_matrix_final.drop(columns=[\"time\", \"user_id\", \"video_id\"])\n",
    "\n",
    "big_matrix_final"
   ]
  },
  {
   "cell_type": "markdown",
   "id": "8f0af04a",
   "metadata": {},
   "source": [
    "## Split data into X_train / y_train / X_test / y_test"
   ]
  },
  {
   "cell_type": "code",
   "execution_count": 4,
   "id": "b7ed9f86",
   "metadata": {},
   "outputs": [],
   "source": [
    "def split_X_y(df: pd.DataFrame):\n",
    "    y = df[\"watch_ratio\"]\n",
    "    tmp = df.drop(columns=[\"watch_ratio\"])\n",
    "    X = tmp[[c for c in tmp.columns]]\n",
    "    return X, y\n",
    "\n",
    "def split_all(df: pd.DataFrame):\n",
    "    train, test = big_matrix_final, small_matrix_final\n",
    "    X_train, y_train = split_X_y(train)\n",
    "    X_test, y_test = split_X_y(test)\n",
    "    test_watch_ratio_mean = test[\"watch_ratio_mean\"]\n",
    "    return np.array(X_train), np.array(y_train), np.array(X_test), np.array(y_test), test_watch_ratio_mean"
   ]
  },
  {
   "cell_type": "code",
   "execution_count": 5,
   "id": "d8188517",
   "metadata": {},
   "outputs": [],
   "source": [
    "X_train, y_train, X_test, y_test, test_watch_ratio_mean = split_all(big_matrix_final)"
   ]
  },
  {
   "cell_type": "markdown",
   "id": "394e3217",
   "metadata": {},
   "source": [
    "# AI"
   ]
  },
  {
   "cell_type": "markdown",
   "id": "d4e328e2",
   "metadata": {},
   "source": [
    "## Create the model"
   ]
  },
  {
   "cell_type": "code",
   "execution_count": 6,
   "id": "9060b4a5",
   "metadata": {},
   "outputs": [],
   "source": [
    "model = Sequential([\n",
    "    Input(shape=(2,)),\n",
    "\n",
    "    # Block 1\n",
    "    Dense(64, activation='relu'),\n",
    "    BatchNormalization(),\n",
    "    Dropout(0.2),\n",
    "\n",
    "    # Output layer: sigmoid in [0,1], scaled to [0,5]\n",
    "    Dense(1, activation='sigmoid'),\n",
    "    Lambda(lambda x: x * 5.0)\n",
    "])\n",
    "\n",
    "model.compile(\n",
    "    optimizer='adam',\n",
    "    loss='mean_squared_error',\n",
    "    metrics=['mae']\n",
    ")"
   ]
  },
  {
   "cell_type": "markdown",
   "id": "3a1e78f8",
   "metadata": {},
   "source": [
    "## Train the model"
   ]
  },
  {
   "cell_type": "code",
   "execution_count": 7,
   "id": "5ac915f2",
   "metadata": {},
   "outputs": [],
   "source": [
    "#sample_weight = 1 + (y_train > 3) * 10"
   ]
  },
  {
   "cell_type": "code",
   "execution_count": 8,
   "id": "495dab58",
   "metadata": {},
   "outputs": [
    {
     "name": "stdout",
     "output_type": "stream",
     "text": [
      "Epoch 1/10\n",
      "\u001b[1m8552/8552\u001b[0m \u001b[32m━━━━━━━━━━━━━━━━━━━━\u001b[0m\u001b[37m\u001b[0m \u001b[1m16s\u001b[0m 2ms/step - loss: 0.5020 - mae: 0.4822 - val_loss: 0.3929 - val_mae: 0.4175\n",
      "Epoch 2/10\n",
      "\u001b[1m8552/8552\u001b[0m \u001b[32m━━━━━━━━━━━━━━━━━━━━\u001b[0m\u001b[37m\u001b[0m \u001b[1m14s\u001b[0m 2ms/step - loss: 0.3992 - mae: 0.4250 - val_loss: 0.3925 - val_mae: 0.4177\n",
      "Epoch 3/10\n",
      "\u001b[1m8552/8552\u001b[0m \u001b[32m━━━━━━━━━━━━━━━━━━━━\u001b[0m\u001b[37m\u001b[0m \u001b[1m14s\u001b[0m 2ms/step - loss: 0.3982 - mae: 0.4240 - val_loss: 0.3928 - val_mae: 0.4159\n",
      "Epoch 4/10\n",
      "\u001b[1m8552/8552\u001b[0m \u001b[32m━━━━━━━━━━━━━━━━━━━━\u001b[0m\u001b[37m\u001b[0m \u001b[1m14s\u001b[0m 2ms/step - loss: 0.3979 - mae: 0.4238 - val_loss: 0.3923 - val_mae: 0.4167\n",
      "Epoch 5/10\n",
      "\u001b[1m8552/8552\u001b[0m \u001b[32m━━━━━━━━━━━━━━━━━━━━\u001b[0m\u001b[37m\u001b[0m \u001b[1m14s\u001b[0m 2ms/step - loss: 0.3979 - mae: 0.4236 - val_loss: 0.3926 - val_mae: 0.4172\n",
      "Epoch 6/10\n",
      "\u001b[1m8552/8552\u001b[0m \u001b[32m━━━━━━━━━━━━━━━━━━━━\u001b[0m\u001b[37m\u001b[0m \u001b[1m14s\u001b[0m 2ms/step - loss: 0.3979 - mae: 0.4237 - val_loss: 0.3927 - val_mae: 0.4168\n",
      "Epoch 7/10\n",
      "\u001b[1m8552/8552\u001b[0m \u001b[32m━━━━━━━━━━━━━━━━━━━━\u001b[0m\u001b[37m\u001b[0m \u001b[1m14s\u001b[0m 2ms/step - loss: 0.3979 - mae: 0.4236 - val_loss: 0.3923 - val_mae: 0.4174\n",
      "Epoch 8/10\n",
      "\u001b[1m8552/8552\u001b[0m \u001b[32m━━━━━━━━━━━━━━━━━━━━\u001b[0m\u001b[37m\u001b[0m \u001b[1m14s\u001b[0m 2ms/step - loss: 0.3978 - mae: 0.4236 - val_loss: 0.3927 - val_mae: 0.4152\n",
      "Epoch 9/10\n",
      "\u001b[1m8552/8552\u001b[0m \u001b[32m━━━━━━━━━━━━━━━━━━━━\u001b[0m\u001b[37m\u001b[0m \u001b[1m14s\u001b[0m 2ms/step - loss: 0.3979 - mae: 0.4236 - val_loss: 0.3924 - val_mae: 0.4152\n"
     ]
    },
    {
     "data": {
      "text/plain": [
       "<keras.src.callbacks.history.History at 0x7de4e56ba790>"
      ]
     },
     "execution_count": 8,
     "metadata": {},
     "output_type": "execute_result"
    }
   ],
   "source": [
    "model.fit(\n",
    "    X_train,\n",
    "    y_train,\n",
    "    validation_split=0.1,\n",
    "    epochs=10,\n",
    "    batch_size=1024,\n",
    "    #sample_weight=sample_weight,\n",
    "    #class_weight=class_weights_dict,\n",
    "    callbacks=[tf.keras.callbacks.EarlyStopping(patience=5, restore_best_weights=True)],\n",
    "    verbose=1\n",
    ")"
   ]
  },
  {
   "cell_type": "markdown",
   "id": "5095d3a9",
   "metadata": {},
   "source": [
    "## Predict video watch_ratio and compare it to the baseline"
   ]
  },
  {
   "cell_type": "code",
   "execution_count": 9,
   "id": "ce033cc1",
   "metadata": {},
   "outputs": [
    {
     "name": "stdout",
     "output_type": "stream",
     "text": [
      "Baseline MAE: 0.42254011584171625\n",
      "Actual MAE: 0.3124082473289498\n"
     ]
    }
   ],
   "source": [
    "baseline = np.full_like(y_test, np.mean(y_test), dtype=np.float32)\n",
    "preds = model.predict(X_test, batch_size=2048, verbose=None)\n",
    "mae_baseline = np.mean(np.abs(baseline - y_test))\n",
    "mae_model = np.mean(np.abs(preds.flatten() - y_test))\n",
    "print(f\"Baseline MAE: {mae_baseline}\")\n",
    "print(f\"Actual MAE: {mae_model}\")"
   ]
  },
  {
   "cell_type": "markdown",
   "id": "cba356fc",
   "metadata": {},
   "source": [
    "## Compute another, better baseline"
   ]
  },
  {
   "cell_type": "code",
   "execution_count": 10,
   "id": "3243d312",
   "metadata": {},
   "outputs": [
    {
     "data": {
      "text/plain": [
       "0.4085236172713595"
      ]
     },
     "execution_count": 10,
     "metadata": {},
     "output_type": "execute_result"
    }
   ],
   "source": [
    "np.mean(np.abs(y_test.flatten() - test_watch_ratio_mean))"
   ]
  },
  {
   "cell_type": "markdown",
   "id": "f802d52d",
   "metadata": {},
   "source": [
    "# Save the model"
   ]
  },
  {
   "cell_type": "code",
   "execution_count": 11,
   "id": "9d1379bb",
   "metadata": {},
   "outputs": [],
   "source": [
    "model.save(FEATURES_PATH + \"ai_model.keras\")"
   ]
  }
 ],
 "metadata": {
  "kernelspec": {
   "display_name": "rema",
   "language": "python",
   "name": "python3"
  },
  "language_info": {
   "codemirror_mode": {
    "name": "ipython",
    "version": 3
   },
   "file_extension": ".py",
   "mimetype": "text/x-python",
   "name": "python",
   "nbconvert_exporter": "python",
   "pygments_lexer": "ipython3",
   "version": "3.11.12"
  }
 },
 "nbformat": 4,
 "nbformat_minor": 5
}
