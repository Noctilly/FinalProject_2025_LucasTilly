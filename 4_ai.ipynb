{
 "cells": [
  {
   "cell_type": "markdown",
   "id": "b5f487a4",
   "metadata": {},
   "source": [
    "# Import necessary libraries"
   ]
  },
  {
   "cell_type": "code",
   "execution_count": 7,
   "id": "56fbc40f",
   "metadata": {},
   "outputs": [],
   "source": [
    "# Data imports\n",
    "import pandas as pd\n",
    "import numpy as np\n",
    "\n",
    "# AI imports\n",
    "import tensorflow as tf\n",
    "from tensorflow.keras.models import Sequential\n",
    "from tensorflow.keras.layers import Dense, Dropout, BatchNormalization, Input, Lambda\n",
    "import tensorflow.keras.backend as K"
   ]
  },
  {
   "cell_type": "markdown",
   "id": "b3dbfbd0",
   "metadata": {},
   "source": [
    "# Prepare environment"
   ]
  },
  {
   "cell_type": "code",
   "execution_count": 8,
   "id": "a275a7eb",
   "metadata": {},
   "outputs": [],
   "source": [
    "SEED = 42\n",
    "tf.random.set_seed(SEED)\n",
    "\n",
    "TRAIN_TEST_SPLIT = 0.8\n",
    "FEATURES_PATH = \"data/features/\""
   ]
  },
  {
   "cell_type": "markdown",
   "id": "e77538e8",
   "metadata": {},
   "source": [
    "# Prepare Data"
   ]
  },
  {
   "cell_type": "markdown",
   "id": "60dbfa52",
   "metadata": {},
   "source": [
    "## Load Data"
   ]
  },
  {
   "cell_type": "code",
   "execution_count": 9,
   "id": "88f3f035",
   "metadata": {},
   "outputs": [
    {
     "data": {
      "application/vnd.microsoft.datawrangler.viewer.v0+json": {
       "columns": [
        {
         "name": "index",
         "rawType": "int64",
         "type": "integer"
        },
        {
         "name": "watch_ratio",
         "rawType": "float64",
         "type": "float"
        },
        {
         "name": "like",
         "rawType": "int64",
         "type": "integer"
        },
        {
         "name": "video_length",
         "rawType": "int64",
         "type": "integer"
        },
        {
         "name": "user_watch_ratio_mean",
         "rawType": "float64",
         "type": "float"
        },
        {
         "name": "video_watch_ratio_mean",
         "rawType": "float64",
         "type": "float"
        },
        {
         "name": "user_feat_watch_ratio_mean",
         "rawType": "float64",
         "type": "float"
        },
        {
         "name": "user_category_watch_ratio_mean",
         "rawType": "float64",
         "type": "float"
        }
       ],
       "conversionMethod": "pd.DataFrame",
       "ref": "c86fc9e2-27bc-4d37-b226-d63590cac8d1",
       "rows": [
        [
         "0",
         "1.2733965215790926",
         "1",
         "0",
         "0.9817515184602131",
         "0.7846410164013661",
         "0.9540817270575529",
         "1.0296485725837718"
        ],
        [
         "1",
         "0.1076125442589782",
         "-1",
         "0",
         "0.9817515184602131",
         "0.9925691250912209",
         "0.9757168652536765",
         "1.022316837542981"
        ],
        [
         "2",
         "0.0898852971845672",
         "-1",
         "0",
         "0.9817515184602131",
         "0.977059994449473",
         "0.9984073543293331",
         "1.0296485725837718"
        ],
        [
         "3",
         "0.078",
         "-1",
         "0",
         "0.9817515184602131",
         "0.7812832148726736",
         "0.7701390091780658",
         "0.8049453779220763"
        ],
        [
         "4",
         "1.572294776119403",
         "1",
         "0",
         "0.9817515184602131",
         "0.9715323209541517",
         "0.9871429497545215",
         "0.9370706306128818"
        ],
        [
         "5",
         "0.1753976030752996",
         "-1",
         "0",
         "0.9817515184602131",
         "0.6529496043378484",
         "0.9141520803841385",
         "0.9848204371385036"
        ],
        [
         "6",
         "2.212061894108874",
         "1",
         "0",
         "0.9817515184602131",
         "0.7992592534515321",
         "1.06657194489263",
         "1.0296485725837718"
        ],
        [
         "7",
         "0.1304918032786885",
         "-1",
         "-1",
         "0.9817515184602131",
         "1.3188978255149304",
         "1.0427329816011135",
         "1.0296485725837718"
        ],
        [
         "8",
         "1.4062659977475171",
         "1",
         "0",
         "0.9817515184602131",
         "0.8904428019328376",
         "0.927864005508488",
         "0.9370706306128818"
        ],
        [
         "9",
         "1.8889678703440431",
         "1",
         "0",
         "0.9817515184602131",
         "1.1277948570863334",
         "1.0427329816011135",
         "1.0296485725837718"
        ],
        [
         "10",
         "2.0970967741935485",
         "1",
         "-1",
         "0.9817515184602131",
         "1.238471812539821",
         "0.9648992961556146",
         "0.9840667814668957"
        ],
        [
         "11",
         "2.1577385857919893",
         "1",
         "-1",
         "0.9817515184602131",
         "1.2268634145210533",
         "1.0427329816011135",
         "1.0296485725837718"
        ],
        [
         "12",
         "0.0679368262722486",
         "-1",
         "0",
         "0.9817515184602131",
         "0.6771345191391295",
         "1.0092249234273951",
         "0.8458133352320043"
        ],
        [
         "13",
         "1.2918181818181818",
         "1",
         "0",
         "0.9817515184602131",
         "0.784182884964128",
         "0.7701390091780658",
         "0.8049453779220763"
        ],
        [
         "14",
         "0.0902172714238447",
         "-1",
         "0",
         "0.9817515184602131",
         "0.8979425450361856",
         "1.0427329816011135",
         "1.0296485725837718"
        ],
        [
         "15",
         "1.935958459541324",
         "1",
         "-1",
         "0.9817515184602131",
         "1.1209628707726949",
         "0.9409728662830205",
         "0.8458133352320043"
        ],
        [
         "16",
         "1.4420652173913044",
         "1",
         "0",
         "0.9817515184602131",
         "0.9330323736919851",
         "1.0427329816011135",
         "1.0296485725837718"
        ],
        [
         "17",
         "0.0716965742251223",
         "-1",
         "0",
         "0.9817515184602131",
         "0.6873984154666016",
         "0.9025514441144024",
         "0.9840667814668957"
        ],
        [
         "18",
         "1.443190132747988",
         "1",
         "0",
         "0.9817515184602131",
         "0.7199661367583932",
         "0.7626530178802314",
         "0.9212807154988603"
        ],
        [
         "19",
         "0.2224569876245095",
         "-1",
         "1",
         "0.9817515184602131",
         "0.16728299694208248",
         "0.7529250169627508",
         "0.8132738345983052"
        ],
        [
         "20",
         "0.0780696851127259",
         "-1",
         "0",
         "0.9817515184602131",
         "0.7870033168151297",
         "0.9141520803841385",
         "0.9848204371385036"
        ],
        [
         "21",
         "2.788442109517074",
         "1",
         "-1",
         "0.9817515184602131",
         "1.5284373243903737",
         "0.9984073543293333",
         "1.0296485725837718"
        ],
        [
         "22",
         "0.0871412288881981",
         "-1",
         "0",
         "0.9817515184602131",
         "0.8152968048161502",
         "1.0285926326228354",
         "0.9577133141125753"
        ],
        [
         "23",
         "0.065748031496063",
         "-1",
         "0",
         "0.9817515184602131",
         "0.7029013437372247",
         "1.0904109081841464",
         "1.1806502641129835"
        ],
        [
         "24",
         "0.0811320754716981",
         "-1",
         "0",
         "0.9817515184602131",
         "0.9110211770742874",
         "1.0427329816011135",
         "1.0296485725837718"
        ],
        [
         "25",
         "0.0772630834512022",
         "-1",
         "0",
         "0.9817515184602131",
         "0.7198906652095637",
         "0.9141520803841385",
         "0.9848204371385036"
        ],
        [
         "26",
         "0.1113266097750193",
         "-1",
         "0",
         "0.9817515184602131",
         "1.0623292399172506",
         "0.9984073543293331",
         "1.0296485725837718"
        ],
        [
         "27",
         "1.2807249054279932",
         "1",
         "0",
         "0.9817515184602131",
         "0.7019569492272041",
         "0.876180760695682",
         "0.9370706306128818"
        ],
        [
         "28",
         "2.345526524148852",
         "1",
         "-1",
         "0.9817515184602131",
         "1.2460853679146893",
         "1.0063259266704772",
         "0.8458133352320043"
        ],
        [
         "29",
         "1.15256",
         "0",
         "0",
         "0.9817515184602131",
         "0.6231490540540541",
         "1.0369349880872776",
         "1.022316837542981"
        ],
        [
         "30",
         "1.3400613896381732",
         "1",
         "0",
         "0.9817515184602131",
         "0.7782966118085567",
         "0.9141520803841385",
         "0.9848204371385036"
        ],
        [
         "31",
         "0.1105194805194805",
         "-1",
         "0",
         "0.9817515184602131",
         "0.8830541418041418",
         "0.9141520803841385",
         "0.9848204371385036"
        ],
        [
         "32",
         "1.5229745431498891",
         "1",
         "0",
         "0.9817515184602131",
         "0.8784572779807021",
         "1.0701635413144122",
         "0.8621361755391671"
        ],
        [
         "33",
         "2.666480342835849",
         "1",
         "-1",
         "0.9817515184602131",
         "1.4419973449919148",
         "0.9984073543293331",
         "0.9840667814668957"
        ],
        [
         "34",
         "0.1356666666666666",
         "-1",
         "-1",
         "0.9817515184602131",
         "1.3073943313542549",
         "1.0427329816011135",
         "1.0296485725837718"
        ],
        [
         "35",
         "0.1092578226014998",
         "-1",
         "0",
         "0.9817515184602131",
         "0.9332644031804955",
         "0.9540817270575529",
         "0.9840667814668957"
        ],
        [
         "36",
         "2.3708835996087383",
         "1",
         "-1",
         "0.9817515184602131",
         "1.278597078080528",
         "1.0651486802196584",
         "1.0549150257524613"
        ],
        [
         "37",
         "2.403380841895923",
         "1",
         "-1",
         "0.9817515184602131",
         "1.2075707893366163",
         "1.0904109081841464",
         "1.1806502641129835"
        ],
        [
         "38",
         "2.530868503662365",
         "1",
         "-1",
         "0.9817515184602131",
         "1.295012045147197",
         "1.0427329816011135",
         "1.0296485725837718"
        ],
        [
         "39",
         "0.0999280230326295",
         "-1",
         "0",
         "0.9817515184602131",
         "0.9689058304564634",
         "0.9908438579707809",
         "0.8458133352320043"
        ],
        [
         "40",
         "0.0617862621441963",
         "-1",
         "0",
         "0.9817515184602131",
         "0.6936126102964727",
         "0.9129006208706651",
         "0.8386370352292115"
        ],
        [
         "41",
         "2.074151948416036",
         "1",
         "0",
         "0.9817515184602131",
         "1.1371243169026348",
         "0.9834335961075881",
         "0.9780631216110824"
        ],
        [
         "42",
         "1.5030927835051546",
         "1",
         "0",
         "0.9817515184602131",
         "0.7544914535636186",
         "1.0427329816011135",
         "1.0296485725837718"
        ],
        [
         "43",
         "2.1438668826387866",
         "1",
         "-1",
         "0.9817515184602131",
         "1.1360022801123233",
         "1.0601338191249046",
         "1.000626964124055"
        ],
        [
         "44",
         "0.1294600568361225",
         "-1",
         "-1",
         "0.9817515184602131",
         "1.2356270633411266",
         "1.0427329816011135",
         "1.0296485725837718"
        ],
        [
         "45",
         "1.7442599788060755",
         "1",
         "0",
         "0.9817515184602131",
         "0.9444081048724928",
         "1.0427329816011135",
         "1.0296485725837718"
        ],
        [
         "46",
         "0.0712105798575788",
         "-1",
         "0",
         "0.9817515184602131",
         "0.6836472288338219",
         "0.9129006208706651",
         "0.9112769905708751"
        ],
        [
         "47",
         "1.5846994535519126",
         "1",
         "0",
         "0.9817515184602131",
         "0.9271761207070741",
         "0.8888436071279756",
         "1.000626964124055"
        ],
        [
         "48",
         "0.079342091652012",
         "-1",
         "0",
         "0.9817515184602131",
         "0.7097710110309675",
         "0.9757168652536765",
         "0.8458133352320043"
        ],
        [
         "49",
         "0.0705150068212824",
         "-1",
         "0",
         "0.9817515184602131",
         "0.7163921030479599",
         "1.0904109081841464",
         "1.1806502641129835"
        ]
       ],
       "shape": {
        "columns": 7,
        "rows": 9727438
       }
      },
      "text/html": [
       "<div>\n",
       "<style scoped>\n",
       "    .dataframe tbody tr th:only-of-type {\n",
       "        vertical-align: middle;\n",
       "    }\n",
       "\n",
       "    .dataframe tbody tr th {\n",
       "        vertical-align: top;\n",
       "    }\n",
       "\n",
       "    .dataframe thead th {\n",
       "        text-align: right;\n",
       "    }\n",
       "</style>\n",
       "<table border=\"1\" class=\"dataframe\">\n",
       "  <thead>\n",
       "    <tr style=\"text-align: right;\">\n",
       "      <th></th>\n",
       "      <th>watch_ratio</th>\n",
       "      <th>like</th>\n",
       "      <th>video_length</th>\n",
       "      <th>user_watch_ratio_mean</th>\n",
       "      <th>video_watch_ratio_mean</th>\n",
       "      <th>user_feat_watch_ratio_mean</th>\n",
       "      <th>user_category_watch_ratio_mean</th>\n",
       "    </tr>\n",
       "  </thead>\n",
       "  <tbody>\n",
       "    <tr>\n",
       "      <th>0</th>\n",
       "      <td>1.273397</td>\n",
       "      <td>1</td>\n",
       "      <td>0</td>\n",
       "      <td>0.981752</td>\n",
       "      <td>0.784641</td>\n",
       "      <td>0.954082</td>\n",
       "      <td>1.029649</td>\n",
       "    </tr>\n",
       "    <tr>\n",
       "      <th>1</th>\n",
       "      <td>0.107613</td>\n",
       "      <td>-1</td>\n",
       "      <td>0</td>\n",
       "      <td>0.981752</td>\n",
       "      <td>0.992569</td>\n",
       "      <td>0.975717</td>\n",
       "      <td>1.022317</td>\n",
       "    </tr>\n",
       "    <tr>\n",
       "      <th>2</th>\n",
       "      <td>0.089885</td>\n",
       "      <td>-1</td>\n",
       "      <td>0</td>\n",
       "      <td>0.981752</td>\n",
       "      <td>0.977060</td>\n",
       "      <td>0.998407</td>\n",
       "      <td>1.029649</td>\n",
       "    </tr>\n",
       "    <tr>\n",
       "      <th>3</th>\n",
       "      <td>0.078000</td>\n",
       "      <td>-1</td>\n",
       "      <td>0</td>\n",
       "      <td>0.981752</td>\n",
       "      <td>0.781283</td>\n",
       "      <td>0.770139</td>\n",
       "      <td>0.804945</td>\n",
       "    </tr>\n",
       "    <tr>\n",
       "      <th>4</th>\n",
       "      <td>1.572295</td>\n",
       "      <td>1</td>\n",
       "      <td>0</td>\n",
       "      <td>0.981752</td>\n",
       "      <td>0.971532</td>\n",
       "      <td>0.987143</td>\n",
       "      <td>0.937071</td>\n",
       "    </tr>\n",
       "    <tr>\n",
       "      <th>...</th>\n",
       "      <td>...</td>\n",
       "      <td>...</td>\n",
       "      <td>...</td>\n",
       "      <td>...</td>\n",
       "      <td>...</td>\n",
       "      <td>...</td>\n",
       "      <td>...</td>\n",
       "    </tr>\n",
       "    <tr>\n",
       "      <th>9727433</th>\n",
       "      <td>1.004462</td>\n",
       "      <td>0</td>\n",
       "      <td>0</td>\n",
       "      <td>0.790256</td>\n",
       "      <td>0.840896</td>\n",
       "      <td>0.792753</td>\n",
       "      <td>0.821723</td>\n",
       "    </tr>\n",
       "    <tr>\n",
       "      <th>9727434</th>\n",
       "      <td>0.313389</td>\n",
       "      <td>-1</td>\n",
       "      <td>0</td>\n",
       "      <td>0.790256</td>\n",
       "      <td>0.706640</td>\n",
       "      <td>0.889533</td>\n",
       "      <td>0.865700</td>\n",
       "    </tr>\n",
       "    <tr>\n",
       "      <th>9727435</th>\n",
       "      <td>0.340597</td>\n",
       "      <td>-1</td>\n",
       "      <td>0</td>\n",
       "      <td>0.790256</td>\n",
       "      <td>1.074987</td>\n",
       "      <td>0.792753</td>\n",
       "      <td>0.821723</td>\n",
       "    </tr>\n",
       "    <tr>\n",
       "      <th>9727436</th>\n",
       "      <td>0.913400</td>\n",
       "      <td>0</td>\n",
       "      <td>0</td>\n",
       "      <td>0.790256</td>\n",
       "      <td>1.074987</td>\n",
       "      <td>0.792753</td>\n",
       "      <td>0.821723</td>\n",
       "    </tr>\n",
       "    <tr>\n",
       "      <th>9727437</th>\n",
       "      <td>0.857313</td>\n",
       "      <td>0</td>\n",
       "      <td>0</td>\n",
       "      <td>0.790256</td>\n",
       "      <td>0.563788</td>\n",
       "      <td>0.574882</td>\n",
       "      <td>0.610834</td>\n",
       "    </tr>\n",
       "  </tbody>\n",
       "</table>\n",
       "<p>9727438 rows × 7 columns</p>\n",
       "</div>"
      ],
      "text/plain": [
       "         watch_ratio  like  video_length  user_watch_ratio_mean  \\\n",
       "0           1.273397     1             0               0.981752   \n",
       "1           0.107613    -1             0               0.981752   \n",
       "2           0.089885    -1             0               0.981752   \n",
       "3           0.078000    -1             0               0.981752   \n",
       "4           1.572295     1             0               0.981752   \n",
       "...              ...   ...           ...                    ...   \n",
       "9727433     1.004462     0             0               0.790256   \n",
       "9727434     0.313389    -1             0               0.790256   \n",
       "9727435     0.340597    -1             0               0.790256   \n",
       "9727436     0.913400     0             0               0.790256   \n",
       "9727437     0.857313     0             0               0.790256   \n",
       "\n",
       "         video_watch_ratio_mean  user_feat_watch_ratio_mean  \\\n",
       "0                      0.784641                    0.954082   \n",
       "1                      0.992569                    0.975717   \n",
       "2                      0.977060                    0.998407   \n",
       "3                      0.781283                    0.770139   \n",
       "4                      0.971532                    0.987143   \n",
       "...                         ...                         ...   \n",
       "9727433                0.840896                    0.792753   \n",
       "9727434                0.706640                    0.889533   \n",
       "9727435                1.074987                    0.792753   \n",
       "9727436                1.074987                    0.792753   \n",
       "9727437                0.563788                    0.574882   \n",
       "\n",
       "         user_category_watch_ratio_mean  \n",
       "0                              1.029649  \n",
       "1                              1.022317  \n",
       "2                              1.029649  \n",
       "3                              0.804945  \n",
       "4                              0.937071  \n",
       "...                                 ...  \n",
       "9727433                        0.821723  \n",
       "9727434                        0.865700  \n",
       "9727435                        0.821723  \n",
       "9727436                        0.821723  \n",
       "9727437                        0.610834  \n",
       "\n",
       "[9727438 rows x 7 columns]"
      ]
     },
     "execution_count": 9,
     "metadata": {},
     "output_type": "execute_result"
    }
   ],
   "source": [
    "big_matrix_final = pd.read_parquet(FEATURES_PATH + \"big_matrix_final.parquet\")\n",
    "big_matrix_final = big_matrix_final.drop(columns=[\"user_id\", \"video_id\"])\n",
    "\n",
    "small_matrix_final = pd.read_parquet(FEATURES_PATH + \"small_matrix_final.parquet\")\n",
    "small_matrix_final = small_matrix_final.drop(columns=[\"user_id\", \"video_id\"])\n",
    "\n",
    "big_matrix_final"
   ]
  },
  {
   "cell_type": "markdown",
   "id": "8f0af04a",
   "metadata": {},
   "source": [
    "## Split data into X_train / y_train / X_test / y_test"
   ]
  },
  {
   "cell_type": "code",
   "execution_count": 10,
   "id": "b7ed9f86",
   "metadata": {},
   "outputs": [],
   "source": [
    "def split_X_y(df: pd.DataFrame):\n",
    "    y = df[\"watch_ratio\"]\n",
    "    tmp = df.drop(columns=[\"watch_ratio\", \"like\"])\n",
    "    X = tmp[[c for c in tmp.columns]]\n",
    "    return X, y\n",
    "\n",
    "def split_all(df: pd.DataFrame):\n",
    "    train, test = big_matrix_final, small_matrix_final\n",
    "    X_train, y_train = split_X_y(train)\n",
    "    X_test, y_test = split_X_y(test)\n",
    "    test_watch_ratio_mean = test[\"video_watch_ratio_mean\"]\n",
    "    return np.array(X_train), np.array(y_train), np.array(X_test), np.array(y_test), test_watch_ratio_mean"
   ]
  },
  {
   "cell_type": "code",
   "execution_count": 11,
   "id": "d8188517",
   "metadata": {},
   "outputs": [],
   "source": [
    "X_train, y_train, X_test, y_test, test_watch_ratio_mean = split_all(big_matrix_final)"
   ]
  },
  {
   "cell_type": "markdown",
   "id": "394e3217",
   "metadata": {},
   "source": [
    "# AI"
   ]
  },
  {
   "cell_type": "markdown",
   "id": "d4e328e2",
   "metadata": {},
   "source": [
    "## Create the model"
   ]
  },
  {
   "cell_type": "code",
   "execution_count": 12,
   "id": "9060b4a5",
   "metadata": {},
   "outputs": [],
   "source": [
    "model = Sequential([\n",
    "    Input(shape=(5,)),\n",
    "\n",
    "    # Block 1\n",
    "    Dense(64, activation='relu'),\n",
    "    BatchNormalization(),\n",
    "    Dropout(0.2),\n",
    "\n",
    "    # Output layer: sigmoid in [0,1], scaled to [0,5]\n",
    "    Dense(1, activation='sigmoid'),\n",
    "    Lambda(lambda x: x * 5.0)\n",
    "])\n",
    "\n",
    "model.compile(\n",
    "    optimizer='adam',\n",
    "    loss='mean_squared_error',\n",
    "    metrics=['mae']\n",
    ")"
   ]
  },
  {
   "cell_type": "markdown",
   "id": "3a1e78f8",
   "metadata": {},
   "source": [
    "## Train the model"
   ]
  },
  {
   "cell_type": "code",
   "execution_count": 13,
   "id": "495dab58",
   "metadata": {},
   "outputs": [
    {
     "name": "stdout",
     "output_type": "stream",
     "text": [
      "Epoch 1/2\n",
      "\u001b[1m8550/8550\u001b[0m \u001b[32m━━━━━━━━━━━━━━━━━━━━\u001b[0m\u001b[37m\u001b[0m \u001b[1m15s\u001b[0m 2ms/step - loss: 0.5228 - mae: 0.4873 - val_loss: 0.3854 - val_mae: 0.4148\n",
      "Epoch 2/2\n",
      "\u001b[1m8550/8550\u001b[0m \u001b[32m━━━━━━━━━━━━━━━━━━━━\u001b[0m\u001b[37m\u001b[0m \u001b[1m14s\u001b[0m 2ms/step - loss: 0.3840 - mae: 0.4160 - val_loss: 0.3848 - val_mae: 0.4171\n"
     ]
    },
    {
     "data": {
      "text/plain": [
       "<keras.src.callbacks.history.History at 0x7ce627ae6050>"
      ]
     },
     "execution_count": 13,
     "metadata": {},
     "output_type": "execute_result"
    }
   ],
   "source": [
    "model.fit(\n",
    "    X_train,\n",
    "    y_train,\n",
    "    validation_split=0.1,\n",
    "    epochs=2,\n",
    "    batch_size=1024,\n",
    "    callbacks=[tf.keras.callbacks.EarlyStopping(patience=5, restore_best_weights=True)],\n",
    "    verbose=1\n",
    ")"
   ]
  },
  {
   "cell_type": "markdown",
   "id": "5095d3a9",
   "metadata": {},
   "source": [
    "## Predict video watch_ratio and compare it to the baseline"
   ]
  },
  {
   "cell_type": "markdown",
   "id": "68008add",
   "metadata": {},
   "source": [
    "The baseline is the average watch_ratio of all videos.\\\n",
    "We can see that the MAE of my model is arounf 25% better than the baseline."
   ]
  },
  {
   "cell_type": "code",
   "execution_count": 14,
   "id": "ce033cc1",
   "metadata": {},
   "outputs": [
    {
     "name": "stdout",
     "output_type": "stream",
     "text": [
      "Baseline MAE: 0.4225401158417161\n",
      "Actual MAE: 0.3613954467451218\n"
     ]
    }
   ],
   "source": [
    "baseline = np.full_like(y_test, np.mean(y_test), dtype=np.float32)\n",
    "preds = model.predict(X_test, batch_size=2048, verbose=None)\n",
    "mae_baseline = np.mean(np.abs(baseline - y_test))\n",
    "mae_model = np.mean(np.abs(preds.flatten() - y_test))\n",
    "print(f\"Baseline MAE: {mae_baseline}\")\n",
    "print(f\"Actual MAE: {mae_model}\")"
   ]
  },
  {
   "cell_type": "markdown",
   "id": "cba356fc",
   "metadata": {},
   "source": [
    "## Compute another, better baseline"
   ]
  },
  {
   "cell_type": "markdown",
   "id": "8df6c826",
   "metadata": {},
   "source": [
    "Here is a better baseline, using the average watch ratio of the video predicted at the time of the prediction.\\\n",
    "It is slightly better than the previous one, but my model still predicts watch ratios more accurately."
   ]
  },
  {
   "cell_type": "code",
   "execution_count": 15,
   "id": "3243d312",
   "metadata": {},
   "outputs": [
    {
     "data": {
      "text/plain": [
       "np.float64(0.32525378616261336)"
      ]
     },
     "execution_count": 15,
     "metadata": {},
     "output_type": "execute_result"
    }
   ],
   "source": [
    "np.mean(np.abs(y_test.flatten() - test_watch_ratio_mean))"
   ]
  },
  {
   "cell_type": "markdown",
   "id": "f802d52d",
   "metadata": {},
   "source": [
    "# Save the model"
   ]
  },
  {
   "cell_type": "code",
   "execution_count": 16,
   "id": "9d1379bb",
   "metadata": {},
   "outputs": [],
   "source": [
    "model.save(FEATURES_PATH + \"ai_model.keras\")"
   ]
  }
 ],
 "metadata": {
  "kernelspec": {
   "display_name": "rema",
   "language": "python",
   "name": "python3"
  },
  "language_info": {
   "codemirror_mode": {
    "name": "ipython",
    "version": 3
   },
   "file_extension": ".py",
   "mimetype": "text/x-python",
   "name": "python",
   "nbconvert_exporter": "python",
   "pygments_lexer": "ipython3",
   "version": "3.11.12"
  }
 },
 "nbformat": 4,
 "nbformat_minor": 5
}
