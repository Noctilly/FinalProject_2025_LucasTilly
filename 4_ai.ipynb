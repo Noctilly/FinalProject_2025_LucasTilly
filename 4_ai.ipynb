{
 "cells": [
  {
   "cell_type": "markdown",
   "id": "b5f487a4",
   "metadata": {},
   "source": [
    "# Import necessary libraries"
   ]
  },
  {
   "cell_type": "code",
   "execution_count": 1,
   "id": "56fbc40f",
   "metadata": {},
   "outputs": [
    {
     "name": "stderr",
     "output_type": "stream",
     "text": [
      "2025-05-13 15:50:26.510414: I tensorflow/core/platform/cpu_feature_guard.cc:210] This TensorFlow binary is optimized to use available CPU instructions in performance-critical operations.\n",
      "To enable the following instructions: SSE4.1 SSE4.2 AVX AVX2 FMA, in other operations, rebuild TensorFlow with the appropriate compiler flags.\n"
     ]
    }
   ],
   "source": [
    "# Data imports\n",
    "import pandas as pd\n",
    "import numpy as np\n",
    "\n",
    "# AI imports\n",
    "import tensorflow as tf\n",
    "from tensorflow.keras.models import Sequential\n",
    "from tensorflow.keras.layers import Dense, Dropout, BatchNormalization, Input, Lambda\n",
    "import tensorflow.keras.backend as K\n",
    "\n",
    "SEED = 42\n",
    "TRAIN_TEST_SPLIT = 0.8\n",
    "\n",
    "tf.random.set_seed(SEED)"
   ]
  },
  {
   "cell_type": "markdown",
   "id": "e77538e8",
   "metadata": {},
   "source": [
    "# Prepare Data"
   ]
  },
  {
   "cell_type": "markdown",
   "id": "60dbfa52",
   "metadata": {},
   "source": [
    "## Load Data"
   ]
  },
  {
   "cell_type": "code",
   "execution_count": 2,
   "id": "88f3f035",
   "metadata": {},
   "outputs": [
    {
     "data": {
      "application/vnd.microsoft.datawrangler.viewer.v0+json": {
       "columns": [
        {
         "name": "index",
         "rawType": "int64",
         "type": "integer"
        },
        {
         "name": "time",
         "rawType": "datetime64[ns]",
         "type": "datetime"
        },
        {
         "name": "watch_ratio",
         "rawType": "float64",
         "type": "float"
        },
        {
         "name": "watch_ratio_mean",
         "rawType": "float64",
         "type": "float"
        },
        {
         "name": "watch_ratio_prior_mean",
         "rawType": "float64",
         "type": "float"
        }
       ],
       "conversionMethod": "pd.DataFrame",
       "ref": "73c2d005-7a30-4f33-8a9f-c7c031a5f878",
       "rows": [
        [
         "0",
         "2020-07-04 02:23:26.060000",
         "1.981442064653452",
         "1.0379101149048775",
         "0.0"
        ],
        [
         "1",
         "2020-07-04 04:03:18.888000",
         "0.9646417152529622",
         "1.0379101149048775",
         "0.0"
        ],
        [
         "2",
         "2020-07-04 04:03:53.725000",
         "0.1120437956204379",
         "1.0379101149048775",
         "0.0"
        ],
        [
         "3",
         "2020-07-04 04:35:24.528000",
         "0.7",
         "1.0379101149048775",
         "0.0"
        ],
        [
         "4",
         "2020-07-04 06:32:23.949000",
         "0.9068518518518518",
         "1.0379101149048775",
         "0.0"
        ],
        [
         "5",
         "2020-07-04 06:50:30.434000",
         "3.1854716981132074",
         "1.0379101149048775",
         "0.0"
        ],
        [
         "6",
         "2020-07-04 08:41:22.734000",
         "0.5355332574738803",
         "1.0379101149048775",
         "0.0"
        ],
        [
         "7",
         "2020-07-04 08:44:50.264000",
         "0.8695435021476376",
         "1.0379101149048775",
         "0.0"
        ],
        [
         "8",
         "2020-07-05 00:00:40.417000",
         "0.5731112542560044",
         "0.8871994052548101",
         "0.0"
        ],
        [
         "9",
         "2020-07-05 00:00:49.448000",
         "1.4833642413003163",
         "1.1310252103855762",
         "0.0"
        ],
        [
         "10",
         "2020-07-05 00:01:03.816000",
         "1.372638888888889",
         "1.0042620680342156",
         "0.0"
        ],
        [
         "11",
         "2020-07-05 00:01:19.792000",
         "0.4144942648592283",
         "0.5417371930360567",
         "0.0"
        ],
        [
         "12",
         "2020-07-05 00:01:40.246000",
         "0.2777027027027027",
         "0.7254185743272626",
         "0.0"
        ],
        [
         "13",
         "2020-07-05 00:01:40.355000",
         "0.9136029411764706",
         "0.8851818520280507",
         "0.0"
        ],
        [
         "14",
         "2020-07-05 00:01:40.379000",
         "1.0491818181818182",
         "0.9336406041401558",
         "0.0"
        ],
        [
         "15",
         "2020-07-05 00:02:04.795000",
         "0.3394409408556332",
         "0.5417371930360567",
         "0.0"
        ],
        [
         "16",
         "2020-07-05 00:02:08.236000",
         "0.5113544746036012",
         "0.9967246050205113",
         "0.0"
        ],
        [
         "17",
         "2020-07-05 00:02:29.367000",
         "1.339943342776204",
         "0.8159668221619765",
         "0.0"
        ],
        [
         "18",
         "2020-07-05 00:02:32.557000",
         "0.8631908237747654",
         "1.1335524528789929",
         "0.4144942648592283"
        ],
        [
         "19",
         "2020-07-05 00:02:35.966000",
         "0.39238060182203",
         "0.6531513656965198",
         "0.5731112542560044"
        ],
        [
         "20",
         "2020-07-05 00:02:50.999000",
         "0.2118594186112746",
         "1.0410070914732865",
         "0.0"
        ],
        [
         "21",
         "2020-07-05 00:02:51.585000",
         "1.2884",
         "0.9695713459934334",
         "0.0"
        ],
        [
         "22",
         "2020-07-05 00:02:57.898000",
         "0.6230466895779141",
         "1.2198828597220783",
         "0.2118594186112746"
        ],
        [
         "23",
         "2020-07-05 00:03:00.936000",
         "0.1401490751817428",
         "0.9581005440111057",
         "0.48274592803901717"
        ],
        [
         "24",
         "2020-07-05 00:03:09.410000",
         "0.9040429124863416",
         "1.0000090354928604",
         "0.0"
        ],
        [
         "25",
         "2020-07-05 00:03:15.532000",
         "0.5414318859794498",
         "0.9152611143325186",
         "0.0"
        ],
        [
         "26",
         "2020-07-05 00:03:17.081000",
         "3.0872784150156414",
         "0.9333221155119404",
         "0.6388425443169968"
        ],
        [
         "27",
         "2020-07-05 00:03:19.358000",
         "0.0631741140215716",
         "0.9581005440111057",
         "0.0"
        ],
        [
         "28",
         "2020-07-05 00:03:23.523000",
         "1.142027027027027",
         "0.9730390061145044",
         "0.2777027027027027"
        ],
        [
         "29",
         "2020-07-05 00:03:29.123000",
         "0.8516162669447341",
         "0.9062379296998809",
         "1.4549878345498783"
        ],
        [
         "30",
         "2020-07-05 00:03:33.047000",
         "2.005439261579034",
         "0.9581005440111057",
         "0.0"
        ],
        [
         "31",
         "2020-07-05 00:03:35.259000",
         "0.1082448153768335",
         "0.9695713459934334",
         "0.0"
        ],
        [
         "32",
         "2020-07-05 00:03:38.516000",
         "0.1771128030835247",
         "0.9062379296998809",
         "0.4174530540945943"
        ],
        [
         "33",
         "2020-07-05 00:03:42.002000",
         "0.4462982273201251",
         "0.6531513656965198",
         "1.3041449426485923"
        ],
        [
         "34",
         "2020-07-05 00:03:51.743000",
         "0.8193106188536804",
         "0.8881098556068956",
         "0.9040429124863416"
        ],
        [
         "35",
         "2020-07-05 00:04:03.948000",
         "0.348905109489051",
         "0.9695713459934334",
         "1.1325755995828988"
        ],
        [
         "36",
         "2020-07-05 00:04:05.918000",
         "1.084045881126173",
         "0.6512977972712335",
         "1.0019638512339242"
        ],
        [
         "37",
         "2020-07-05 00:04:11.218000",
         "0.775912408759124",
         "0.7177221399167409",
         "1.0136898555042453"
        ],
        [
         "38",
         "2020-07-05 00:04:16.830000",
         "0.8524504692387904",
         "0.8881098556068956",
         "0.9839676746611052"
        ],
        [
         "39",
         "2020-07-05 00:04:18.488000",
         "0.34625",
         "1.2198828597220783",
         "1.372638888888889"
        ],
        [
         "40",
         "2020-07-05 00:04:23.506000",
         "0.4488676996424314",
         "0.9757061555026388",
         "0.0"
        ],
        [
         "41",
         "2020-07-05 00:04:24.334000",
         "0.6090719499478624",
         "0.9581005440111057",
         "0.9693546518364037"
        ],
        [
         "42",
         "2020-07-05 00:04:24.610000",
         "0.859909090909091",
         "0.9730390061145044",
         "1.0491818181818182"
        ],
        [
         "43",
         "2020-07-05 00:04:31.673000",
         "0.8173096976016684",
         "0.8399479772002741",
         "0.9333263816475496"
        ],
        [
         "44",
         "2020-07-05 00:04:38.090000",
         "0.88875",
         "0.8225509969543826",
         "0.8594444444444445"
        ],
        [
         "45",
         "2020-07-05 00:04:48.860000",
         "0.8663636363636363",
         "0.9189702211965461",
         "0.9545454545454546"
        ],
        [
         "46",
         "2020-07-05 00:04:53.517000",
         "2.9757272727272728",
         "1.1335524528789929",
         "0.9251515151515152"
        ],
        [
         "47",
         "2020-07-05 00:04:54.021000",
         "0.5314510161097512",
         "0.7963153229431815",
         "0.0"
        ],
        [
         "48",
         "2020-07-05 00:04:56.169000",
         "1.105180822674151",
         "1.073369564307686",
         "0.3685469770865924"
        ],
        [
         "49",
         "2020-07-05 00:04:59.157000",
         "0.3419181659895531",
         "0.8301541922960861",
         "0.0"
        ]
       ],
       "shape": {
        "columns": 4,
        "rows": 3857013
       }
      },
      "text/html": [
       "<div>\n",
       "<style scoped>\n",
       "    .dataframe tbody tr th:only-of-type {\n",
       "        vertical-align: middle;\n",
       "    }\n",
       "\n",
       "    .dataframe tbody tr th {\n",
       "        vertical-align: top;\n",
       "    }\n",
       "\n",
       "    .dataframe thead th {\n",
       "        text-align: right;\n",
       "    }\n",
       "</style>\n",
       "<table border=\"1\" class=\"dataframe\">\n",
       "  <thead>\n",
       "    <tr style=\"text-align: right;\">\n",
       "      <th></th>\n",
       "      <th>time</th>\n",
       "      <th>watch_ratio</th>\n",
       "      <th>watch_ratio_mean</th>\n",
       "      <th>watch_ratio_prior_mean</th>\n",
       "    </tr>\n",
       "  </thead>\n",
       "  <tbody>\n",
       "    <tr>\n",
       "      <th>0</th>\n",
       "      <td>2020-07-04 02:23:26.060</td>\n",
       "      <td>1.981442</td>\n",
       "      <td>1.037910</td>\n",
       "      <td>0.000000</td>\n",
       "    </tr>\n",
       "    <tr>\n",
       "      <th>1</th>\n",
       "      <td>2020-07-04 04:03:18.888</td>\n",
       "      <td>0.964642</td>\n",
       "      <td>1.037910</td>\n",
       "      <td>0.000000</td>\n",
       "    </tr>\n",
       "    <tr>\n",
       "      <th>2</th>\n",
       "      <td>2020-07-04 04:03:53.725</td>\n",
       "      <td>0.112044</td>\n",
       "      <td>1.037910</td>\n",
       "      <td>0.000000</td>\n",
       "    </tr>\n",
       "    <tr>\n",
       "      <th>3</th>\n",
       "      <td>2020-07-04 04:35:24.528</td>\n",
       "      <td>0.700000</td>\n",
       "      <td>1.037910</td>\n",
       "      <td>0.000000</td>\n",
       "    </tr>\n",
       "    <tr>\n",
       "      <th>4</th>\n",
       "      <td>2020-07-04 06:32:23.949</td>\n",
       "      <td>0.906852</td>\n",
       "      <td>1.037910</td>\n",
       "      <td>0.000000</td>\n",
       "    </tr>\n",
       "    <tr>\n",
       "      <th>...</th>\n",
       "      <td>...</td>\n",
       "      <td>...</td>\n",
       "      <td>...</td>\n",
       "      <td>...</td>\n",
       "    </tr>\n",
       "    <tr>\n",
       "      <th>3857008</th>\n",
       "      <td>2020-09-05 23:52:40.419</td>\n",
       "      <td>0.171522</td>\n",
       "      <td>0.937582</td>\n",
       "      <td>0.273859</td>\n",
       "    </tr>\n",
       "    <tr>\n",
       "      <th>3857009</th>\n",
       "      <td>2020-09-05 23:52:56.230</td>\n",
       "      <td>0.612817</td>\n",
       "      <td>0.759180</td>\n",
       "      <td>0.892070</td>\n",
       "    </tr>\n",
       "    <tr>\n",
       "      <th>3857010</th>\n",
       "      <td>2020-09-05 23:53:50.831</td>\n",
       "      <td>0.451241</td>\n",
       "      <td>0.724104</td>\n",
       "      <td>0.826597</td>\n",
       "    </tr>\n",
       "    <tr>\n",
       "      <th>3857011</th>\n",
       "      <td>2020-09-05 23:57:15.282</td>\n",
       "      <td>0.871151</td>\n",
       "      <td>0.711956</td>\n",
       "      <td>0.989261</td>\n",
       "    </tr>\n",
       "    <tr>\n",
       "      <th>3857012</th>\n",
       "      <td>2020-09-05 23:57:23.683</td>\n",
       "      <td>0.569718</td>\n",
       "      <td>0.878452</td>\n",
       "      <td>0.998862</td>\n",
       "    </tr>\n",
       "  </tbody>\n",
       "</table>\n",
       "<p>3857013 rows × 4 columns</p>\n",
       "</div>"
      ],
      "text/plain": [
       "                           time  watch_ratio  watch_ratio_mean  \\\n",
       "0       2020-07-04 02:23:26.060     1.981442          1.037910   \n",
       "1       2020-07-04 04:03:18.888     0.964642          1.037910   \n",
       "2       2020-07-04 04:03:53.725     0.112044          1.037910   \n",
       "3       2020-07-04 04:35:24.528     0.700000          1.037910   \n",
       "4       2020-07-04 06:32:23.949     0.906852          1.037910   \n",
       "...                         ...          ...               ...   \n",
       "3857008 2020-09-05 23:52:40.419     0.171522          0.937582   \n",
       "3857009 2020-09-05 23:52:56.230     0.612817          0.759180   \n",
       "3857010 2020-09-05 23:53:50.831     0.451241          0.724104   \n",
       "3857011 2020-09-05 23:57:15.282     0.871151          0.711956   \n",
       "3857012 2020-09-05 23:57:23.683     0.569718          0.878452   \n",
       "\n",
       "         watch_ratio_prior_mean  \n",
       "0                      0.000000  \n",
       "1                      0.000000  \n",
       "2                      0.000000  \n",
       "3                      0.000000  \n",
       "4                      0.000000  \n",
       "...                         ...  \n",
       "3857008                0.273859  \n",
       "3857009                0.892070  \n",
       "3857010                0.826597  \n",
       "3857011                0.989261  \n",
       "3857012                0.998862  \n",
       "\n",
       "[3857013 rows x 4 columns]"
      ]
     },
     "execution_count": 2,
     "metadata": {},
     "output_type": "execute_result"
    }
   ],
   "source": [
    "data = pd.read_parquet(\"data/data.parquet\")\n",
    "data"
   ]
  },
  {
   "cell_type": "markdown",
   "id": "8f0af04a",
   "metadata": {},
   "source": [
    "## Split data into X_train / y_train / X_test / y_test"
   ]
  },
  {
   "cell_type": "code",
   "execution_count": 3,
   "id": "b7ed9f86",
   "metadata": {},
   "outputs": [],
   "source": [
    "def split_X_y(df: pd.DataFrame):\n",
    "    y = df[\"watch_ratio\"]\n",
    "    tmp = df.drop(columns=[\"watch_ratio\"])\n",
    "    X = tmp[[c for c in tmp.columns]]\n",
    "    return X, y\n",
    "\n",
    "def split_on_time(df: pd.DataFrame, split_ratio: int):\n",
    "    split_value = (int)(df.shape[0] * split_ratio)\n",
    "    sorted = df.sort_values(\"time\")\n",
    "    train = sorted.head(split_value)\n",
    "    test = sorted.tail(df.shape[0] - split_value)\n",
    "    return train, test\n",
    "\n",
    "def split_all(df: pd.DataFrame):\n",
    "    train, test = split_on_time(df, TRAIN_TEST_SPLIT)\n",
    "    train = train.drop(columns=[\"time\"])\n",
    "    test = test.drop(columns=[\"time\"])\n",
    "    X_train, y_train = split_X_y(train)\n",
    "    X_test, y_test = split_X_y(test)\n",
    "    test_watch_ratio_mean = test[\"watch_ratio_mean\"]\n",
    "    return np.array(X_train), np.array(y_train), np.array(X_test), np.array(y_test), test_watch_ratio_mean"
   ]
  },
  {
   "cell_type": "code",
   "execution_count": 4,
   "id": "d8188517",
   "metadata": {},
   "outputs": [],
   "source": [
    "X_train, y_train, X_test, y_test, test_watch_ratio_mean = split_all(data)"
   ]
  },
  {
   "cell_type": "markdown",
   "id": "394e3217",
   "metadata": {},
   "source": [
    "# AI"
   ]
  },
  {
   "cell_type": "markdown",
   "id": "d4e328e2",
   "metadata": {},
   "source": [
    "## Create the model"
   ]
  },
  {
   "cell_type": "code",
   "execution_count": 5,
   "id": "9060b4a5",
   "metadata": {},
   "outputs": [],
   "source": [
    "model = Sequential([\n",
    "    Input(shape=(2,)),\n",
    "\n",
    "    # Block 1\n",
    "    #Dense(128, activation='relu'),\n",
    "    #BatchNormalization(),\n",
    "    #Dropout(0.3),\n",
    "\n",
    "    # Block 2\n",
    "    Dense(64, activation='relu'),\n",
    "    BatchNormalization(),\n",
    "    Dropout(0.2),\n",
    "\n",
    "    # Output layer: sigmoid in [0,1], scaled to [0,5]\n",
    "    Dense(1, activation='sigmoid'),\n",
    "    Lambda(lambda x: x * 5.0)\n",
    "])\n",
    "\n",
    "model.compile(\n",
    "    optimizer='adam',\n",
    "    loss='mean_squared_error',\n",
    "    metrics=['mae']\n",
    ")"
   ]
  },
  {
   "cell_type": "markdown",
   "id": "3a1e78f8",
   "metadata": {},
   "source": [
    "## Train the model"
   ]
  },
  {
   "cell_type": "code",
   "execution_count": 13,
   "id": "495dab58",
   "metadata": {},
   "outputs": [
    {
     "name": "stdout",
     "output_type": "stream",
     "text": [
      "Epoch 1/10\n",
      "\u001b[1m678/678\u001b[0m \u001b[32m━━━━━━━━━━━━━━━━━━━━\u001b[0m\u001b[37m\u001b[0m \u001b[1m2s\u001b[0m 3ms/step - loss: 0.2343 - mae: 0.3123 - val_loss: 0.2153 - val_mae: 0.2915\n",
      "Epoch 2/10\n",
      "\u001b[1m678/678\u001b[0m \u001b[32m━━━━━━━━━━━━━━━━━━━━\u001b[0m\u001b[37m\u001b[0m \u001b[1m2s\u001b[0m 3ms/step - loss: 0.2342 - mae: 0.3121 - val_loss: 0.2153 - val_mae: 0.2910\n",
      "Epoch 3/10\n",
      "\u001b[1m678/678\u001b[0m \u001b[32m━━━━━━━━━━━━━━━━━━━━\u001b[0m\u001b[37m\u001b[0m \u001b[1m2s\u001b[0m 3ms/step - loss: 0.2342 - mae: 0.3122 - val_loss: 0.2153 - val_mae: 0.2913\n",
      "Epoch 4/10\n",
      "\u001b[1m678/678\u001b[0m \u001b[32m━━━━━━━━━━━━━━━━━━━━\u001b[0m\u001b[37m\u001b[0m \u001b[1m2s\u001b[0m 3ms/step - loss: 0.2343 - mae: 0.3122 - val_loss: 0.2153 - val_mae: 0.2910\n",
      "Epoch 5/10\n",
      "\u001b[1m678/678\u001b[0m \u001b[32m━━━━━━━━━━━━━━━━━━━━\u001b[0m\u001b[37m\u001b[0m \u001b[1m2s\u001b[0m 3ms/step - loss: 0.2342 - mae: 0.3122 - val_loss: 0.2153 - val_mae: 0.2912\n",
      "Epoch 6/10\n",
      "\u001b[1m206/678\u001b[0m \u001b[32m━━━━━━\u001b[0m\u001b[37m━━━━━━━━━━━━━━\u001b[0m \u001b[1m1s\u001b[0m 3ms/step - loss: 0.2339 - mae: 0.3123"
     ]
    },
    {
     "ename": "KeyboardInterrupt",
     "evalue": "",
     "output_type": "error",
     "traceback": [
      "\u001b[31m---------------------------------------------------------------------------\u001b[39m",
      "\u001b[31mKeyboardInterrupt\u001b[39m                         Traceback (most recent call last)",
      "\u001b[36mCell\u001b[39m\u001b[36m \u001b[39m\u001b[32mIn[13]\u001b[39m\u001b[32m, line 1\u001b[39m\n\u001b[32m----> \u001b[39m\u001b[32m1\u001b[39m \u001b[43mmodel\u001b[49m\u001b[43m.\u001b[49m\u001b[43mfit\u001b[49m\u001b[43m(\u001b[49m\n\u001b[32m      2\u001b[39m \u001b[43m    \u001b[49m\u001b[43mX_train\u001b[49m\u001b[43m,\u001b[49m\n\u001b[32m      3\u001b[39m \u001b[43m    \u001b[49m\u001b[43my_train\u001b[49m\u001b[43m,\u001b[49m\n\u001b[32m      4\u001b[39m \u001b[43m    \u001b[49m\u001b[43mvalidation_split\u001b[49m\u001b[43m=\u001b[49m\u001b[32;43m0.1\u001b[39;49m\u001b[43m,\u001b[49m\n\u001b[32m      5\u001b[39m \u001b[43m    \u001b[49m\u001b[43mepochs\u001b[49m\u001b[43m=\u001b[49m\u001b[32;43m10\u001b[39;49m\u001b[43m,\u001b[49m\n\u001b[32m      6\u001b[39m \u001b[43m    \u001b[49m\u001b[43mbatch_size\u001b[49m\u001b[43m=\u001b[49m\u001b[32;43m4096\u001b[39;49m\u001b[43m,\u001b[49m\n\u001b[32m      7\u001b[39m \u001b[43m    \u001b[49m\u001b[38;5;66;43;03m#class_weight=class_weights_dict,\u001b[39;49;00m\n\u001b[32m      8\u001b[39m \u001b[43m    \u001b[49m\u001b[43mcallbacks\u001b[49m\u001b[43m=\u001b[49m\u001b[43m[\u001b[49m\u001b[43mtf\u001b[49m\u001b[43m.\u001b[49m\u001b[43mkeras\u001b[49m\u001b[43m.\u001b[49m\u001b[43mcallbacks\u001b[49m\u001b[43m.\u001b[49m\u001b[43mEarlyStopping\u001b[49m\u001b[43m(\u001b[49m\u001b[43mpatience\u001b[49m\u001b[43m=\u001b[49m\u001b[32;43m5\u001b[39;49m\u001b[43m,\u001b[49m\u001b[43m \u001b[49m\u001b[43mrestore_best_weights\u001b[49m\u001b[43m=\u001b[49m\u001b[38;5;28;43;01mTrue\u001b[39;49;00m\u001b[43m)\u001b[49m\u001b[43m]\u001b[49m\u001b[43m,\u001b[49m\n\u001b[32m      9\u001b[39m \u001b[43m    \u001b[49m\u001b[43mverbose\u001b[49m\u001b[43m=\u001b[49m\u001b[32;43m1\u001b[39;49m\n\u001b[32m     10\u001b[39m \u001b[43m)\u001b[49m\n",
      "\u001b[36mFile \u001b[39m\u001b[32m~/anaconda3/envs/rema/lib/python3.11/site-packages/keras/src/utils/traceback_utils.py:117\u001b[39m, in \u001b[36mfilter_traceback.<locals>.error_handler\u001b[39m\u001b[34m(*args, **kwargs)\u001b[39m\n\u001b[32m    115\u001b[39m filtered_tb = \u001b[38;5;28;01mNone\u001b[39;00m\n\u001b[32m    116\u001b[39m \u001b[38;5;28;01mtry\u001b[39;00m:\n\u001b[32m--> \u001b[39m\u001b[32m117\u001b[39m     \u001b[38;5;28;01mreturn\u001b[39;00m \u001b[43mfn\u001b[49m\u001b[43m(\u001b[49m\u001b[43m*\u001b[49m\u001b[43margs\u001b[49m\u001b[43m,\u001b[49m\u001b[43m \u001b[49m\u001b[43m*\u001b[49m\u001b[43m*\u001b[49m\u001b[43mkwargs\u001b[49m\u001b[43m)\u001b[49m\n\u001b[32m    118\u001b[39m \u001b[38;5;28;01mexcept\u001b[39;00m \u001b[38;5;167;01mException\u001b[39;00m \u001b[38;5;28;01mas\u001b[39;00m e:\n\u001b[32m    119\u001b[39m     filtered_tb = _process_traceback_frames(e.__traceback__)\n",
      "\u001b[36mFile \u001b[39m\u001b[32m~/anaconda3/envs/rema/lib/python3.11/site-packages/keras/src/backend/tensorflow/trainer.py:371\u001b[39m, in \u001b[36mTensorFlowTrainer.fit\u001b[39m\u001b[34m(self, x, y, batch_size, epochs, verbose, callbacks, validation_split, validation_data, shuffle, class_weight, sample_weight, initial_epoch, steps_per_epoch, validation_steps, validation_batch_size, validation_freq)\u001b[39m\n\u001b[32m    369\u001b[39m \u001b[38;5;28;01mfor\u001b[39;00m step, iterator \u001b[38;5;129;01min\u001b[39;00m epoch_iterator:\n\u001b[32m    370\u001b[39m     callbacks.on_train_batch_begin(step)\n\u001b[32m--> \u001b[39m\u001b[32m371\u001b[39m     logs = \u001b[38;5;28;43mself\u001b[39;49m\u001b[43m.\u001b[49m\u001b[43mtrain_function\u001b[49m\u001b[43m(\u001b[49m\u001b[43miterator\u001b[49m\u001b[43m)\u001b[49m\n\u001b[32m    372\u001b[39m     callbacks.on_train_batch_end(step, logs)\n\u001b[32m    373\u001b[39m     \u001b[38;5;28;01mif\u001b[39;00m \u001b[38;5;28mself\u001b[39m.stop_training:\n",
      "\u001b[36mFile \u001b[39m\u001b[32m~/anaconda3/envs/rema/lib/python3.11/site-packages/keras/src/backend/tensorflow/trainer.py:219\u001b[39m, in \u001b[36mTensorFlowTrainer._make_function.<locals>.function\u001b[39m\u001b[34m(iterator)\u001b[39m\n\u001b[32m    215\u001b[39m \u001b[38;5;28;01mdef\u001b[39;00m\u001b[38;5;250m \u001b[39m\u001b[34mfunction\u001b[39m(iterator):\n\u001b[32m    216\u001b[39m     \u001b[38;5;28;01mif\u001b[39;00m \u001b[38;5;28misinstance\u001b[39m(\n\u001b[32m    217\u001b[39m         iterator, (tf.data.Iterator, tf.distribute.DistributedIterator)\n\u001b[32m    218\u001b[39m     ):\n\u001b[32m--> \u001b[39m\u001b[32m219\u001b[39m         opt_outputs = \u001b[43mmulti_step_on_iterator\u001b[49m\u001b[43m(\u001b[49m\u001b[43miterator\u001b[49m\u001b[43m)\u001b[49m\n\u001b[32m    220\u001b[39m         \u001b[38;5;28;01mif\u001b[39;00m \u001b[38;5;129;01mnot\u001b[39;00m opt_outputs.has_value():\n\u001b[32m    221\u001b[39m             \u001b[38;5;28;01mraise\u001b[39;00m \u001b[38;5;167;01mStopIteration\u001b[39;00m\n",
      "\u001b[36mFile \u001b[39m\u001b[32m~/anaconda3/envs/rema/lib/python3.11/site-packages/tensorflow/python/util/traceback_utils.py:150\u001b[39m, in \u001b[36mfilter_traceback.<locals>.error_handler\u001b[39m\u001b[34m(*args, **kwargs)\u001b[39m\n\u001b[32m    148\u001b[39m filtered_tb = \u001b[38;5;28;01mNone\u001b[39;00m\n\u001b[32m    149\u001b[39m \u001b[38;5;28;01mtry\u001b[39;00m:\n\u001b[32m--> \u001b[39m\u001b[32m150\u001b[39m   \u001b[38;5;28;01mreturn\u001b[39;00m \u001b[43mfn\u001b[49m\u001b[43m(\u001b[49m\u001b[43m*\u001b[49m\u001b[43margs\u001b[49m\u001b[43m,\u001b[49m\u001b[43m \u001b[49m\u001b[43m*\u001b[49m\u001b[43m*\u001b[49m\u001b[43mkwargs\u001b[49m\u001b[43m)\u001b[49m\n\u001b[32m    151\u001b[39m \u001b[38;5;28;01mexcept\u001b[39;00m \u001b[38;5;167;01mException\u001b[39;00m \u001b[38;5;28;01mas\u001b[39;00m e:\n\u001b[32m    152\u001b[39m   filtered_tb = _process_traceback_frames(e.__traceback__)\n",
      "\u001b[36mFile \u001b[39m\u001b[32m~/anaconda3/envs/rema/lib/python3.11/site-packages/tensorflow/python/eager/polymorphic_function/polymorphic_function.py:833\u001b[39m, in \u001b[36mFunction.__call__\u001b[39m\u001b[34m(self, *args, **kwds)\u001b[39m\n\u001b[32m    830\u001b[39m compiler = \u001b[33m\"\u001b[39m\u001b[33mxla\u001b[39m\u001b[33m\"\u001b[39m \u001b[38;5;28;01mif\u001b[39;00m \u001b[38;5;28mself\u001b[39m._jit_compile \u001b[38;5;28;01melse\u001b[39;00m \u001b[33m\"\u001b[39m\u001b[33mnonXla\u001b[39m\u001b[33m\"\u001b[39m\n\u001b[32m    832\u001b[39m \u001b[38;5;28;01mwith\u001b[39;00m OptionalXlaContext(\u001b[38;5;28mself\u001b[39m._jit_compile):\n\u001b[32m--> \u001b[39m\u001b[32m833\u001b[39m   result = \u001b[38;5;28;43mself\u001b[39;49m\u001b[43m.\u001b[49m\u001b[43m_call\u001b[49m\u001b[43m(\u001b[49m\u001b[43m*\u001b[49m\u001b[43margs\u001b[49m\u001b[43m,\u001b[49m\u001b[43m \u001b[49m\u001b[43m*\u001b[49m\u001b[43m*\u001b[49m\u001b[43mkwds\u001b[49m\u001b[43m)\u001b[49m\n\u001b[32m    835\u001b[39m new_tracing_count = \u001b[38;5;28mself\u001b[39m.experimental_get_tracing_count()\n\u001b[32m    836\u001b[39m without_tracing = (tracing_count == new_tracing_count)\n",
      "\u001b[36mFile \u001b[39m\u001b[32m~/anaconda3/envs/rema/lib/python3.11/site-packages/tensorflow/python/eager/polymorphic_function/polymorphic_function.py:878\u001b[39m, in \u001b[36mFunction._call\u001b[39m\u001b[34m(self, *args, **kwds)\u001b[39m\n\u001b[32m    875\u001b[39m \u001b[38;5;28mself\u001b[39m._lock.release()\n\u001b[32m    876\u001b[39m \u001b[38;5;66;03m# In this case we have not created variables on the first call. So we can\u001b[39;00m\n\u001b[32m    877\u001b[39m \u001b[38;5;66;03m# run the first trace but we should fail if variables are created.\u001b[39;00m\n\u001b[32m--> \u001b[39m\u001b[32m878\u001b[39m results = \u001b[43mtracing_compilation\u001b[49m\u001b[43m.\u001b[49m\u001b[43mcall_function\u001b[49m\u001b[43m(\u001b[49m\n\u001b[32m    879\u001b[39m \u001b[43m    \u001b[49m\u001b[43margs\u001b[49m\u001b[43m,\u001b[49m\u001b[43m \u001b[49m\u001b[43mkwds\u001b[49m\u001b[43m,\u001b[49m\u001b[43m \u001b[49m\u001b[38;5;28;43mself\u001b[39;49m\u001b[43m.\u001b[49m\u001b[43m_variable_creation_config\u001b[49m\n\u001b[32m    880\u001b[39m \u001b[43m\u001b[49m\u001b[43m)\u001b[49m\n\u001b[32m    881\u001b[39m \u001b[38;5;28;01mif\u001b[39;00m \u001b[38;5;28mself\u001b[39m._created_variables:\n\u001b[32m    882\u001b[39m   \u001b[38;5;28;01mraise\u001b[39;00m \u001b[38;5;167;01mValueError\u001b[39;00m(\u001b[33m\"\u001b[39m\u001b[33mCreating variables on a non-first call to a function\u001b[39m\u001b[33m\"\u001b[39m\n\u001b[32m    883\u001b[39m                    \u001b[33m\"\u001b[39m\u001b[33m decorated with tf.function.\u001b[39m\u001b[33m\"\u001b[39m)\n",
      "\u001b[36mFile \u001b[39m\u001b[32m~/anaconda3/envs/rema/lib/python3.11/site-packages/tensorflow/python/eager/polymorphic_function/tracing_compilation.py:139\u001b[39m, in \u001b[36mcall_function\u001b[39m\u001b[34m(args, kwargs, tracing_options)\u001b[39m\n\u001b[32m    137\u001b[39m bound_args = function.function_type.bind(*args, **kwargs)\n\u001b[32m    138\u001b[39m flat_inputs = function.function_type.unpack_inputs(bound_args)\n\u001b[32m--> \u001b[39m\u001b[32m139\u001b[39m \u001b[38;5;28;01mreturn\u001b[39;00m \u001b[43mfunction\u001b[49m\u001b[43m.\u001b[49m\u001b[43m_call_flat\u001b[49m\u001b[43m(\u001b[49m\u001b[43m  \u001b[49m\u001b[38;5;66;43;03m# pylint: disable=protected-access\u001b[39;49;00m\n\u001b[32m    140\u001b[39m \u001b[43m    \u001b[49m\u001b[43mflat_inputs\u001b[49m\u001b[43m,\u001b[49m\u001b[43m \u001b[49m\u001b[43mcaptured_inputs\u001b[49m\u001b[43m=\u001b[49m\u001b[43mfunction\u001b[49m\u001b[43m.\u001b[49m\u001b[43mcaptured_inputs\u001b[49m\n\u001b[32m    141\u001b[39m \u001b[43m\u001b[49m\u001b[43m)\u001b[49m\n",
      "\u001b[36mFile \u001b[39m\u001b[32m~/anaconda3/envs/rema/lib/python3.11/site-packages/tensorflow/python/eager/polymorphic_function/concrete_function.py:1322\u001b[39m, in \u001b[36mConcreteFunction._call_flat\u001b[39m\u001b[34m(self, tensor_inputs, captured_inputs)\u001b[39m\n\u001b[32m   1318\u001b[39m possible_gradient_type = gradients_util.PossibleTapeGradientTypes(args)\n\u001b[32m   1319\u001b[39m \u001b[38;5;28;01mif\u001b[39;00m (possible_gradient_type == gradients_util.POSSIBLE_GRADIENT_TYPES_NONE\n\u001b[32m   1320\u001b[39m     \u001b[38;5;129;01mand\u001b[39;00m executing_eagerly):\n\u001b[32m   1321\u001b[39m   \u001b[38;5;66;03m# No tape is watching; skip to running the function.\u001b[39;00m\n\u001b[32m-> \u001b[39m\u001b[32m1322\u001b[39m   \u001b[38;5;28;01mreturn\u001b[39;00m \u001b[38;5;28;43mself\u001b[39;49m\u001b[43m.\u001b[49m\u001b[43m_inference_function\u001b[49m\u001b[43m.\u001b[49m\u001b[43mcall_preflattened\u001b[49m\u001b[43m(\u001b[49m\u001b[43margs\u001b[49m\u001b[43m)\u001b[49m\n\u001b[32m   1323\u001b[39m forward_backward = \u001b[38;5;28mself\u001b[39m._select_forward_and_backward_functions(\n\u001b[32m   1324\u001b[39m     args,\n\u001b[32m   1325\u001b[39m     possible_gradient_type,\n\u001b[32m   1326\u001b[39m     executing_eagerly)\n\u001b[32m   1327\u001b[39m forward_function, args_with_tangents = forward_backward.forward()\n",
      "\u001b[36mFile \u001b[39m\u001b[32m~/anaconda3/envs/rema/lib/python3.11/site-packages/tensorflow/python/eager/polymorphic_function/atomic_function.py:216\u001b[39m, in \u001b[36mAtomicFunction.call_preflattened\u001b[39m\u001b[34m(self, args)\u001b[39m\n\u001b[32m    214\u001b[39m \u001b[38;5;28;01mdef\u001b[39;00m\u001b[38;5;250m \u001b[39m\u001b[34mcall_preflattened\u001b[39m(\u001b[38;5;28mself\u001b[39m, args: Sequence[core.Tensor]) -> Any:\n\u001b[32m    215\u001b[39m \u001b[38;5;250m  \u001b[39m\u001b[33;03m\"\"\"Calls with flattened tensor inputs and returns the structured output.\"\"\"\u001b[39;00m\n\u001b[32m--> \u001b[39m\u001b[32m216\u001b[39m   flat_outputs = \u001b[38;5;28;43mself\u001b[39;49m\u001b[43m.\u001b[49m\u001b[43mcall_flat\u001b[49m\u001b[43m(\u001b[49m\u001b[43m*\u001b[49m\u001b[43margs\u001b[49m\u001b[43m)\u001b[49m\n\u001b[32m    217\u001b[39m   \u001b[38;5;28;01mreturn\u001b[39;00m \u001b[38;5;28mself\u001b[39m.function_type.pack_output(flat_outputs)\n",
      "\u001b[36mFile \u001b[39m\u001b[32m~/anaconda3/envs/rema/lib/python3.11/site-packages/tensorflow/python/eager/polymorphic_function/atomic_function.py:251\u001b[39m, in \u001b[36mAtomicFunction.call_flat\u001b[39m\u001b[34m(self, *args)\u001b[39m\n\u001b[32m    249\u001b[39m \u001b[38;5;28;01mwith\u001b[39;00m record.stop_recording():\n\u001b[32m    250\u001b[39m   \u001b[38;5;28;01mif\u001b[39;00m \u001b[38;5;28mself\u001b[39m._bound_context.executing_eagerly():\n\u001b[32m--> \u001b[39m\u001b[32m251\u001b[39m     outputs = \u001b[38;5;28;43mself\u001b[39;49m\u001b[43m.\u001b[49m\u001b[43m_bound_context\u001b[49m\u001b[43m.\u001b[49m\u001b[43mcall_function\u001b[49m\u001b[43m(\u001b[49m\n\u001b[32m    252\u001b[39m \u001b[43m        \u001b[49m\u001b[38;5;28;43mself\u001b[39;49m\u001b[43m.\u001b[49m\u001b[43mname\u001b[49m\u001b[43m,\u001b[49m\n\u001b[32m    253\u001b[39m \u001b[43m        \u001b[49m\u001b[38;5;28;43mlist\u001b[39;49m\u001b[43m(\u001b[49m\u001b[43margs\u001b[49m\u001b[43m)\u001b[49m\u001b[43m,\u001b[49m\n\u001b[32m    254\u001b[39m \u001b[43m        \u001b[49m\u001b[38;5;28;43mlen\u001b[39;49m\u001b[43m(\u001b[49m\u001b[38;5;28;43mself\u001b[39;49m\u001b[43m.\u001b[49m\u001b[43mfunction_type\u001b[49m\u001b[43m.\u001b[49m\u001b[43mflat_outputs\u001b[49m\u001b[43m)\u001b[49m\u001b[43m,\u001b[49m\n\u001b[32m    255\u001b[39m \u001b[43m    \u001b[49m\u001b[43m)\u001b[49m\n\u001b[32m    256\u001b[39m   \u001b[38;5;28;01melse\u001b[39;00m:\n\u001b[32m    257\u001b[39m     outputs = make_call_op_in_graph(\n\u001b[32m    258\u001b[39m         \u001b[38;5;28mself\u001b[39m,\n\u001b[32m    259\u001b[39m         \u001b[38;5;28mlist\u001b[39m(args),\n\u001b[32m    260\u001b[39m         \u001b[38;5;28mself\u001b[39m._bound_context.function_call_options.as_attrs(),\n\u001b[32m    261\u001b[39m     )\n",
      "\u001b[36mFile \u001b[39m\u001b[32m~/anaconda3/envs/rema/lib/python3.11/site-packages/tensorflow/python/eager/context.py:1683\u001b[39m, in \u001b[36mContext.call_function\u001b[39m\u001b[34m(self, name, tensor_inputs, num_outputs)\u001b[39m\n\u001b[32m   1681\u001b[39m cancellation_context = cancellation.context()\n\u001b[32m   1682\u001b[39m \u001b[38;5;28;01mif\u001b[39;00m cancellation_context \u001b[38;5;129;01mis\u001b[39;00m \u001b[38;5;28;01mNone\u001b[39;00m:\n\u001b[32m-> \u001b[39m\u001b[32m1683\u001b[39m   outputs = \u001b[43mexecute\u001b[49m\u001b[43m.\u001b[49m\u001b[43mexecute\u001b[49m\u001b[43m(\u001b[49m\n\u001b[32m   1684\u001b[39m \u001b[43m      \u001b[49m\u001b[43mname\u001b[49m\u001b[43m.\u001b[49m\u001b[43mdecode\u001b[49m\u001b[43m(\u001b[49m\u001b[33;43m\"\u001b[39;49m\u001b[33;43mutf-8\u001b[39;49m\u001b[33;43m\"\u001b[39;49m\u001b[43m)\u001b[49m\u001b[43m,\u001b[49m\n\u001b[32m   1685\u001b[39m \u001b[43m      \u001b[49m\u001b[43mnum_outputs\u001b[49m\u001b[43m=\u001b[49m\u001b[43mnum_outputs\u001b[49m\u001b[43m,\u001b[49m\n\u001b[32m   1686\u001b[39m \u001b[43m      \u001b[49m\u001b[43minputs\u001b[49m\u001b[43m=\u001b[49m\u001b[43mtensor_inputs\u001b[49m\u001b[43m,\u001b[49m\n\u001b[32m   1687\u001b[39m \u001b[43m      \u001b[49m\u001b[43mattrs\u001b[49m\u001b[43m=\u001b[49m\u001b[43mattrs\u001b[49m\u001b[43m,\u001b[49m\n\u001b[32m   1688\u001b[39m \u001b[43m      \u001b[49m\u001b[43mctx\u001b[49m\u001b[43m=\u001b[49m\u001b[38;5;28;43mself\u001b[39;49m\u001b[43m,\u001b[49m\n\u001b[32m   1689\u001b[39m \u001b[43m  \u001b[49m\u001b[43m)\u001b[49m\n\u001b[32m   1690\u001b[39m \u001b[38;5;28;01melse\u001b[39;00m:\n\u001b[32m   1691\u001b[39m   outputs = execute.execute_with_cancellation(\n\u001b[32m   1692\u001b[39m       name.decode(\u001b[33m\"\u001b[39m\u001b[33mutf-8\u001b[39m\u001b[33m\"\u001b[39m),\n\u001b[32m   1693\u001b[39m       num_outputs=num_outputs,\n\u001b[32m   (...)\u001b[39m\u001b[32m   1697\u001b[39m       cancellation_manager=cancellation_context,\n\u001b[32m   1698\u001b[39m   )\n",
      "\u001b[36mFile \u001b[39m\u001b[32m~/anaconda3/envs/rema/lib/python3.11/site-packages/tensorflow/python/eager/execute.py:53\u001b[39m, in \u001b[36mquick_execute\u001b[39m\u001b[34m(op_name, num_outputs, inputs, attrs, ctx, name)\u001b[39m\n\u001b[32m     51\u001b[39m \u001b[38;5;28;01mtry\u001b[39;00m:\n\u001b[32m     52\u001b[39m   ctx.ensure_initialized()\n\u001b[32m---> \u001b[39m\u001b[32m53\u001b[39m   tensors = \u001b[43mpywrap_tfe\u001b[49m\u001b[43m.\u001b[49m\u001b[43mTFE_Py_Execute\u001b[49m\u001b[43m(\u001b[49m\u001b[43mctx\u001b[49m\u001b[43m.\u001b[49m\u001b[43m_handle\u001b[49m\u001b[43m,\u001b[49m\u001b[43m \u001b[49m\u001b[43mdevice_name\u001b[49m\u001b[43m,\u001b[49m\u001b[43m \u001b[49m\u001b[43mop_name\u001b[49m\u001b[43m,\u001b[49m\n\u001b[32m     54\u001b[39m \u001b[43m                                      \u001b[49m\u001b[43minputs\u001b[49m\u001b[43m,\u001b[49m\u001b[43m \u001b[49m\u001b[43mattrs\u001b[49m\u001b[43m,\u001b[49m\u001b[43m \u001b[49m\u001b[43mnum_outputs\u001b[49m\u001b[43m)\u001b[49m\n\u001b[32m     55\u001b[39m \u001b[38;5;28;01mexcept\u001b[39;00m core._NotOkStatusException \u001b[38;5;28;01mas\u001b[39;00m e:\n\u001b[32m     56\u001b[39m   \u001b[38;5;28;01mif\u001b[39;00m name \u001b[38;5;129;01mis\u001b[39;00m \u001b[38;5;129;01mnot\u001b[39;00m \u001b[38;5;28;01mNone\u001b[39;00m:\n",
      "\u001b[31mKeyboardInterrupt\u001b[39m: "
     ]
    }
   ],
   "source": [
    "model.fit(\n",
    "    X_train,\n",
    "    y_train,\n",
    "    validation_split=0.1,\n",
    "    epochs=10,\n",
    "    batch_size=4096,\n",
    "    #class_weight=class_weights_dict,\n",
    "    callbacks=[tf.keras.callbacks.EarlyStopping(patience=5, restore_best_weights=True)],\n",
    "    verbose=1\n",
    ")"
   ]
  },
  {
   "cell_type": "markdown",
   "id": "5095d3a9",
   "metadata": {},
   "source": [
    "## Predict video watch_ratio and compare it to the baseline"
   ]
  },
  {
   "cell_type": "code",
   "execution_count": 14,
   "id": "ce033cc1",
   "metadata": {},
   "outputs": [
    {
     "name": "stdout",
     "output_type": "stream",
     "text": [
      "Baseline MAE: 0.43516791225066387\n",
      "Actual MAE: 0.3081290816521422\n"
     ]
    }
   ],
   "source": [
    "baseline = np.full_like(y_test, np.mean(y_test), dtype=np.float32)\n",
    "preds = model.predict(X_test, batch_size=2048, verbose=None)\n",
    "mae_baseline = np.mean(np.abs(baseline - y_test))\n",
    "mae_model = np.mean(np.abs(preds.flatten() - y_test))\n",
    "print(f\"Baseline MAE: {mae_baseline}\")\n",
    "print(f\"Actual MAE: {mae_model}\")"
   ]
  },
  {
   "cell_type": "code",
   "execution_count": 8,
   "id": "3243d312",
   "metadata": {},
   "outputs": [
    {
     "data": {
      "text/plain": [
       "np.float64(0.4275432114042026)"
      ]
     },
     "execution_count": 8,
     "metadata": {},
     "output_type": "execute_result"
    }
   ],
   "source": [
    "np.mean(np.abs(y_test.flatten() - test_watch_ratio_mean))"
   ]
  }
 ],
 "metadata": {
  "kernelspec": {
   "display_name": "rema",
   "language": "python",
   "name": "python3"
  },
  "language_info": {
   "codemirror_mode": {
    "name": "ipython",
    "version": 3
   },
   "file_extension": ".py",
   "mimetype": "text/x-python",
   "name": "python",
   "nbconvert_exporter": "python",
   "pygments_lexer": "ipython3",
   "version": "3.11.12"
  }
 },
 "nbformat": 4,
 "nbformat_minor": 5
}
