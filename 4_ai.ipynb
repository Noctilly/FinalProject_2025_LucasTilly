{
 "cells": [
  {
   "cell_type": "markdown",
   "id": "b5f487a4",
   "metadata": {},
   "source": [
    "# Import necessary libraries"
   ]
  },
  {
   "cell_type": "code",
   "execution_count": 1,
   "id": "56fbc40f",
   "metadata": {},
   "outputs": [
    {
     "name": "stderr",
     "output_type": "stream",
     "text": [
      "2025-05-17 22:08:38.102445: I tensorflow/core/platform/cpu_feature_guard.cc:210] This TensorFlow binary is optimized to use available CPU instructions in performance-critical operations.\n",
      "To enable the following instructions: SSE4.1 SSE4.2 AVX AVX2 FMA, in other operations, rebuild TensorFlow with the appropriate compiler flags.\n"
     ]
    }
   ],
   "source": [
    "# Data imports\n",
    "import pandas as pd\n",
    "import numpy as np\n",
    "\n",
    "# AI imports\n",
    "import tensorflow as tf\n",
    "from tensorflow.keras.models import Sequential\n",
    "from tensorflow.keras.layers import Dense, Dropout, BatchNormalization, Input, Lambda\n",
    "\n",
    "from sklearn.preprocessing import RobustScaler"
   ]
  },
  {
   "cell_type": "markdown",
   "id": "b3dbfbd0",
   "metadata": {},
   "source": [
    "# Prepare environment"
   ]
  },
  {
   "cell_type": "code",
   "execution_count": 2,
   "id": "a275a7eb",
   "metadata": {},
   "outputs": [],
   "source": [
    "SEED = 42\n",
    "tf.random.set_seed(SEED)\n",
    "\n",
    "TRAIN_TEST_SPLIT = 0.8\n",
    "FEATURES_PATH = \"data/features/\""
   ]
  },
  {
   "cell_type": "markdown",
   "id": "e77538e8",
   "metadata": {},
   "source": [
    "# Prepare Data"
   ]
  },
  {
   "cell_type": "markdown",
   "id": "60dbfa52",
   "metadata": {},
   "source": [
    "## Load Data"
   ]
  },
  {
   "cell_type": "code",
   "execution_count": 3,
   "id": "88f3f035",
   "metadata": {},
   "outputs": [
    {
     "data": {
      "application/vnd.microsoft.datawrangler.viewer.v0+json": {
       "columns": [
        {
         "name": "index",
         "rawType": "int64",
         "type": "integer"
        },
        {
         "name": "watch_ratio",
         "rawType": "float64",
         "type": "float"
        },
        {
         "name": "video_duration",
         "rawType": "float64",
         "type": "float"
        },
        {
         "name": "user_watch_ratio_mean",
         "rawType": "float64",
         "type": "float"
        },
        {
         "name": "video_watch_ratio_mean",
         "rawType": "float64",
         "type": "float"
        },
        {
         "name": "user_feat_watch_ratio_mean",
         "rawType": "float64",
         "type": "float"
        },
        {
         "name": "user_category_watch_ratio_mean",
         "rawType": "float64",
         "type": "float"
        }
       ],
       "conversionMethod": "pd.DataFrame",
       "ref": "d22fb652-79cd-4339-8ae0-e4362f273cc9",
       "rows": [
        [
         "0",
         "1.2733965215790926",
         "0.336768149882904",
         "0.5086278508987515",
         "-0.19658761757495416",
         "0.3115429884641318",
         "0.43286966359965934"
        ],
        [
         "1",
         "0.1076125442589782",
         "-0.35620608899297423",
         "0.5086278508987515",
         "0.45284363519346355",
         "0.39048345498408915",
         "0.11737378193952715"
        ],
        [
         "2",
         "1.4343065693430657",
         "0.03770491803278689",
         "0.5086278508987515",
         "0.21311377789953123",
         "0.43881040378543257",
         "0.43286966359965934"
        ],
        [
         "3",
         "1.2964545454545457",
         "0.36791569086651055",
         "0.5086278508987515",
         "-0.2214458598163404",
         "-0.2914534883022483",
         "-0.1280645859212215"
        ],
        [
         "4",
         "3.1138059701492535",
         "-0.19976580796252927",
         "0.5086278508987515",
         "0.5365281068632922",
         "0.4077079495664896",
         "0.2724380801310014"
        ],
        [
         "5",
         "0.1753976030752996",
         "0.8988290398126464",
         "0.5086278508987515",
         "-0.5671776432641822",
         "0.1193768355547227",
         "0.4248238161825844"
        ],
        [
         "6",
         "2.212061894108874",
         "0.3042154566744731",
         "0.5086278508987515",
         "-0.29988092042871045",
         "0.7474150536095465",
         "0.43286966359965934"
        ],
        [
         "7",
         "0.1304918032786885",
         "-0.7796252927400469",
         "0.5086278508987515",
         "1.285245871265363",
         "0.5660778191067333",
         "0.43286966359965934"
        ],
        [
         "8",
         "2.7666632538138627",
         "0.07915690866510539",
         "0.5086278508987515",
         "0.18448180941496467",
         "0.25082658283473697",
         "0.2724380801310014"
        ],
        [
         "9",
         "1.8889678703440431",
         "-0.5608899297423887",
         "0.5086278508987515",
         "0.8711575282758333",
         "0.5660778191067333",
         "0.43286966359965934"
        ],
        [
         "10",
         "4.248548387096774",
         "-0.7562060889929743",
         "0.5086278508987515",
         "1.1248067067935157",
         "0.3510132217241105",
         "0.1874472849944289"
        ],
        [
         "11",
         "2.1577385857919893",
         "-0.7873536299765808",
         "0.5086278508987515",
         "0.9409808124622933",
         "0.5660778191067333",
         "0.43286966359965934"
        ],
        [
         "12",
         "0.1281858444054482",
         "0.5943793911007026",
         "0.5086278508987515",
         "-0.4246767399643115",
         "0.47828063704541124",
         "0.0036988424590201317"
        ],
        [
         "13",
         "1.2918181818181818",
         "0.36791569086651055",
         "0.5086278508987515",
         "-0.1175985339902586",
         "-0.2914534883022483",
         "-0.1280645859212215"
        ],
        [
         "14",
         "0.1697364067497518",
         "-0.08477751756440281",
         "0.5086278508987515",
         "0.0993278219617456",
         "0.5660778191067333",
         "0.43286966359965934"
        ],
        [
         "15",
         "3.874513197749892",
         "-0.5845433255269321",
         "0.5086278508987515",
         "0.7986211454778448",
         "0.2811847856494344",
         "0.0036988424590201317"
        ],
        [
         "16",
         "1.4420652173913044",
         "-0.053629976580796254",
         "0.5086278508987515",
         "0.290342166966002",
         "0.5660778191067333",
         "0.43286966359965934"
        ],
        [
         "17",
         "0.0716965742251223",
         "0.6629976580796253",
         "0.5086278508987515",
         "-0.4763924881592749",
         "0.21855891991485132",
         "0.1874472849944289"
        ],
        [
         "18",
         "1.443190132747988",
         "0.03231850117096019",
         "0.5086278508987515",
         "-0.34563983266944515",
         "-0.6155084328634894",
         "-0.05729398239087797"
        ],
        [
         "19",
         "0.2353020089210852",
         "11.757611241217798",
         "0.5086278508987515",
         "-1.9027502062072044",
         "-0.37859754752416847",
         "-0.19589198497267854"
        ],
        [
         "20",
         "0.0780696851127259",
         "0.30562060889929743",
         "0.5086278508987515",
         "-0.3859400659144514",
         "0.1193768355547227",
         "0.4248238161825844"
        ],
        [
         "21",
         "2.788442109517074",
         "-1.0491803278688525",
         "0.5086278508987515",
         "1.6419375705665267",
         "0.43881040378543257",
         "0.43286966359965934"
        ],
        [
         "22",
         "0.1664076261527302",
         "0.05199063231850117",
         "0.5086278508987515",
         "0.02462079258054536",
         "0.5682661541021491",
         "0.23447006140280752"
        ],
        [
         "23",
         "0.065748031496063",
         "0.7660421545667447",
         "0.5086278508987515",
         "-0.5390441651336015",
         "0.9287522881123598",
         "1.1412887308248396"
        ],
        [
         "24",
         "0.0811320754716981",
         "0.27423887587822016",
         "0.5086278508987515",
         "-0.0031821881929686713",
         "0.5660778191067333",
         "0.43286966359965934"
        ],
        [
         "25",
         "0.0772630834512022",
         "0.44098360655737706",
         "0.5086278508987515",
         "-0.39860732663443615",
         "0.1193768355547227",
         "0.4248238161825844"
        ],
        [
         "26",
         "1.7760537884665113",
         "-0.39695550351288056",
         "0.5086278508987515",
         "0.7357457322746414",
         "0.43881040378543257",
         "0.43286966359965934"
        ],
        [
         "27",
         "2.439693850620216",
         "0.453864168618267",
         "0.5086278508987515",
         "-0.3349632616541226",
         "0.15325533998219795",
         "0.2724380801310014"
        ],
        [
         "28",
         "2.345526524148852",
         "-0.7292740046838407",
         "0.5086278508987515",
         "0.9879433066292497",
         "0.29054609811408766",
         "0.0036988424590201317"
        ],
        [
         "29",
         "1.15256",
         "0.7192037470725995",
         "0.5086278508987515",
         "-0.7848870774416727",
         "0.19060874124408622",
         "0.11737378193952715"
        ],
        [
         "30",
         "1.3400613896381732",
         "0.30960187353629975",
         "0.5086278508987515",
         "-0.3981196910670673",
         "0.1193768355547227",
         "0.4248238161825844"
        ],
        [
         "31",
         "0.1105194805194805",
         "-0.40491803278688526",
         "0.5086278508987515",
         "-0.16554460918453223",
         "0.1193768355547227",
         "0.4248238161825844"
        ],
        [
         "32",
         "1.5229745431498891",
         "0.008899297423887589",
         "0.5086278508987515",
         "0.1930493958033901",
         "0.7568013431279315",
         "-0.20707477734816052"
        ],
        [
         "33",
         "0.1356666666666666",
         "-0.8030444964871194",
         "0.5086278508987515",
         "1.2443281258728984",
         "0.5660778191067333",
         "0.43286966359965934"
        ],
        [
         "34",
         "0.1092578226014998",
         "-0.39695550351288056",
         "0.5086278508987515",
         "0.0010214755978589177",
         "0.3115429884641318",
         "0.1874472849944289"
        ],
        [
         "35",
         "2.3708835996087383",
         "-0.7716627634660421",
         "0.5086278508987515",
         "1.4038506308737473",
         "0.7264202033530948",
         "0.4243812228629792"
        ],
        [
         "36",
         "2.403380841895923",
         "-0.7950819672131147",
         "0.5086278508987515",
         "0.6343398403028518",
         "0.9287522881123598",
         "1.1412887308248396"
        ],
        [
         "37",
         "2.530868503662365",
         "-0.8653395784543325",
         "0.5086278508987515",
         "1.149336560295234",
         "0.5660778191067333",
         "0.43286966359965934"
        ],
        [
         "38",
         "1.6895393474088292",
         "-0.2559718969555035",
         "0.5086278508987515",
         "0.3044535547124052",
         "0.4227014208516514",
         "0.0036988424590201317"
        ],
        [
         "39",
         "0.0617862621441963",
         "0.5398126463700235",
         "0.5086278508987515",
         "-0.42371332516279814",
         "0.44536755996794847",
         "-0.10067835359907287"
        ],
        [
         "40",
         "2.074151948416036",
         "-0.5374707259953162",
         "0.5086278508987515",
         "0.9169268473960321",
         "0.6355872595826701",
         "0.4276719962336448"
        ],
        [
         "41",
         "1.5030927835051546",
         "0.06346604215456675",
         "0.5086278508987515",
         "-0.47855144957538254",
         "0.5660778191067333",
         "0.43286966359965934"
        ],
        [
         "42",
         "4.070534530996907",
         "-0.6177985948477752",
         "0.5086278508987515",
         "0.8389943779787605",
         "0.6960390635782573",
         "0.6180270004807042"
        ],
        [
         "43",
         "0.1294600568361225",
         "-0.724824355971897",
         "0.5086278508987515",
         "1.1127497795471566",
         "0.5660778191067333",
         "0.43286966359965934"
        ],
        [
         "44",
         "1.7442599788060755",
         "-0.21920374707259954",
         "0.5086278508987515",
         "0.33655137576582944",
         "0.5660778191067333",
         "0.43286966359965934"
        ],
        [
         "45",
         "0.1219057307561884",
         "0.5543325526932085",
         "0.5086278508987515",
         "-0.44203417076390716",
         "0.44536755996794847",
         "0.32334223207283863"
        ],
        [
         "46",
         "3.090928961748634",
         "-0.06533957845433255",
         "0.5086278508987515",
         "0.40945537477155713",
         "0.35974168059361966",
         "0.6180270004807042"
        ],
        [
         "47",
         "0.079342091652012",
         "0.05573770491803279",
         "0.5086278508987515",
         "-0.4632069201051179",
         "0.39048345498408915",
         "0.0036988424590201317"
        ],
        [
         "48",
         "0.0705150068212824",
         "0.5384074941451991",
         "0.5086278508987515",
         "-0.5483424140852472",
         "0.9287522881123598",
         "1.1412887308248396"
        ],
        [
         "49",
         "0.0804609118903347",
         "0.14941451990632318",
         "0.5086278508987515",
         "-0.05170330043618744",
         "1.716464762026136",
         "0.7962365168889394"
        ]
       ],
       "shape": {
        "columns": 6,
        "rows": 8591377
       }
      },
      "text/html": [
       "<div>\n",
       "<style scoped>\n",
       "    .dataframe tbody tr th:only-of-type {\n",
       "        vertical-align: middle;\n",
       "    }\n",
       "\n",
       "    .dataframe tbody tr th {\n",
       "        vertical-align: top;\n",
       "    }\n",
       "\n",
       "    .dataframe thead th {\n",
       "        text-align: right;\n",
       "    }\n",
       "</style>\n",
       "<table border=\"1\" class=\"dataframe\">\n",
       "  <thead>\n",
       "    <tr style=\"text-align: right;\">\n",
       "      <th></th>\n",
       "      <th>watch_ratio</th>\n",
       "      <th>video_duration</th>\n",
       "      <th>user_watch_ratio_mean</th>\n",
       "      <th>video_watch_ratio_mean</th>\n",
       "      <th>user_feat_watch_ratio_mean</th>\n",
       "      <th>user_category_watch_ratio_mean</th>\n",
       "    </tr>\n",
       "  </thead>\n",
       "  <tbody>\n",
       "    <tr>\n",
       "      <th>0</th>\n",
       "      <td>1.273397</td>\n",
       "      <td>0.336768</td>\n",
       "      <td>0.508628</td>\n",
       "      <td>-0.196588</td>\n",
       "      <td>0.311543</td>\n",
       "      <td>0.432870</td>\n",
       "    </tr>\n",
       "    <tr>\n",
       "      <th>1</th>\n",
       "      <td>0.107613</td>\n",
       "      <td>-0.356206</td>\n",
       "      <td>0.508628</td>\n",
       "      <td>0.452844</td>\n",
       "      <td>0.390483</td>\n",
       "      <td>0.117374</td>\n",
       "    </tr>\n",
       "    <tr>\n",
       "      <th>2</th>\n",
       "      <td>1.434307</td>\n",
       "      <td>0.037705</td>\n",
       "      <td>0.508628</td>\n",
       "      <td>0.213114</td>\n",
       "      <td>0.438810</td>\n",
       "      <td>0.432870</td>\n",
       "    </tr>\n",
       "    <tr>\n",
       "      <th>3</th>\n",
       "      <td>1.296455</td>\n",
       "      <td>0.367916</td>\n",
       "      <td>0.508628</td>\n",
       "      <td>-0.221446</td>\n",
       "      <td>-0.291453</td>\n",
       "      <td>-0.128065</td>\n",
       "    </tr>\n",
       "    <tr>\n",
       "      <th>4</th>\n",
       "      <td>3.113806</td>\n",
       "      <td>-0.199766</td>\n",
       "      <td>0.508628</td>\n",
       "      <td>0.536528</td>\n",
       "      <td>0.407708</td>\n",
       "      <td>0.272438</td>\n",
       "    </tr>\n",
       "    <tr>\n",
       "      <th>...</th>\n",
       "      <td>...</td>\n",
       "      <td>...</td>\n",
       "      <td>...</td>\n",
       "      <td>...</td>\n",
       "      <td>...</td>\n",
       "      <td>...</td>\n",
       "    </tr>\n",
       "    <tr>\n",
       "      <th>8591372</th>\n",
       "      <td>0.174968</td>\n",
       "      <td>1.962529</td>\n",
       "      <td>-0.153850</td>\n",
       "      <td>-0.518401</td>\n",
       "      <td>0.103067</td>\n",
       "      <td>0.374840</td>\n",
       "    </tr>\n",
       "    <tr>\n",
       "      <th>8591373</th>\n",
       "      <td>1.004462</td>\n",
       "      <td>-0.161124</td>\n",
       "      <td>-0.153850</td>\n",
       "      <td>-0.243543</td>\n",
       "      <td>-0.158212</td>\n",
       "      <td>-0.055479</td>\n",
       "    </tr>\n",
       "    <tr>\n",
       "      <th>8591374</th>\n",
       "      <td>0.313389</td>\n",
       "      <td>1.036534</td>\n",
       "      <td>-0.153850</td>\n",
       "      <td>-0.576021</td>\n",
       "      <td>0.161666</td>\n",
       "      <td>0.007535</td>\n",
       "    </tr>\n",
       "    <tr>\n",
       "      <th>8591375</th>\n",
       "      <td>1.253997</td>\n",
       "      <td>-0.553162</td>\n",
       "      <td>-0.153850</td>\n",
       "      <td>0.413159</td>\n",
       "      <td>-0.158212</td>\n",
       "      <td>-0.055479</td>\n",
       "    </tr>\n",
       "    <tr>\n",
       "      <th>8591376</th>\n",
       "      <td>0.857313</td>\n",
       "      <td>1.141686</td>\n",
       "      <td>-0.153850</td>\n",
       "      <td>-0.898879</td>\n",
       "      <td>-1.060468</td>\n",
       "      <td>-0.902168</td>\n",
       "    </tr>\n",
       "  </tbody>\n",
       "</table>\n",
       "<p>8591377 rows × 6 columns</p>\n",
       "</div>"
      ],
      "text/plain": [
       "         watch_ratio  video_duration  user_watch_ratio_mean  \\\n",
       "0           1.273397        0.336768               0.508628   \n",
       "1           0.107613       -0.356206               0.508628   \n",
       "2           1.434307        0.037705               0.508628   \n",
       "3           1.296455        0.367916               0.508628   \n",
       "4           3.113806       -0.199766               0.508628   \n",
       "...              ...             ...                    ...   \n",
       "8591372     0.174968        1.962529              -0.153850   \n",
       "8591373     1.004462       -0.161124              -0.153850   \n",
       "8591374     0.313389        1.036534              -0.153850   \n",
       "8591375     1.253997       -0.553162              -0.153850   \n",
       "8591376     0.857313        1.141686              -0.153850   \n",
       "\n",
       "         video_watch_ratio_mean  user_feat_watch_ratio_mean  \\\n",
       "0                     -0.196588                    0.311543   \n",
       "1                      0.452844                    0.390483   \n",
       "2                      0.213114                    0.438810   \n",
       "3                     -0.221446                   -0.291453   \n",
       "4                      0.536528                    0.407708   \n",
       "...                         ...                         ...   \n",
       "8591372               -0.518401                    0.103067   \n",
       "8591373               -0.243543                   -0.158212   \n",
       "8591374               -0.576021                    0.161666   \n",
       "8591375                0.413159                   -0.158212   \n",
       "8591376               -0.898879                   -1.060468   \n",
       "\n",
       "         user_category_watch_ratio_mean  \n",
       "0                              0.432870  \n",
       "1                              0.117374  \n",
       "2                              0.432870  \n",
       "3                             -0.128065  \n",
       "4                              0.272438  \n",
       "...                                 ...  \n",
       "8591372                        0.374840  \n",
       "8591373                       -0.055479  \n",
       "8591374                        0.007535  \n",
       "8591375                       -0.055479  \n",
       "8591376                       -0.902168  \n",
       "\n",
       "[8591377 rows x 6 columns]"
      ]
     },
     "execution_count": 3,
     "metadata": {},
     "output_type": "execute_result"
    }
   ],
   "source": [
    "scaler = RobustScaler()\n",
    "\n",
    "big_matrix_final = pd.read_parquet(FEATURES_PATH + \"big_matrix_final.parquet\")\n",
    "black_list = [\"user_id\", \"video_id\", \"watch_ratio\"]\n",
    "to_scale = [col for col in big_matrix_final.columns if col not in black_list]\n",
    "big_matrix_final[to_scale] = scaler.fit_transform(big_matrix_final[to_scale])\n",
    "big_matrix_final = big_matrix_final.drop(columns=[\"user_id\", \"video_id\"])\n",
    "\n",
    "\n",
    "small_matrix_final = pd.read_parquet(FEATURES_PATH + \"small_matrix_final.parquet\")\n",
    "small_matrix_final[to_scale] = scaler.transform(small_matrix_final[to_scale])\n",
    "small_matrix_final.to_parquet(FEATURES_PATH + \"small_matrix_scaled.parquet\")\n",
    "small_matrix_final = small_matrix_final.drop(columns=[\"user_id\", \"video_id\"])\n",
    "\n",
    "\n",
    "\n",
    "big_matrix_final"
   ]
  },
  {
   "cell_type": "markdown",
   "id": "8f0af04a",
   "metadata": {},
   "source": [
    "## Split data into X_train / y_train / X_test / y_test"
   ]
  },
  {
   "cell_type": "code",
   "execution_count": 4,
   "id": "b7ed9f86",
   "metadata": {},
   "outputs": [],
   "source": [
    "def split_X_y(df: pd.DataFrame):\n",
    "    y = df[\"watch_ratio\"]\n",
    "    tmp = df.drop(columns=[\"watch_ratio\"])\n",
    "    X = tmp[[c for c in tmp.columns]]\n",
    "    return X, y\n",
    "\n",
    "def split_all(df: pd.DataFrame):\n",
    "    train, test = big_matrix_final, small_matrix_final\n",
    "    X_train, y_train = split_X_y(train)\n",
    "    X_test, y_test = split_X_y(test)\n",
    "    test_watch_ratio_mean = test[\"video_watch_ratio_mean\"]\n",
    "    return np.array(X_train), np.array(y_train), np.array(X_test), np.array(y_test), test_watch_ratio_mean"
   ]
  },
  {
   "cell_type": "code",
   "execution_count": 5,
   "id": "d8188517",
   "metadata": {},
   "outputs": [],
   "source": [
    "X_train, y_train, X_test, y_test, test_watch_ratio_mean = split_all(big_matrix_final)"
   ]
  },
  {
   "cell_type": "markdown",
   "id": "394e3217",
   "metadata": {},
   "source": [
    "# AI"
   ]
  },
  {
   "cell_type": "markdown",
   "id": "d4e328e2",
   "metadata": {},
   "source": [
    "## Create the model"
   ]
  },
  {
   "cell_type": "code",
   "execution_count": 6,
   "id": "9060b4a5",
   "metadata": {},
   "outputs": [],
   "source": [
    "model = Sequential([\n",
    "    Input(shape=(5,)),\n",
    "    \n",
    "    # Block 1\n",
    "    Dense(64, activation='relu'),\n",
    "    BatchNormalization(),\n",
    "    Dropout(0.2),\n",
    "\n",
    "    Dense(1, activation='sigmoid'),\n",
    "    # Scale output to [0, 5] to match \n",
    "    Lambda(lambda x: x * 5.0)\n",
    "])\n",
    "\n",
    "model.compile(\n",
    "    optimizer='adam',\n",
    "    loss='mse',\n",
    "    metrics=['mae']\n",
    ")"
   ]
  },
  {
   "cell_type": "markdown",
   "id": "3a1e78f8",
   "metadata": {},
   "source": [
    "## Train the model"
   ]
  },
  {
   "cell_type": "code",
   "execution_count": 7,
   "id": "495dab58",
   "metadata": {},
   "outputs": [
    {
     "name": "stdout",
     "output_type": "stream",
     "text": [
      "Epoch 1/5\n",
      "\u001b[1m7552/7552\u001b[0m \u001b[32m━━━━━━━━━━━━━━━━━━━━\u001b[0m\u001b[37m\u001b[0m \u001b[1m13s\u001b[0m 2ms/step - loss: 0.6121 - mae: 0.5339 - val_loss: 0.4568 - val_mae: 0.4588\n",
      "Epoch 2/5\n",
      "\u001b[1m7552/7552\u001b[0m \u001b[32m━━━━━━━━━━━━━━━━━━━━\u001b[0m\u001b[37m\u001b[0m \u001b[1m12s\u001b[0m 2ms/step - loss: 0.4551 - mae: 0.4609 - val_loss: 0.4563 - val_mae: 0.4586\n",
      "Epoch 3/5\n",
      "\u001b[1m7552/7552\u001b[0m \u001b[32m━━━━━━━━━━━━━━━━━━━━\u001b[0m\u001b[37m\u001b[0m \u001b[1m12s\u001b[0m 2ms/step - loss: 0.4538 - mae: 0.4597 - val_loss: 0.4561 - val_mae: 0.4586\n",
      "Epoch 4/5\n",
      "\u001b[1m7552/7552\u001b[0m \u001b[32m━━━━━━━━━━━━━━━━━━━━\u001b[0m\u001b[37m\u001b[0m \u001b[1m12s\u001b[0m 2ms/step - loss: 0.4535 - mae: 0.4594 - val_loss: 0.4561 - val_mae: 0.4590\n",
      "Epoch 5/5\n",
      "\u001b[1m7552/7552\u001b[0m \u001b[32m━━━━━━━━━━━━━━━━━━━━\u001b[0m\u001b[37m\u001b[0m \u001b[1m12s\u001b[0m 2ms/step - loss: 0.4534 - mae: 0.4594 - val_loss: 0.4560 - val_mae: 0.4590\n"
     ]
    },
    {
     "data": {
      "text/plain": [
       "<keras.src.callbacks.history.History at 0x74b04458b490>"
      ]
     },
     "execution_count": 7,
     "metadata": {},
     "output_type": "execute_result"
    }
   ],
   "source": [
    "model.fit(\n",
    "    X_train,\n",
    "    y_train,\n",
    "    validation_split=0.1,\n",
    "    epochs=5,\n",
    "    batch_size=1024,\n",
    "    callbacks=[tf.keras.callbacks.EarlyStopping(patience=5, restore_best_weights=True)],\n",
    "    verbose=1\n",
    ")"
   ]
  },
  {
   "cell_type": "markdown",
   "id": "5095d3a9",
   "metadata": {},
   "source": [
    "## Predict video watch_ratio and compare it to the baseline"
   ]
  },
  {
   "cell_type": "markdown",
   "id": "68008add",
   "metadata": {},
   "source": [
    "The baseline is the average watch_ratio of all videos.\\\n",
    "We can see that the MAE of my model is arounf 25% better than the baseline."
   ]
  },
  {
   "cell_type": "code",
   "execution_count": 8,
   "id": "ce033cc1",
   "metadata": {},
   "outputs": [
    {
     "name": "stdout",
     "output_type": "stream",
     "text": [
      "Baseline MAE: 0.4202214045614679\n",
      "Actual MAE: 0.37182253271619287\n"
     ]
    }
   ],
   "source": [
    "baseline = np.full_like(y_test, np.mean(y_test), dtype=np.float32)\n",
    "preds = model.predict(X_test, batch_size=2048, verbose=None)\n",
    "mae_baseline = np.mean(np.abs(baseline - y_test))\n",
    "mae_model = np.mean(np.abs(preds.flatten() - y_test))\n",
    "print(f\"Baseline MAE: {mae_baseline}\")\n",
    "print(f\"Actual MAE: {mae_model}\")"
   ]
  },
  {
   "cell_type": "markdown",
   "id": "f802d52d",
   "metadata": {},
   "source": [
    "# Save the model"
   ]
  },
  {
   "cell_type": "code",
   "execution_count": 9,
   "id": "9d1379bb",
   "metadata": {},
   "outputs": [],
   "source": [
    "model.save(FEATURES_PATH + \"ai_model.keras\")"
   ]
  }
 ],
 "metadata": {
  "kernelspec": {
   "display_name": "rema",
   "language": "python",
   "name": "python3"
  },
  "language_info": {
   "codemirror_mode": {
    "name": "ipython",
    "version": 3
   },
   "file_extension": ".py",
   "mimetype": "text/x-python",
   "name": "python",
   "nbconvert_exporter": "python",
   "pygments_lexer": "ipython3",
   "version": "3.11.12"
  }
 },
 "nbformat": 4,
 "nbformat_minor": 5
}
