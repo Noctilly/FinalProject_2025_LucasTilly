{
 "cells": [
  {
   "cell_type": "markdown",
   "id": "4ae4197c",
   "metadata": {},
   "source": [
    "# Import necessary libraries"
   ]
  },
  {
   "cell_type": "code",
   "execution_count": 1,
   "id": "90beb406",
   "metadata": {},
   "outputs": [
    {
     "name": "stderr",
     "output_type": "stream",
     "text": [
      "2025-05-14 15:58:42.513755: I tensorflow/core/platform/cpu_feature_guard.cc:210] This TensorFlow binary is optimized to use available CPU instructions in performance-critical operations.\n",
      "To enable the following instructions: SSE4.1 SSE4.2 AVX AVX2 FMA, in other operations, rebuild TensorFlow with the appropriate compiler flags.\n"
     ]
    }
   ],
   "source": [
    "from tensorflow.keras.models import load_model\n",
    "import numpy as np\n",
    "import pandas as pd\n",
    "from sklearn.metrics import ndcg_score"
   ]
  },
  {
   "cell_type": "markdown",
   "id": "4b944be5",
   "metadata": {},
   "source": [
    "# Prepare environment"
   ]
  },
  {
   "cell_type": "code",
   "execution_count": 2,
   "id": "572966a6",
   "metadata": {},
   "outputs": [],
   "source": [
    "FEATURES_PATH = \"data/features/\""
   ]
  },
  {
   "cell_type": "markdown",
   "id": "fde04604",
   "metadata": {},
   "source": [
    "# Load Data"
   ]
  },
  {
   "cell_type": "code",
   "execution_count": 3,
   "id": "02086ea5",
   "metadata": {},
   "outputs": [],
   "source": [
    "model = load_model(FEATURES_PATH + \"ai_model.keras\", safe_mode=False)\n",
    "small_matrix_final = pd.read_parquet(FEATURES_PATH + \"small_matrix_final.parquet\")"
   ]
  },
  {
   "cell_type": "markdown",
   "id": "9f010067",
   "metadata": {},
   "source": [
    "# Recommender system"
   ]
  },
  {
   "cell_type": "markdown",
   "id": "616f46c1",
   "metadata": {},
   "source": [
    "### Define function to get recomendations of a given user"
   ]
  },
  {
   "cell_type": "code",
   "execution_count": 4,
   "id": "157e1ab7",
   "metadata": {},
   "outputs": [],
   "source": [
    "def get_user_recommendation_data(user: int):\n",
    "    preds = model.predict(small_matrix_final[small_matrix_final[\"user_id\"] == user][[\"watch_ratio_mean\", \"watch_ratio_prior_mean\"]], batch_size=2048, verbose=None).flatten()\n",
    "    user_mat = small_matrix_final[small_matrix_final[\"user_id\"] == user].reset_index(drop=True)\n",
    "    to_recommend_index = np.flip(preds.argsort())\n",
    "    to_recommend = user_mat[\"video_id\"][to_recommend_index].values\n",
    "\n",
    "    ground_truth_index = np.flip(user_mat[\"watch_ratio\"].values.argsort())\n",
    "    ground_truth = user_mat[\"video_id\"][ground_truth_index].values\n",
    "\n",
    "    return to_recommend, ground_truth"
   ]
  },
  {
   "cell_type": "code",
   "execution_count": 9,
   "id": "037909ca",
   "metadata": {},
   "outputs": [
    {
     "name": "stdout",
     "output_type": "stream",
     "text": [
      "predictions: [6222  600 9178 1305 2130 8366 4123 4040 5525 8524]\n",
      "ground_truth: [ 2607  5222  7079  2436  1288  7181  4646 10091  9569  1182]\n"
     ]
    }
   ],
   "source": [
    "sample_user = 6190\n",
    "preds, ground_truth = get_user_recommendation_data(sample_user)\n",
    "print(f\"predictions: {preds[:10]}\")\n",
    "print(f\"ground_truth: {ground_truth[:10]}\")"
   ]
  },
  {
   "cell_type": "markdown",
   "id": "f51d7e0f",
   "metadata": {},
   "source": [
    "# Evaluating metrics"
   ]
  },
  {
   "cell_type": "markdown",
   "id": "4927cdf3",
   "metadata": {},
   "source": [
    "### Define metrics function"
   ]
  },
  {
   "cell_type": "code",
   "execution_count": 5,
   "id": "716be8dc",
   "metadata": {},
   "outputs": [],
   "source": [
    "def precision_at_k(y_true, y_pred, k):\n",
    "    y_true_k = y_true[:k]\n",
    "    y_pred_k = y_pred[:k]\n",
    "    return len(set(y_true_k) & set(y_pred_k)) / k\n",
    "\n",
    "def recall_at_k(y_true, y_pred, k):\n",
    "    y_pred_k = y_pred[:k]\n",
    "    return len(set(y_true) & set(y_pred_k)) / len(y_true) if y_true is not None else 0\n",
    "\n",
    "def average_precision_at_k_continuous(actual_scores, predicted_scores, k, top_n_relevant=5):\n",
    "    \"\"\"\n",
    "    Compute AP@k based on ranking from predicted scores.\n",
    "    Top-N videos with highest actual scores are considered relevant.\n",
    "    \"\"\"\n",
    "    if len(actual_scores) == 0:\n",
    "        return 0.0\n",
    "\n",
    "    # Get the indices of top-N most relevant items based on actual scores\n",
    "    actual_top_indices = np.argsort(actual_scores)[::-1][:top_n_relevant]\n",
    "    relevant_set = set(actual_top_indices)\n",
    "\n",
    "    # Get the indices of top-k predicted scores\n",
    "    pred_top_indices = np.argsort(predicted_scores)[::-1][:k]\n",
    "\n",
    "    hits = 0\n",
    "    score = 0.0\n",
    "    for i, idx in enumerate(pred_top_indices):\n",
    "        if idx in relevant_set:\n",
    "            hits += 1\n",
    "            score += hits / (i + 1)\n",
    "\n",
    "    return score / min(len(relevant_set), k)"
   ]
  },
  {
   "cell_type": "code",
   "execution_count": 6,
   "id": "c0091657",
   "metadata": {},
   "outputs": [
    {
     "name": "stdout",
     "output_type": "stream",
     "text": [
      "0.33616071351043364\n",
      "0.34715504043386836\n",
      "0.42774752969637797\n",
      "0.4232367864280283\n",
      "0.4534373990977657\n"
     ]
    }
   ],
   "source": [
    "user = 6190\n",
    "recommendations, ground_truth = get_user_recommendation_data(user)\n",
    "print(ndcg_score([ground_truth], [recommendations], k=5))\n",
    "print(ndcg_score([ground_truth], [recommendations], k=10))\n",
    "print(ndcg_score([ground_truth], [recommendations], k=50))\n",
    "print(ndcg_score([ground_truth], [recommendations], k=100))\n",
    "print(ndcg_score([ground_truth], [recommendations], k=200))"
   ]
  },
  {
   "cell_type": "markdown",
   "id": "9fcd6e8d",
   "metadata": {},
   "source": [
    "### Evaluate mean NDCG metric on all users\n",
    "We are using NDCG because it is a metrics that look into the ranking of the predictions"
   ]
  },
  {
   "cell_type": "code",
   "execution_count": null,
   "id": "e293d186",
   "metadata": {},
   "outputs": [
    {
     "name": "stderr",
     "output_type": "stream",
     "text": [
      "  0%|          | 0/1354 [00:00<?, ?it/s]"
     ]
    },
    {
     "name": "stderr",
     "output_type": "stream",
     "text": [
      "100%|██████████| 1354/1354 [01:15<00:00, 17.94it/s]"
     ]
    },
    {
     "name": "stdout",
     "output_type": "stream",
     "text": [
      "Average NDCG@5 over users: 0.4714\n"
     ]
    },
    {
     "name": "stderr",
     "output_type": "stream",
     "text": [
      "\n"
     ]
    }
   ],
   "source": [
    "from tqdm import tqdm\n",
    "ndcg_5_list = []\n",
    "for user_id in tqdm(small_matrix_final[\"user_id\"].unique()):\n",
    "    user_df = small_matrix_final[small_matrix_final[\"user_id\"] == user_id]\n",
    "    recommendations, ground_truth = get_user_recommendation_data(user_id)\n",
    "    \n",
    "    if len(ground_truth) >= 5:\n",
    "        ndcg_5_list.append(ndcg_score([ground_truth], [recommendations], k=5))\n",
    "\n",
    "avg_ndcg_5 = np.mean(ndcg_5_list)\n",
    "print(f\"Average NDCG@5 over users: {avg_ndcg_5:.4f}\")"
   ]
  }
 ],
 "metadata": {
  "kernelspec": {
   "display_name": "rema",
   "language": "python",
   "name": "python3"
  },
  "language_info": {
   "codemirror_mode": {
    "name": "ipython",
    "version": 3
   },
   "file_extension": ".py",
   "mimetype": "text/x-python",
   "name": "python",
   "nbconvert_exporter": "python",
   "pygments_lexer": "ipython3",
   "version": "3.11.12"
  }
 },
 "nbformat": 4,
 "nbformat_minor": 5
}
