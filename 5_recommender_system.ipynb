{
 "cells": [
  {
   "cell_type": "markdown",
   "id": "4ae4197c",
   "metadata": {},
   "source": [
    "# Import necessary libraries"
   ]
  },
  {
   "cell_type": "code",
   "execution_count": 1,
   "id": "90beb406",
   "metadata": {},
   "outputs": [
    {
     "name": "stderr",
     "output_type": "stream",
     "text": [
      "2025-05-17 22:09:57.856061: I tensorflow/core/platform/cpu_feature_guard.cc:210] This TensorFlow binary is optimized to use available CPU instructions in performance-critical operations.\n",
      "To enable the following instructions: SSE4.1 SSE4.2 AVX AVX2 FMA, in other operations, rebuild TensorFlow with the appropriate compiler flags.\n"
     ]
    }
   ],
   "source": [
    "from tensorflow.keras.models import load_model\n",
    "import numpy as np\n",
    "import pandas as pd\n",
    "from sklearn.metrics import ndcg_score\n",
    "from tqdm import tqdm"
   ]
  },
  {
   "cell_type": "markdown",
   "id": "4b944be5",
   "metadata": {},
   "source": [
    "# Prepare environment"
   ]
  },
  {
   "cell_type": "code",
   "execution_count": 2,
   "id": "572966a6",
   "metadata": {},
   "outputs": [],
   "source": [
    "FEATURES_PATH = \"data/features/\""
   ]
  },
  {
   "cell_type": "markdown",
   "id": "fde04604",
   "metadata": {},
   "source": [
    "# Load Data"
   ]
  },
  {
   "cell_type": "code",
   "execution_count": 3,
   "id": "02086ea5",
   "metadata": {},
   "outputs": [],
   "source": [
    "model = load_model(FEATURES_PATH + \"ai_model.keras\", safe_mode=False)\n",
    "small_matrix_final = pd.read_parquet(FEATURES_PATH + \"small_matrix_scaled.parquet\")"
   ]
  },
  {
   "cell_type": "markdown",
   "id": "ba43fc8b",
   "metadata": {},
   "source": [
    "# Check Data"
   ]
  },
  {
   "cell_type": "code",
   "execution_count": 4,
   "id": "689109d7",
   "metadata": {},
   "outputs": [
    {
     "data": {
      "application/vnd.microsoft.datawrangler.viewer.v0+json": {
       "columns": [
        {
         "name": "index",
         "rawType": "int64",
         "type": "integer"
        },
        {
         "name": "user_id",
         "rawType": "int64",
         "type": "integer"
        },
        {
         "name": "video_id",
         "rawType": "int64",
         "type": "integer"
        },
        {
         "name": "watch_ratio",
         "rawType": "float64",
         "type": "float"
        },
        {
         "name": "video_duration",
         "rawType": "float64",
         "type": "float"
        },
        {
         "name": "user_watch_ratio_mean",
         "rawType": "float64",
         "type": "float"
        },
        {
         "name": "video_watch_ratio_mean",
         "rawType": "float64",
         "type": "float"
        },
        {
         "name": "user_feat_watch_ratio_mean",
         "rawType": "float64",
         "type": "float"
        },
        {
         "name": "user_category_watch_ratio_mean",
         "rawType": "float64",
         "type": "float"
        }
       ],
       "conversionMethod": "pd.DataFrame",
       "ref": "fb6fd82c-ba26-42d1-aa97-3a2849941ac7",
       "rows": [
        [
         "0",
         "14",
         "148",
         "0.7221031811438932",
         "-0.7873536299765808",
         "0.5588259909271025",
         "1.0617150709064953",
         "0.7357893352767847",
         "1.6627429952085373"
        ],
        [
         "1",
         "14",
         "183",
         "1.907377049180328",
         "-0.7796252927400469",
         "0.5588259909271025",
         "1.285245871265363",
         "-0.12251804495166992",
         "-0.07383643642019086"
        ],
        [
         "2",
         "14",
         "3649",
         "2.063310941382166",
         "0.336768149882904",
         "0.5588259909271025",
         "-0.19658761757495416",
         "-0.7651653759107476",
         "-0.07383643642019086"
        ],
        [
         "3",
         "14",
         "5262",
         "0.5663884673748103",
         "-0.35620608899297423",
         "0.5588259909271025",
         "0.45284363519346355",
         "-0.2709033802853985",
         "1.1408446926831448"
        ],
        [
         "4",
         "14",
         "8234",
         "0.4183636363636364",
         "0.36791569086651055",
         "0.5588259909271025",
         "-0.2214458598163404",
         "-0.17592023341588625",
         "0.6869102206081792"
        ],
        [
         "5",
         "14",
         "6789",
         "0.6487525439059321",
         "0.8988290398126464",
         "0.5588259909271025",
         "-0.5671776432641822",
         "-0.1265526673742864",
         "-0.5034709162055072"
        ],
        [
         "6",
         "14",
         "1963",
         "0.8981230448383734",
         "0.03770491803278689",
         "0.5588259909271025",
         "0.21311377789953123",
         "-0.4438417104312088",
         "-0.07383643642019086"
        ],
        [
         "7",
         "14",
         "175",
         "0.250247237390893",
         "8.685011709601874",
         "0.5588259909271025",
         "-1.8077678871484777",
         "-0.5941813329430863",
         "-0.4324854615438494"
        ],
        [
         "8",
         "14",
         "1973",
         "0.6178378378378379",
         "-0.47517564402810303",
         "0.5588259909271025",
         "0.7195156733165435",
         "-0.12251804495166992",
         "-0.07383643642019086"
        ],
        [
         "9",
         "14",
         "171",
         "1.6327391221008245",
         "-0.9864168618266979",
         "0.5588259909271025",
         "1.6535484843486787",
         "0.15880439901528967",
         "-0.21643154946158608"
        ],
        [
         "10",
         "14",
         "6803",
         "1.3599621092516576",
         "-0.724824355971897",
         "0.5588259909271025",
         "1.1127497795471566",
         "-0.12251804495166992",
         "-0.07383643642019086"
        ],
        [
         "11",
         "14",
         "3634",
         "1.0625113574413956",
         "0.3693208430913349",
         "0.5588259909271025",
         "-0.23455717963888117",
         "-0.4438417104312088",
         "-0.07383643642019086"
        ],
        [
         "12",
         "14",
         "6787",
         "2.2209484106305366",
         "-1.309367681498829",
         "0.5588259909271025",
         "2.6297147269929657",
         "1.0396089813128981",
         "1.1408446926831448"
        ],
        [
         "13",
         "14",
         "1951",
         "2.2415",
         "0.13372365339578454",
         "0.5588259909271025",
         "-0.17075904296201033",
         "-0.7651653759107476",
         "-0.07383643642019086"
        ],
        [
         "14",
         "14",
         "179",
         "1.4244272292731168",
         "-0.7873536299765808",
         "0.5588259909271025",
         "0.9409808124622933",
         "-0.12251804495166992",
         "-0.07383643642019086"
        ],
        [
         "15",
         "14",
         "5266",
         "1.2312694373763076",
         "-0.5515222482435597",
         "0.5588259909271025",
         "0.8584342467333205",
         "0.6675372097932994",
         "0.30127540239212997"
        ],
        [
         "16",
         "14",
         "5241",
         "0.4111530321155793",
         "0.336768149882904",
         "0.5588259909271025",
         "-0.3151509629972472",
         "1.7621487707698482",
         "-0.07882607817718096"
        ],
        [
         "17",
         "14",
         "6782",
         "1.1655276381909547",
         "0.12201405152224824",
         "0.5588259909271025",
         "-0.002265329857497103",
         "1.4294538146792026",
         "-0.3543695877556643"
        ],
        [
         "18",
         "14",
         "6788",
         "0.7878258532652512",
         "1.2775175644028103",
         "0.5588259909271025",
         "-0.6934656796971377",
         "0.5614479282559004",
         "0.5663313198874054"
        ],
        [
         "19",
         "14",
         "8220",
         "1.4898848971049878",
         "-0.8653395784543325",
         "0.5588259909271025",
         "1.149336560295234",
         "-0.12251804495166992",
         "-0.07383643642019086"
        ],
        [
         "20",
         "14",
         "6801",
         "0.661762584739651",
         "-0.5845433255269321",
         "0.5588259909271025",
         "0.7986211454778448",
         "-0.04498743045747054",
         "-0.21643154946158608"
        ],
        [
         "21",
         "14",
         "3647",
         "0.7062755912091585",
         "0.5943793911007026",
         "0.5588259909271025",
         "-0.4246767399643115",
         "-0.1967107126185342",
         "-0.21643154946158608"
        ],
        [
         "22",
         "14",
         "6771",
         "0.8097142857142857",
         "0.25081967213114753",
         "0.5588259909271025",
         "-0.3226313226476309",
         "-0.17592023341588625",
         "0.6869102206081792"
        ],
        [
         "23",
         "14",
         "9588",
         "1.418522575149081",
         "-0.2838407494145199",
         "0.5588259909271025",
         "0.2148666979831962",
         "-0.17592023341588625",
         "0.6869102206081792"
        ],
        [
         "24",
         "14",
         "186",
         "0.6500729927007299",
         "-0.6039812646370023",
         "0.5588259909271025",
         "0.5639329405564687",
         "0.27633623502206833",
         "-0.07383643642019086"
        ],
        [
         "25",
         "14",
         "6812",
         "0.8316554809843401",
         "0.3042154566744731",
         "0.5588259909271025",
         "-0.29988092042871045",
         "0.766088745417274",
         "-0.07383643642019086"
        ],
        [
         "26",
         "14",
         "3684",
         "1.7424528301886792",
         "0.27423887587822016",
         "0.5588259909271025",
         "-0.0031821881929686713",
         "-0.12251804495166992",
         "-0.07383643642019086"
        ],
        [
         "27",
         "14",
         "206",
         "2.366163008712915",
         "-0.08477751756440281",
         "0.5588259909271025",
         "0.0993278219617456",
         "-0.12251804495166992",
         "-0.07383643642019086"
        ],
        [
         "28",
         "14",
         "211",
         "1.765407152960194",
         "-1.0491803278688525",
         "0.5588259909271025",
         "1.6419375705665267",
         "-0.4438417104312088",
         "-0.07383643642019086"
        ],
        [
         "29",
         "14",
         "1988",
         "0.6270969576343475",
         "-0.5608899297423887",
         "0.5588259909271025",
         "0.8711575282758333",
         "-0.12251804495166992",
         "-0.07383643642019086"
        ],
        [
         "30",
         "14",
         "3672",
         "0.9467391304347826",
         "-0.053629976580796254",
         "0.5588259909271025",
         "0.290342166966002",
         "-0.12251804495166992",
         "-0.07383643642019086"
        ],
        [
         "31",
         "14",
         "9595",
         "1.1457236515347171",
         "0.14941451990632318",
         "0.5588259909271025",
         "-0.05170330043618744",
         "1.7621487707698482",
         "0.711805956684154"
        ],
        [
         "32",
         "14",
         "8242",
         "0.7451907401369416",
         "-0.7716627634660421",
         "0.5588259909271025",
         "1.4038506308737473",
         "0.8364501225625095",
         "-0.3543695877556643"
        ],
        [
         "33",
         "14",
         "8248",
         "1.0578082191780822",
         "0.35620608899297423",
         "0.5588259909271025",
         "-0.1175985339902586",
         "-0.17592023341588625",
         "0.6869102206081792"
        ],
        [
         "34",
         "14",
         "6829",
         "0.591026635634859",
         "-0.39695550351288056",
         "0.5588259909271025",
         "0.7357457322746414",
         "-0.4438417104312088",
         "-0.07383643642019086"
        ],
        [
         "35",
         "14",
         "217",
         "2.1632196757965345",
         "-0.951288056206089",
         "0.5588259909271025",
         "1.8491474706291071",
         "-0.4438417104312088",
         "-0.5162373500095909"
        ],
        [
         "36",
         "14",
         "9570",
         "0.5916491596638656",
         "-0.4245901639344262",
         "0.5588259909271025",
         "0.23477740778271208",
         "-0.12251804495166992",
         "-0.07383643642019086"
        ],
        [
         "37",
         "14",
         "139",
         "0.4628717948717948",
         "0.07517564402810305",
         "0.5588259909271025",
         "-0.21252634742944554",
         "0.8573997481543522",
         "0.720065756188936"
        ],
        [
         "38",
         "14",
         "8160",
         "1.1939583333333332",
         "0.040046838407494144",
         "0.5588259909271025",
         "-0.37972276616454653",
         "0.6743944633768678",
         "0.5829233725530677"
        ],
        [
         "39",
         "14",
         "3669",
         "0.2039367311072056",
         "11.117330210772833",
         "0.5588259909271025",
         "-1.9143154056878715",
         "-0.47054280466331694",
         "-1.5449870791571203"
        ],
        [
         "40",
         "14",
         "6846",
         "1.4828125",
         "-0.8592505854800937",
         "0.5588259909271025",
         "1.7132563611307032",
         "1.211960954458706",
         "1.466230974257858"
        ],
        [
         "41",
         "14",
         "2007",
         "0.5091055438172855",
         "11.757611241217798",
         "0.5588259909271025",
         "-1.9027502062072044",
         "-0.38505078317948627",
         "-0.4324854615438494"
        ],
        [
         "42",
         "14",
         "6839",
         "0.1882809228938495",
         "8.419203747072599",
         "0.5588259909271025",
         "-1.7584794080510104",
         "-0.5941813329430863",
         "-0.4324854615438494"
        ],
        [
         "43",
         "14",
         "2000",
         "0.9320554649265904",
         "0.6629976580796253",
         "0.5588259909271025",
         "-0.4763924881592749",
         "0.16278940178418957",
         "-0.5162373500095909"
        ],
        [
         "44",
         "14",
         "3654",
         "0.4756842105263157",
         "0.016627634660421546",
         "0.5588259909271025",
         "-0.05976280033242211",
         "-0.17592023341588625",
         "0.6869102206081792"
        ],
        [
         "45",
         "14",
         "2008",
         "1.927",
         "-0.8030444964871194",
         "0.5588259909271025",
         "1.2443281258728984",
         "-0.12251804495166992",
         "-0.07383643642019086"
        ],
        [
         "46",
         "14",
         "1898",
         "0.6431428571428571",
         "-0.5688524590163935",
         "0.5588259909271025",
         "0.5245767064165641",
         "1.4294538146792026",
         "1.03006487009893"
        ],
        [
         "47",
         "14",
         "203",
         "2.1412568824757927",
         "0.25878220140515223",
         "0.5588259909271025",
         "-0.034123156617821754",
         "-0.07338207035637273",
         "-0.5162373500095909"
        ],
        [
         "48",
         "14",
         "5261",
         "0.5687727423089646",
         "1.331615925058548",
         "0.5588259909271025",
         "-0.9750219054684602",
         "1.4294538146792026",
         "1.5071756301170445"
        ],
        [
         "49",
         "14",
         "256",
         "0.96472049689441",
         "0.6196721311475409",
         "0.5588259909271025",
         "-0.20667455690872225",
         "-0.12251804495166992",
         "-0.07383643642019086"
        ]
       ],
       "shape": {
        "columns": 8,
        "rows": 3830602
       }
      },
      "text/html": [
       "<div>\n",
       "<style scoped>\n",
       "    .dataframe tbody tr th:only-of-type {\n",
       "        vertical-align: middle;\n",
       "    }\n",
       "\n",
       "    .dataframe tbody tr th {\n",
       "        vertical-align: top;\n",
       "    }\n",
       "\n",
       "    .dataframe thead th {\n",
       "        text-align: right;\n",
       "    }\n",
       "</style>\n",
       "<table border=\"1\" class=\"dataframe\">\n",
       "  <thead>\n",
       "    <tr style=\"text-align: right;\">\n",
       "      <th></th>\n",
       "      <th>user_id</th>\n",
       "      <th>video_id</th>\n",
       "      <th>watch_ratio</th>\n",
       "      <th>video_duration</th>\n",
       "      <th>user_watch_ratio_mean</th>\n",
       "      <th>video_watch_ratio_mean</th>\n",
       "      <th>user_feat_watch_ratio_mean</th>\n",
       "      <th>user_category_watch_ratio_mean</th>\n",
       "    </tr>\n",
       "  </thead>\n",
       "  <tbody>\n",
       "    <tr>\n",
       "      <th>0</th>\n",
       "      <td>14</td>\n",
       "      <td>148</td>\n",
       "      <td>0.722103</td>\n",
       "      <td>-0.787354</td>\n",
       "      <td>0.558826</td>\n",
       "      <td>1.061715</td>\n",
       "      <td>0.735789</td>\n",
       "      <td>1.662743</td>\n",
       "    </tr>\n",
       "    <tr>\n",
       "      <th>1</th>\n",
       "      <td>14</td>\n",
       "      <td>183</td>\n",
       "      <td>1.907377</td>\n",
       "      <td>-0.779625</td>\n",
       "      <td>0.558826</td>\n",
       "      <td>1.285246</td>\n",
       "      <td>-0.122518</td>\n",
       "      <td>-0.073836</td>\n",
       "    </tr>\n",
       "    <tr>\n",
       "      <th>2</th>\n",
       "      <td>14</td>\n",
       "      <td>3649</td>\n",
       "      <td>2.063311</td>\n",
       "      <td>0.336768</td>\n",
       "      <td>0.558826</td>\n",
       "      <td>-0.196588</td>\n",
       "      <td>-0.765165</td>\n",
       "      <td>-0.073836</td>\n",
       "    </tr>\n",
       "    <tr>\n",
       "      <th>3</th>\n",
       "      <td>14</td>\n",
       "      <td>5262</td>\n",
       "      <td>0.566388</td>\n",
       "      <td>-0.356206</td>\n",
       "      <td>0.558826</td>\n",
       "      <td>0.452844</td>\n",
       "      <td>-0.270903</td>\n",
       "      <td>1.140845</td>\n",
       "    </tr>\n",
       "    <tr>\n",
       "      <th>4</th>\n",
       "      <td>14</td>\n",
       "      <td>8234</td>\n",
       "      <td>0.418364</td>\n",
       "      <td>0.367916</td>\n",
       "      <td>0.558826</td>\n",
       "      <td>-0.221446</td>\n",
       "      <td>-0.175920</td>\n",
       "      <td>0.686910</td>\n",
       "    </tr>\n",
       "    <tr>\n",
       "      <th>...</th>\n",
       "      <td>...</td>\n",
       "      <td>...</td>\n",
       "      <td>...</td>\n",
       "      <td>...</td>\n",
       "      <td>...</td>\n",
       "      <td>...</td>\n",
       "      <td>...</td>\n",
       "      <td>...</td>\n",
       "    </tr>\n",
       "    <tr>\n",
       "      <th>3830597</th>\n",
       "      <td>7162</td>\n",
       "      <td>9177</td>\n",
       "      <td>0.142857</td>\n",
       "      <td>6.504918</td>\n",
       "      <td>0.716789</td>\n",
       "      <td>-1.796737</td>\n",
       "      <td>1.274611</td>\n",
       "      <td>1.136875</td>\n",
       "    </tr>\n",
       "    <tr>\n",
       "      <th>3830598</th>\n",
       "      <td>7162</td>\n",
       "      <td>4987</td>\n",
       "      <td>1.234848</td>\n",
       "      <td>-0.295550</td>\n",
       "      <td>0.716789</td>\n",
       "      <td>0.446340</td>\n",
       "      <td>-0.002456</td>\n",
       "      <td>-0.230581</td>\n",
       "    </tr>\n",
       "    <tr>\n",
       "      <th>3830599</th>\n",
       "      <td>7162</td>\n",
       "      <td>7988</td>\n",
       "      <td>1.024412</td>\n",
       "      <td>9.341920</td>\n",
       "      <td>0.716789</td>\n",
       "      <td>-1.840603</td>\n",
       "      <td>1.274611</td>\n",
       "      <td>1.136875</td>\n",
       "    </tr>\n",
       "    <tr>\n",
       "      <th>3830600</th>\n",
       "      <td>7162</td>\n",
       "      <td>6533</td>\n",
       "      <td>0.273750</td>\n",
       "      <td>-0.334660</td>\n",
       "      <td>0.716789</td>\n",
       "      <td>0.344813</td>\n",
       "      <td>-0.002456</td>\n",
       "      <td>-0.230581</td>\n",
       "    </tr>\n",
       "    <tr>\n",
       "      <th>3830601</th>\n",
       "      <td>7162</td>\n",
       "      <td>6523</td>\n",
       "      <td>1.641489</td>\n",
       "      <td>-0.509133</td>\n",
       "      <td>0.716789</td>\n",
       "      <td>0.339945</td>\n",
       "      <td>0.162033</td>\n",
       "      <td>0.930581</td>\n",
       "    </tr>\n",
       "  </tbody>\n",
       "</table>\n",
       "<p>3830602 rows × 8 columns</p>\n",
       "</div>"
      ],
      "text/plain": [
       "         user_id  video_id  watch_ratio  video_duration  \\\n",
       "0             14       148     0.722103       -0.787354   \n",
       "1             14       183     1.907377       -0.779625   \n",
       "2             14      3649     2.063311        0.336768   \n",
       "3             14      5262     0.566388       -0.356206   \n",
       "4             14      8234     0.418364        0.367916   \n",
       "...          ...       ...          ...             ...   \n",
       "3830597     7162      9177     0.142857        6.504918   \n",
       "3830598     7162      4987     1.234848       -0.295550   \n",
       "3830599     7162      7988     1.024412        9.341920   \n",
       "3830600     7162      6533     0.273750       -0.334660   \n",
       "3830601     7162      6523     1.641489       -0.509133   \n",
       "\n",
       "         user_watch_ratio_mean  video_watch_ratio_mean  \\\n",
       "0                     0.558826                1.061715   \n",
       "1                     0.558826                1.285246   \n",
       "2                     0.558826               -0.196588   \n",
       "3                     0.558826                0.452844   \n",
       "4                     0.558826               -0.221446   \n",
       "...                        ...                     ...   \n",
       "3830597               0.716789               -1.796737   \n",
       "3830598               0.716789                0.446340   \n",
       "3830599               0.716789               -1.840603   \n",
       "3830600               0.716789                0.344813   \n",
       "3830601               0.716789                0.339945   \n",
       "\n",
       "         user_feat_watch_ratio_mean  user_category_watch_ratio_mean  \n",
       "0                          0.735789                        1.662743  \n",
       "1                         -0.122518                       -0.073836  \n",
       "2                         -0.765165                       -0.073836  \n",
       "3                         -0.270903                        1.140845  \n",
       "4                         -0.175920                        0.686910  \n",
       "...                             ...                             ...  \n",
       "3830597                    1.274611                        1.136875  \n",
       "3830598                   -0.002456                       -0.230581  \n",
       "3830599                    1.274611                        1.136875  \n",
       "3830600                   -0.002456                       -0.230581  \n",
       "3830601                    0.162033                        0.930581  \n",
       "\n",
       "[3830602 rows x 8 columns]"
      ]
     },
     "execution_count": 4,
     "metadata": {},
     "output_type": "execute_result"
    }
   ],
   "source": [
    "small_matrix_final"
   ]
  },
  {
   "cell_type": "markdown",
   "id": "9f010067",
   "metadata": {},
   "source": [
    "# Recommender system"
   ]
  },
  {
   "cell_type": "markdown",
   "id": "616f46c1",
   "metadata": {},
   "source": [
    "### Define function to get recomendations of a given user"
   ]
  },
  {
   "cell_type": "code",
   "execution_count": 5,
   "id": "157e1ab7",
   "metadata": {},
   "outputs": [],
   "source": [
    "def get_user_recommendation_data(user: int):\n",
    "    preds = model.predict(small_matrix_final[small_matrix_final[\"user_id\"] == user][[col for col in small_matrix_final.columns if col not in [\"watch_ratio\", \"user_id\", \"video_id\"]]], batch_size=2048, verbose=None).flatten()\n",
    "    user_mat = small_matrix_final[small_matrix_final[\"user_id\"] == user].reset_index(drop=True)\n",
    "    to_recommend_index = np.flip(preds.argsort())\n",
    "    to_recommend = user_mat[\"video_id\"][to_recommend_index].values\n",
    "\n",
    "    ground_truth_index = np.flip(user_mat[\"watch_ratio\"].values.argsort())\n",
    "    ground_truth = user_mat[\"video_id\"][ground_truth_index].values\n",
    "\n",
    "    return to_recommend, ground_truth"
   ]
  },
  {
   "cell_type": "markdown",
   "id": "925bfaa3",
   "metadata": {},
   "source": [
    "### Predict top 10 videos to recommend to some user"
   ]
  },
  {
   "cell_type": "code",
   "execution_count": 6,
   "id": "037909ca",
   "metadata": {},
   "outputs": [
    {
     "name": "stdout",
     "output_type": "stream",
     "text": [
      "predictions: [4040  600  314 2263 8298 3713 3686 9013 6868 2130]\n",
      "ground_truth: [6282 9178 8248 5638 7799 9683 6970 1314 7253  557]\n"
     ]
    }
   ],
   "source": [
    "sample_user = 946\n",
    "preds, ground_truth = get_user_recommendation_data(sample_user)\n",
    "print(f\"predictions: {preds[:10]}\")\n",
    "print(f\"ground_truth: {ground_truth[:10]}\")"
   ]
  },
  {
   "cell_type": "markdown",
   "id": "bd0b2cb8",
   "metadata": {},
   "source": [
    "### Calculate ndcg score for this user"
   ]
  },
  {
   "cell_type": "code",
   "execution_count": 7,
   "id": "1ed283f9",
   "metadata": {},
   "outputs": [
    {
     "data": {
      "text/plain": [
       "np.float64(0.4684393248800202)"
      ]
     },
     "execution_count": 7,
     "metadata": {},
     "output_type": "execute_result"
    }
   ],
   "source": [
    "ndcg_score([ground_truth], [preds], k=10)"
   ]
  },
  {
   "cell_type": "markdown",
   "id": "f51d7e0f",
   "metadata": {},
   "source": [
    "# Evaluating metrics"
   ]
  },
  {
   "cell_type": "markdown",
   "id": "9fcd6e8d",
   "metadata": {},
   "source": [
    "### Evaluate mean NDCG metric on all users\n",
    "We are using NDCG@K because it is a metrics that looks into the ranking of the predictions"
   ]
  },
  {
   "cell_type": "code",
   "execution_count": 8,
   "id": "e293d186",
   "metadata": {},
   "outputs": [
    {
     "name": "stderr",
     "output_type": "stream",
     "text": [
      "  0%|          | 0/1354 [00:00<?, ?it/s]"
     ]
    },
    {
     "name": "stderr",
     "output_type": "stream",
     "text": [
      "100%|██████████| 1354/1354 [01:10<00:00, 19.17it/s]"
     ]
    },
    {
     "name": "stdout",
     "output_type": "stream",
     "text": [
      "Average NDCG@5 over users: 0.4717\n"
     ]
    },
    {
     "name": "stderr",
     "output_type": "stream",
     "text": [
      "\n"
     ]
    }
   ],
   "source": [
    "ndcg_5_list = []\n",
    "for user_id in tqdm(small_matrix_final[\"user_id\"].unique()):\n",
    "    user_df = small_matrix_final[small_matrix_final[\"user_id\"] == user_id]\n",
    "    recommendations, ground_truth = get_user_recommendation_data(user_id)\n",
    "    \n",
    "    if len(ground_truth) >= 5:\n",
    "        ndcg_5_list.append(ndcg_score([ground_truth], [recommendations], k=10))\n",
    "\n",
    "avg_ndcg_5 = np.mean(ndcg_5_list)\n",
    "print(f\"Average NDCG@5 over users: {avg_ndcg_5:.4f}\")"
   ]
  },
  {
   "cell_type": "markdown",
   "id": "c2f4f86d",
   "metadata": {},
   "source": [
    "### Create function to predict recommendations using the video's average watch_ratio as baseline"
   ]
  },
  {
   "cell_type": "code",
   "execution_count": 9,
   "id": "baef4209",
   "metadata": {},
   "outputs": [],
   "source": [
    "def get_user_recommendation_data_baseline(user: int):\n",
    "    preds = np.array(small_matrix_final[small_matrix_final[\"user_id\"] == user][\"video_watch_ratio_mean\"].to_list())\n",
    "    user_mat = small_matrix_final[small_matrix_final[\"user_id\"] == user].reset_index(drop=True)\n",
    "    to_recommend_index = np.flip(preds.argsort())\n",
    "    to_recommend = user_mat[\"video_id\"][to_recommend_index].values\n",
    "\n",
    "    ground_truth_index = np.flip(user_mat[\"watch_ratio\"].values.argsort())\n",
    "    ground_truth = user_mat[\"video_id\"][ground_truth_index].values\n",
    "\n",
    "    return to_recommend, ground_truth"
   ]
  },
  {
   "cell_type": "markdown",
   "id": "980df2f5",
   "metadata": {},
   "source": [
    "### Check the NDCG score using our baseline"
   ]
  },
  {
   "cell_type": "code",
   "execution_count": 10,
   "id": "32e11558",
   "metadata": {},
   "outputs": [
    {
     "name": "stderr",
     "output_type": "stream",
     "text": [
      "  0%|          | 0/1354 [00:00<?, ?it/s]"
     ]
    },
    {
     "name": "stderr",
     "output_type": "stream",
     "text": [
      "100%|██████████| 1354/1354 [00:10<00:00, 130.02it/s]"
     ]
    },
    {
     "name": "stdout",
     "output_type": "stream",
     "text": [
      "Average NDCG@5 over users: 0.4751\n"
     ]
    },
    {
     "name": "stderr",
     "output_type": "stream",
     "text": [
      "\n"
     ]
    }
   ],
   "source": [
    "ndcg_5_list = []\n",
    "for user_id in tqdm(small_matrix_final[\"user_id\"].unique()):\n",
    "    user_df = small_matrix_final[small_matrix_final[\"user_id\"] == user_id]\n",
    "    recommendations, ground_truth = get_user_recommendation_data_baseline(user_id)\n",
    "    \n",
    "    if len(ground_truth) >= 5:\n",
    "        ndcg_5_list.append(ndcg_score([ground_truth], [recommendations], k=10))\n",
    "\n",
    "avg_ndcg_5 = np.mean(ndcg_5_list)\n",
    "print(f\"Average NDCG@5 over users: {avg_ndcg_5:.4f}\")"
   ]
  },
  {
   "cell_type": "markdown",
   "id": "068d5f90",
   "metadata": {},
   "source": [
    "As we can see, our ai model is approximately on the same level as our baseline, which means that it didn't succeed in learning complex correlations between the different data.\\\n",
    "Unfortunately, because of my computer's limitations, I wasn't able to include all desired features into this model. Maybe further research and data analysis could have lead to a more optimized approach."
   ]
  },
  {
   "cell_type": "markdown",
   "id": "f58868aa",
   "metadata": {},
   "source": [
    "# Looking into other acceptable metrics"
   ]
  },
  {
   "cell_type": "markdown",
   "id": "c2ad42df",
   "metadata": {},
   "source": [
    "As we saw before, our model isn't really efficient.\\\n",
    "However, the ranking of every single video isn't really the most important part of a video recommender system such as Kuaishou or Tiktok.\\\n",
    "In fact, the important part is to be able to recommend good videos, and avoid bad ones.\n",
    "\n",
    "Having this in mind, we can group the videos with similar watch ratios and ignore the exact ranks between videos of similar rank.\\\n",
    "To achieve this, we will round the predicted watch ratio, leaving us with a watch ratio belonging to this set: {0, 1, 2, 3, 4, 5}\n",
    "\n",
    "While I know that this has limitations (like the fact that a watch ratio of 1.49 and 1.51 will be considered very differently) and that this method doesn't improve our ai model, it is still an acceptable metric.\n",
    "\n",
    "In the following code, the videos will be sorted by rounded watch ratio and then by their video id. This last part is to be able to evaluate its ranking with our ground_truth.\\\n",
    "In reality, we could recommend any video within the best watch ratio predicted"
   ]
  },
  {
   "cell_type": "code",
   "execution_count": 11,
   "id": "4c9b664d",
   "metadata": {},
   "outputs": [],
   "source": [
    "def get_user_recommendation_data_rounded(user: int):\n",
    "    user_mat = small_matrix_final[small_matrix_final[\"user_id\"] == user].reset_index(drop=True)\n",
    "    preds = model.predict(user_mat[[col for col in small_matrix_final.columns if col not in [\"watch_ratio\", \"user_id\", \"video_id\"]]], batch_size=2048, verbose=None).flatten()\n",
    "\n",
    "    user_mat[\"preds_rounded\"] = pd.Series(np.around(preds))\n",
    "    user_mat[\"watch_ratio_rounded\"] = pd.Series(np.around(user_mat[\"watch_ratio\"].to_numpy()))\n",
    "\n",
    "    to_recommend = user_mat.sort_values([\"preds_rounded\", \"video_id\"])[\"video_id\"]\n",
    "    ground_truth = user_mat.sort_values([\"watch_ratio_rounded\", \"video_id\"])[\"video_id\"]\n",
    "\n",
    "    return to_recommend, ground_truth"
   ]
  },
  {
   "cell_type": "markdown",
   "id": "e6135473",
   "metadata": {},
   "source": [
    "### Evaluate mean NDCG metric on all users"
   ]
  },
  {
   "cell_type": "code",
   "execution_count": 12,
   "id": "8c99f1b3",
   "metadata": {},
   "outputs": [
    {
     "name": "stderr",
     "output_type": "stream",
     "text": [
      "  0%|          | 0/1354 [00:00<?, ?it/s]"
     ]
    },
    {
     "name": "stderr",
     "output_type": "stream",
     "text": [
      "100%|██████████| 1354/1354 [01:11<00:00, 18.90it/s]"
     ]
    },
    {
     "name": "stdout",
     "output_type": "stream",
     "text": [
      "Average NDCG@5 over users: 0.6127\n"
     ]
    },
    {
     "name": "stderr",
     "output_type": "stream",
     "text": [
      "\n"
     ]
    }
   ],
   "source": [
    "ndcg_5_list = []\n",
    "for user_id in tqdm(small_matrix_final[\"user_id\"].unique()):\n",
    "    user_df = small_matrix_final[small_matrix_final[\"user_id\"] == user_id]\n",
    "    recommendations, ground_truth = get_user_recommendation_data_rounded(user_id)\n",
    "    \n",
    "    if len(ground_truth) >= 5:\n",
    "        ndcg_5_list.append(ndcg_score([ground_truth], [recommendations], k=10))\n",
    "\n",
    "avg_ndcg_5 = np.mean(ndcg_5_list)\n",
    "print(f\"Average NDCG@5 over users: {avg_ndcg_5:.4f}\")"
   ]
  },
  {
   "cell_type": "markdown",
   "id": "a8202d3d",
   "metadata": {},
   "source": [
    "This improved result tells us that our ai model, while not being able to rank every single video efficiently enough, is able to somewhat tell apart good videos from bad videos."
   ]
  },
  {
   "cell_type": "code",
   "execution_count": 13,
   "id": "61a8e8bb",
   "metadata": {},
   "outputs": [],
   "source": [
    "def get_user_recommendation_data_baseline_bis(user: int):\n",
    "    user_mat = small_matrix_final[small_matrix_final[\"user_id\"] == user].reset_index(drop=True)\n",
    "    preds = np.array(user_mat[\"video_watch_ratio_mean\"].to_list())\n",
    "    \n",
    "    user_mat[\"preds_rounded\"] = pd.Series(np.around(preds))\n",
    "    user_mat[\"watch_ratio_rounded\"] = pd.Series(np.around(user_mat[\"watch_ratio\"].to_numpy()))\n",
    "    \n",
    "    to_recommend = user_mat.sort_values([\"preds_rounded\", \"video_id\"])[\"video_id\"]\n",
    "    ground_truth = user_mat.sort_values([\"watch_ratio_rounded\", \"video_id\"])[\"video_id\"]\n",
    "\n",
    "    return to_recommend, ground_truth"
   ]
  },
  {
   "cell_type": "markdown",
   "id": "1fce77da",
   "metadata": {},
   "source": [
    "### Check the NDCG score using our baseline"
   ]
  },
  {
   "cell_type": "code",
   "execution_count": 14,
   "id": "e8643158",
   "metadata": {},
   "outputs": [
    {
     "name": "stderr",
     "output_type": "stream",
     "text": [
      "  0%|          | 0/1354 [00:00<?, ?it/s]"
     ]
    },
    {
     "name": "stderr",
     "output_type": "stream",
     "text": [
      "100%|██████████| 1354/1354 [00:10<00:00, 131.45it/s]"
     ]
    },
    {
     "name": "stdout",
     "output_type": "stream",
     "text": [
      "Average NDCG@5 over users: 0.6073\n"
     ]
    },
    {
     "name": "stderr",
     "output_type": "stream",
     "text": [
      "\n"
     ]
    }
   ],
   "source": [
    "ndcg_5_list = []\n",
    "for user_id in tqdm(small_matrix_final[\"user_id\"].unique()):\n",
    "    user_df = small_matrix_final[small_matrix_final[\"user_id\"] == user_id]\n",
    "    recommendations, ground_truth = get_user_recommendation_data_baseline_bis(user_id)\n",
    "    \n",
    "    if len(ground_truth) >= 5:\n",
    "        ndcg_5_list.append(ndcg_score([ground_truth], [recommendations], k=10))\n",
    "\n",
    "avg_ndcg_5 = np.mean(ndcg_5_list)\n",
    "print(f\"Average NDCG@5 over users: {avg_ndcg_5:.4f}\")"
   ]
  },
  {
   "cell_type": "markdown",
   "id": "918765aa",
   "metadata": {},
   "source": [
    "Seing as our baseline (using the video's global average watch_ratio) is still quite close to our model's metrics, we can conclude that ou ai model wasn't able to get a good grasp of a user's specific feature and is only based on the video's global popularity."
   ]
  }
 ],
 "metadata": {
  "kernelspec": {
   "display_name": "rema",
   "language": "python",
   "name": "python3"
  },
  "language_info": {
   "codemirror_mode": {
    "name": "ipython",
    "version": 3
   },
   "file_extension": ".py",
   "mimetype": "text/x-python",
   "name": "python",
   "nbconvert_exporter": "python",
   "pygments_lexer": "ipython3",
   "version": "3.11.12"
  }
 },
 "nbformat": 4,
 "nbformat_minor": 5
}
