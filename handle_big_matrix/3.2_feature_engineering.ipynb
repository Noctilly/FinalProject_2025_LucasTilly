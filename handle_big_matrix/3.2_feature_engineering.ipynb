{
 "cells": [
  {
   "cell_type": "markdown",
   "id": "5eda1631",
   "metadata": {},
   "source": [
    "## Import necessary libraries"
   ]
  },
  {
   "cell_type": "code",
   "execution_count": null,
   "id": "41713721",
   "metadata": {},
   "outputs": [],
   "source": [
    "# Data imports\n",
    "import pandas as pd"
   ]
  },
  {
   "cell_type": "markdown",
   "id": "b41a6895",
   "metadata": {},
   "source": [
    "# Prepare environment"
   ]
  },
  {
   "cell_type": "code",
   "execution_count": null,
   "id": "37730971",
   "metadata": {},
   "outputs": [],
   "source": [
    "INTERMEDIATE_SAVE_PATH = \"../data/big_matrix_intermediate_saves/\""
   ]
  },
  {
   "cell_type": "markdown",
   "id": "893c4984",
   "metadata": {},
   "source": [
    "# Load Data"
   ]
  },
  {
   "cell_type": "code",
   "execution_count": null,
   "id": "aec3c5db",
   "metadata": {},
   "outputs": [],
   "source": [
    "final_data = pd.read_parquet(\"data/final_data.parquet\")\n",
    "user_features = pd.read_parquet(\"data/user_features.parquet\")"
   ]
  },
  {
   "cell_type": "markdown",
   "id": "056456af",
   "metadata": {},
   "source": [
    "# Data preprocess for AI"
   ]
  },
  {
   "cell_type": "markdown",
   "id": "fae10034",
   "metadata": {},
   "source": [
    "### Final data cleanup and merging of all user features"
   ]
  },
  {
   "cell_type": "code",
   "execution_count": null,
   "id": "c2a830eb",
   "metadata": {},
   "outputs": [],
   "source": [
    "# Copy Dataframe\n",
    "final_data = final_data.copy()\n",
    "\n",
    "# Merge all user features\n",
    "final_data = final_data.merge(user_features, on=\"user_id\", how=\"left\")\n",
    "\n",
    "# Encode columns to be easier to work with\n",
    "final_data['user_active_degree'] = pd.factorize(final_data['user_active_degree'])[0]\n",
    "final_data['follow_user_num_range'] = pd.factorize(final_data['follow_user_num_range'])[0]\n",
    "final_data['fans_user_num_range'] = pd.factorize(final_data['fans_user_num_range'])[0]\n",
    "final_data['friend_user_num_range'] = pd.factorize(final_data['friend_user_num_range'])[0]\n",
    "final_data['register_days_range'] = pd.factorize(final_data['register_days_range'])[0]\n",
    "\n",
    "final_data"
   ]
  },
  {
   "cell_type": "code",
   "execution_count": null,
   "id": "2471ada5",
   "metadata": {},
   "outputs": [],
   "source": [
    "final_data.to_parquet(INTERMEDIATE_SAVE_PATH + \"merged.parquet\", index=True)"
   ]
  }
 ],
 "metadata": {
  "kernelspec": {
   "display_name": "rema",
   "language": "python",
   "name": "python3"
  },
  "language_info": {
   "codemirror_mode": {
    "name": "ipython",
    "version": 3
   },
   "file_extension": ".py",
   "mimetype": "text/x-python",
   "name": "python",
   "nbconvert_exporter": "python",
   "pygments_lexer": "ipython3",
   "version": "3.11.12"
  }
 },
 "nbformat": 4,
 "nbformat_minor": 5
}
