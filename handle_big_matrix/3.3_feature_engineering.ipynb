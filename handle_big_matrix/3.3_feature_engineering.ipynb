{
 "cells": [
  {
   "cell_type": "markdown",
   "id": "5eda1631",
   "metadata": {},
   "source": [
    "## Import necessary libraries"
   ]
  },
  {
   "cell_type": "code",
   "execution_count": 1,
   "id": "41713721",
   "metadata": {},
   "outputs": [],
   "source": [
    "# Data imports\n",
    "import numpy as np\n",
    "import pandas as pd\n",
    "from pathlib import Path"
   ]
  },
  {
   "cell_type": "markdown",
   "id": "9b521f52",
   "metadata": {},
   "source": [
    "# Prepare environment"
   ]
  },
  {
   "cell_type": "code",
   "execution_count": 2,
   "id": "1088bdcb",
   "metadata": {},
   "outputs": [],
   "source": [
    "TRAIN_TEST_SPLIT = 0.8\n",
    "CORR_THRESHOLD = 0.2\n",
    "\n",
    "INTERMEDIATE_SAVE_PATH = \"../data/big_matrix_intermediate_saves/\"\n",
    "FEATURES_PATH = \"../data/features/\"\n",
    "Path(FEATURES_PATH).mkdir(parents=True, exist_ok=True)"
   ]
  },
  {
   "cell_type": "markdown",
   "id": "893c4984",
   "metadata": {},
   "source": [
    "# Load Data"
   ]
  },
  {
   "cell_type": "code",
   "execution_count": 3,
   "id": "7388d822",
   "metadata": {},
   "outputs": [],
   "source": [
    "final_data = pd.read_parquet(INTERMEDIATE_SAVE_PATH + \"merged.parquet\")"
   ]
  },
  {
   "cell_type": "markdown",
   "id": "de51d57f",
   "metadata": {},
   "source": [
    "## Only keep meaningful features"
   ]
  },
  {
   "cell_type": "code",
   "execution_count": 4,
   "id": "f57c2054",
   "metadata": {},
   "outputs": [
    {
     "name": "stderr",
     "output_type": "stream",
     "text": [
      "/tmp/ipykernel_65663/1643261037.py:1: FutureWarning: The default value of numeric_only in DataFrame.corr is deprecated. In a future version, it will default to False. Select only valid columns or specify the value of numeric_only to silence this warning.\n",
      "  corr = final_data.corr()[\"watch_ratio\"]\n"
     ]
    },
    {
     "data": {
      "text/plain": [
       "user_id                   0.002042\n",
       "video_id                  0.006473\n",
       "watch_ratio               1.000000\n",
       "video_length             -0.377591\n",
       "watch_ratio_mean          0.245538\n",
       "video_length_mean        -0.090627\n",
       "hour                     -0.027887\n",
       "watch_ratio_prior_mean    0.425180\n",
       "user_active_degree        0.018499\n",
       "is_lowactive_period      -0.001360\n",
       "is_live_streamer         -0.002419\n",
       "is_video_author          -0.012812\n",
       "follow_user_num          -0.029347\n",
       "follow_user_num_range    -0.036898\n",
       "fans_user_num            -0.003021\n",
       "fans_user_num_range      -0.000658\n",
       "friend_user_num          -0.009170\n",
       "friend_user_num_range    -0.019949\n",
       "register_days            -0.003993\n",
       "register_days_range       0.001837\n",
       "onehot_feat0              0.007653\n",
       "onehot_feat1             -0.043668\n",
       "onehot_feat2              0.012449\n",
       "onehot_feat3              0.010472\n",
       "onehot_feat4             -0.012896\n",
       "onehot_feat5             -0.003356\n",
       "onehot_feat6              0.010846\n",
       "onehot_feat7             -0.011087\n",
       "onehot_feat8              0.003482\n",
       "onehot_feat9              0.005763\n",
       "onehot_feat10             0.002228\n",
       "onehot_feat11            -0.007471\n",
       "onehot_feat12            -0.016403\n",
       "onehot_feat13            -0.009707\n",
       "onehot_feat14            -0.002460\n",
       "onehot_feat15             0.005080\n",
       "onehot_feat16             0.004871\n",
       "onehot_feat17             0.005102\n",
       "Name: watch_ratio, dtype: float64"
      ]
     },
     "execution_count": 4,
     "metadata": {},
     "output_type": "execute_result"
    }
   ],
   "source": [
    "corr = final_data.corr()[\"watch_ratio\"]\n",
    "corr"
   ]
  },
  {
   "cell_type": "code",
   "execution_count": 5,
   "id": "d6978ff6",
   "metadata": {},
   "outputs": [
    {
     "data": {
      "text/plain": [
       "watch_ratio               1.000000\n",
       "watch_ratio_mean          0.245538\n",
       "watch_ratio_prior_mean    0.425180\n",
       "Name: watch_ratio, dtype: float64"
      ]
     },
     "execution_count": 5,
     "metadata": {},
     "output_type": "execute_result"
    }
   ],
   "source": [
    "corr[corr > CORR_THRESHOLD]"
   ]
  },
  {
   "cell_type": "code",
   "execution_count": 6,
   "id": "8e8d8b00",
   "metadata": {},
   "outputs": [],
   "source": [
    "final_data = final_data[[\"time\", \"user_id\", \"video_id\"] + corr[corr > CORR_THRESHOLD].index.to_list()]"
   ]
  },
  {
   "cell_type": "markdown",
   "id": "1b8ec3c2",
   "metadata": {},
   "source": [
    "## Save Data for AI"
   ]
  },
  {
   "cell_type": "code",
   "execution_count": 7,
   "id": "4a435e67",
   "metadata": {},
   "outputs": [],
   "source": [
    "final_data.to_parquet(FEATURES_PATH + \"big_matrix_final.parquet\", index=True)"
   ]
  }
 ],
 "metadata": {
  "kernelspec": {
   "display_name": "rema",
   "language": "python",
   "name": "python3"
  },
  "language_info": {
   "codemirror_mode": {
    "name": "ipython",
    "version": 3
   },
   "file_extension": ".py",
   "mimetype": "text/x-python",
   "name": "python",
   "nbconvert_exporter": "python",
   "pygments_lexer": "ipython3",
   "version": "3.11.12"
  }
 },
 "nbformat": 4,
 "nbformat_minor": 5
}
