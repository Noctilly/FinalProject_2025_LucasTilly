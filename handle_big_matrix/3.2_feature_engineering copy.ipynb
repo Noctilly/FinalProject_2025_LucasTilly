{
 "cells": [
  {
   "cell_type": "markdown",
   "id": "5eda1631",
   "metadata": {},
   "source": [
    "## Import necessary libraries"
   ]
  },
  {
   "cell_type": "code",
   "execution_count": 1,
   "id": "41713721",
   "metadata": {},
   "outputs": [],
   "source": [
    "# Data imports\n",
    "import numpy as np\n",
    "import pandas as pd\n",
    "import warnings\n",
    "import re\n",
    "\n",
    "\n",
    "SEED = 42\n",
    "TRAIN_TEST_SPLIT = 0.8\n",
    "CORR_THRESHOLD = 0.2\n",
    "\n",
    "warnings.filterwarnings(\"ignore\")\n",
    "np.random.seed(SEED)"
   ]
  },
  {
   "cell_type": "markdown",
   "id": "893c4984",
   "metadata": {},
   "source": [
    "# Load Data"
   ]
  },
  {
   "cell_type": "code",
   "execution_count": 2,
   "id": "aec3c5db",
   "metadata": {},
   "outputs": [],
   "source": [
    "df = pd.read_parquet(\"data/final_data.parquet\")\n",
    "user_features = pd.read_parquet(\"data/user_features.parquet\")"
   ]
  },
  {
   "cell_type": "markdown",
   "id": "056456af",
   "metadata": {},
   "source": [
    "# Data preprocess for AI"
   ]
  },
  {
   "cell_type": "code",
   "execution_count": 3,
   "id": "aa332177",
   "metadata": {},
   "outputs": [],
   "source": [
    "def range_to_mean(val):\n",
    "    if '500+' in val:\n",
    "        return 500  # or a higher estimate if preferred\n",
    "    match = re.match(r'\\((\\d+),(\\d+)\\]', val)\n",
    "    if match:\n",
    "        low, high = map(int, match.groups())\n",
    "        return (low + high) / 2\n",
    "    return np.nan  # fallback in case of unexpected format\n",
    "\n",
    "def range_to_mean_bis(val):\n",
    "    if '0' in val:\n",
    "        return 0  # or a higher estimate if preferred\n",
    "    match = re.match(r'\\[(\\d+),(\\d+)\\)', val)\n",
    "    if match:\n",
    "        low, high = map(int, match.groups())\n",
    "        return (low + high) / 2\n",
    "    return np.nan  # fallback in case of unexpected format\n",
    "\n",
    "def days_to_mean(val):\n",
    "    if '500+' in val:\n",
    "        return 500  # or a higher estimate if preferred\n",
    "    match = re.match(r'(\\d+)-(\\d+)', val)\n",
    "    if match:\n",
    "        low, high = map(int, match.groups())    \n",
    "        return (low + high) / 2\n",
    "    return np.nan  # fallback in case of unexpected format"
   ]
  },
  {
   "cell_type": "code",
   "execution_count": 4,
   "id": "c2a830eb",
   "metadata": {},
   "outputs": [],
   "source": [
    "final_data = df.copy()\n",
    "final_data = final_data.merge(user_features, on=\"user_id\", how=\"left\")\n",
    "#final_data = final_data.merge(videos_pca_train, on=\"video_id\", how=\"left\")\n",
    "#final_data = final_data.drop(columns=[\"user_id\", \"video_id\"])\n",
    "final_data['user_active_degree'] = pd.factorize(final_data['user_active_degree'])[0]\n",
    "\n",
    "final_data['follow_user_num_range'] = final_data['follow_user_num_range'].apply(range_to_mean)\n",
    "final_data['fans_user_num_range'] = final_data['fans_user_num_range'].apply(range_to_mean_bis)\n",
    "final_data['friend_user_num_range'] = final_data['friend_user_num_range'].apply(range_to_mean_bis)\n",
    "final_data['register_days_range'] = final_data['register_days_range'].apply(days_to_mean)\n",
    "final_data = final_data.fillna(0)"
   ]
  },
  {
   "cell_type": "code",
   "execution_count": 5,
   "id": "2471ada5",
   "metadata": {},
   "outputs": [],
   "source": [
    "final_data.to_parquet(\"data/merged.parquet\", index=True)"
   ]
  }
 ],
 "metadata": {
  "kernelspec": {
   "display_name": "rema",
   "language": "python",
   "name": "python3"
  },
  "language_info": {
   "codemirror_mode": {
    "name": "ipython",
    "version": 3
   },
   "file_extension": ".py",
   "mimetype": "text/x-python",
   "name": "python",
   "nbconvert_exporter": "python",
   "pygments_lexer": "ipython3",
   "version": "3.11.12"
  }
 },
 "nbformat": 4,
 "nbformat_minor": 5
}
